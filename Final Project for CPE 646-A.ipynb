{
 "cells": [
  {
   "cell_type": "raw",
   "id": "28c810e6-d81b-42b7-81f5-6ced3740e82a",
   "metadata": {},
   "source": [
    "!pip install keras"
   ]
  },
  {
   "cell_type": "raw",
   "id": "30c95b4a-4ab4-4def-b97f-6a1131d6aa83",
   "metadata": {},
   "source": [
    "!pip install np_utils"
   ]
  },
  {
   "cell_type": "code",
   "execution_count": 1,
   "id": "bc25a871-0897-486d-8173-dacbe24d0e0d",
   "metadata": {},
   "outputs": [],
   "source": [
    "# Importing Important Libraries\n",
    "import numpy as np\n",
    "import pandas as pd\n",
    "import seaborn as sns\n",
    "import matplotlib.pyplot as plt\n",
    "from sklearn.metrics import classification_report\n",
    "from sklearn.model_selection import train_test_split\n",
    "from sklearn.metrics import f1_score\n",
    "from sklearn.metrics import confusion_matrix\n",
    "from tensorflow.keras.utils import to_categorical\n",
    "from sklearn.utils import class_weight\n",
    "import warnings\n",
    "warnings.filterwarnings('ignore')"
   ]
  },
  {
   "cell_type": "code",
   "execution_count": 2,
   "id": "a45e8f36-586b-481d-a69a-2e6d56bf5dbe",
   "metadata": {},
   "outputs": [],
   "source": [
    "from mpl_toolkits.mplot3d import Axes3D"
   ]
  },
  {
   "cell_type": "markdown",
   "id": "6c630412-c883-437c-85cb-5cc7d31786dd",
   "metadata": {},
   "source": [
    "# Data Understanding"
   ]
  },
  {
   "cell_type": "code",
   "execution_count": 4,
   "id": "a89353fb-1341-498c-93d9-813d34129e79",
   "metadata": {},
   "outputs": [],
   "source": [
    "## MIT-BIH Data\n",
    "ecg_train = pd.read_csv(r\"C:\\Users\\Saydain S\\OneDrive\\Desktop\\ECG Heartbeat Classification DataSet\\mitbih_train.csv\", header=None)\n",
    "ecg_test = pd.read_csv(r\"C:\\Users\\Saydain S\\OneDrive\\Desktop\\ECG Heartbeat Classification DataSet\\mitbih_test.csv\", header=None)"
   ]
  },
  {
   "cell_type": "code",
   "execution_count": 5,
   "id": "43114b4a-4721-4b4b-a307-d59bd7ae7fec",
   "metadata": {},
   "outputs": [
    {
     "name": "stdout",
     "output_type": "stream",
     "text": [
      "187\n",
      "0    72471\n",
      "4     6431\n",
      "2     5788\n",
      "1     2223\n",
      "3      641\n",
      "Name: count, dtype: int64\n"
     ]
    }
   ],
   "source": [
    "# Checking The Class Imbalance of  dataset\n",
    "ecg_train[187] = ecg_train[187].astype(int)\n",
    "equals = ecg_train[187].value_counts()\n",
    "print(equals)"
   ]
  },
  {
   "cell_type": "code",
   "execution_count": 6,
   "id": "fcf38a3a-d773-4770-a4d3-a7c5213841d3",
   "metadata": {},
   "outputs": [
    {
     "name": "stdout",
     "output_type": "stream",
     "text": [
      "MIT Train dataset info\n",
      "<class 'pandas.core.frame.DataFrame'>\n",
      "RangeIndex: 87554 entries, 0 to 87553\n",
      "Columns: 188 entries, 0 to 187\n",
      "dtypes: float64(187), int32(1)\n",
      "memory usage: 125.2 MB\n",
      "None\n",
      "MIT Test dataset info\n",
      "<class 'pandas.core.frame.DataFrame'>\n",
      "RangeIndex: 21892 entries, 0 to 21891\n",
      "Columns: 188 entries, 0 to 187\n",
      "dtypes: float64(188)\n",
      "memory usage: 31.4 MB\n",
      "None\n"
     ]
    }
   ],
   "source": [
    "# Getting the detailed info of both train and test datasets\n",
    "print(\"MIT Train dataset info\")\n",
    "print(ecg_train.info())\n",
    "print(\"MIT Test dataset info\")\n",
    "print(ecg_test.info())"
   ]
  },
  {
   "cell_type": "code",
   "execution_count": 7,
   "id": "54cde3f3-86cc-4018-99d4-0c0477fd3a6f",
   "metadata": {},
   "outputs": [
    {
     "name": "stdout",
     "output_type": "stream",
     "text": [
      "ECG Training Data\n",
      "                 0             1             2             3             4    \\\n",
      "count  87554.000000  87554.000000  87554.000000  87554.000000  87554.000000   \n",
      "mean       0.890360      0.758160      0.423972      0.219104      0.201127   \n",
      "std        0.240909      0.221813      0.227305      0.206878      0.177058   \n",
      "min        0.000000      0.000000      0.000000      0.000000      0.000000   \n",
      "25%        0.921922      0.682486      0.250969      0.048458      0.082329   \n",
      "50%        0.991342      0.826013      0.429472      0.166000      0.147878   \n",
      "75%        1.000000      0.910506      0.578767      0.341727      0.258993   \n",
      "max        1.000000      1.000000      1.000000      1.000000      1.000000   \n",
      "\n",
      "                5             6             7             8             9    \\\n",
      "count  87554.000000  87554.000000  87554.000000  87554.000000  87554.000000   \n",
      "mean       0.210399      0.205808      0.201773      0.198691      0.196757   \n",
      "std        0.171909      0.178481      0.177240      0.171778      0.168357   \n",
      "min        0.000000      0.000000      0.000000      0.000000      0.000000   \n",
      "25%        0.088416      0.073333      0.066116      0.065000      0.068639   \n",
      "50%        0.158798      0.145324      0.144424      0.150000      0.148734   \n",
      "75%        0.287628      0.298237      0.295391      0.290832      0.283636   \n",
      "max        1.000000      1.000000      1.000000      1.000000      1.000000   \n",
      "\n",
      "       ...           178           179           180           181  \\\n",
      "count  ...  87554.000000  87554.000000  87554.000000  87554.000000   \n",
      "mean   ...      0.005025      0.004628      0.004291      0.003945   \n",
      "std    ...      0.044154      0.042089      0.040525      0.038651   \n",
      "min    ...      0.000000      0.000000      0.000000      0.000000   \n",
      "25%    ...      0.000000      0.000000      0.000000      0.000000   \n",
      "50%    ...      0.000000      0.000000      0.000000      0.000000   \n",
      "75%    ...      0.000000      0.000000      0.000000      0.000000   \n",
      "max    ...      1.000000      1.000000      1.000000      1.000000   \n",
      "\n",
      "                182           183           184           185           186  \\\n",
      "count  87554.000000  87554.000000  87554.000000  87554.000000  87554.000000   \n",
      "mean       0.003681      0.003471      0.003221      0.002945      0.002807   \n",
      "std        0.037193      0.036255      0.034789      0.032865      0.031924   \n",
      "min        0.000000      0.000000      0.000000      0.000000      0.000000   \n",
      "25%        0.000000      0.000000      0.000000      0.000000      0.000000   \n",
      "50%        0.000000      0.000000      0.000000      0.000000      0.000000   \n",
      "75%        0.000000      0.000000      0.000000      0.000000      0.000000   \n",
      "max        1.000000      1.000000      1.000000      1.000000      1.000000   \n",
      "\n",
      "                187  \n",
      "count  87554.000000  \n",
      "mean       0.473376  \n",
      "std        1.143184  \n",
      "min        0.000000  \n",
      "25%        0.000000  \n",
      "50%        0.000000  \n",
      "75%        0.000000  \n",
      "max        4.000000  \n",
      "\n",
      "[8 rows x 188 columns]\n",
      "ECG Test Data\n",
      "                 0             1             2             3             4    \\\n",
      "count  21892.000000  21892.000000  21892.000000  21892.000000  21892.000000   \n",
      "mean       0.894410      0.761902      0.426627      0.221596      0.201676   \n",
      "std        0.234560      0.218659      0.228572      0.208711      0.177727   \n",
      "min        0.000000      0.000000      0.000000      0.000000      0.000000   \n",
      "25%        0.924260      0.683366      0.251197      0.050505      0.082873   \n",
      "50%        0.990431      0.828996      0.432777      0.167630      0.147642   \n",
      "75%        1.000000      0.912319      0.583991      0.347092      0.259211   \n",
      "max        1.000000      1.000000      1.000000      1.000000      1.000000   \n",
      "\n",
      "                5             6             7             8             9    \\\n",
      "count  21892.000000  21892.000000  21892.000000  21892.000000  21892.000000   \n",
      "mean       0.209891      0.204805      0.200992      0.197634      0.196022   \n",
      "std        0.172194      0.177946      0.176142      0.170228      0.166707   \n",
      "min        0.000000      0.000000      0.000000      0.000000      0.000000   \n",
      "25%        0.087912      0.072663      0.065997      0.064516      0.068493   \n",
      "50%        0.158111      0.144068      0.144509      0.150422      0.149029   \n",
      "75%        0.287356      0.298453      0.294563      0.289907      0.282956   \n",
      "max        1.000000      1.000000      1.000000      1.000000      0.991429   \n",
      "\n",
      "       ...           178           179           180           181  \\\n",
      "count  ...  21892.000000  21892.000000  21892.000000  21892.000000   \n",
      "mean   ...      0.004588      0.004327      0.004020      0.003789   \n",
      "std    ...      0.043128      0.042187      0.040255      0.039397   \n",
      "min    ...      0.000000      0.000000      0.000000      0.000000   \n",
      "25%    ...      0.000000      0.000000      0.000000      0.000000   \n",
      "50%    ...      0.000000      0.000000      0.000000      0.000000   \n",
      "75%    ...      0.000000      0.000000      0.000000      0.000000   \n",
      "max    ...      0.980392      1.000000      0.966102      1.000000   \n",
      "\n",
      "                182           183           184           185           186  \\\n",
      "count  21892.000000  21892.000000  21892.000000  21892.000000  21892.000000   \n",
      "mean       0.003638      0.003459      0.003166      0.003000      0.002946   \n",
      "std        0.038535      0.037717      0.035903      0.035522      0.035266   \n",
      "min        0.000000      0.000000      0.000000      0.000000      0.000000   \n",
      "25%        0.000000      0.000000      0.000000      0.000000      0.000000   \n",
      "50%        0.000000      0.000000      0.000000      0.000000      0.000000   \n",
      "75%        0.000000      0.000000      0.000000      0.000000      0.000000   \n",
      "max        1.000000      1.000000      1.000000      0.996053      1.000000   \n",
      "\n",
      "                187  \n",
      "count  21892.000000  \n",
      "mean       0.473689  \n",
      "std        1.143447  \n",
      "min        0.000000  \n",
      "25%        0.000000  \n",
      "50%        0.000000  \n",
      "75%        0.000000  \n",
      "max        4.000000  \n",
      "\n",
      "[8 rows x 188 columns]\n"
     ]
    }
   ],
   "source": [
    "# Now Describing the training and the test dataset\n",
    "\n",
    "print(\"ECG Training Data\\n\", ecg_train.describe())\n",
    "print(\"ECG Test Data\\n\", ecg_test.describe())\n"
   ]
  },
  {
   "cell_type": "markdown",
   "id": "540cc1c6-9a61-4d56-a9c4-0cba3b63418c",
   "metadata": {},
   "source": [
    "## Renaming the classes using the scientific nomenclatures\n"
   ]
  },
  {
   "cell_type": "code",
   "execution_count": 8,
   "id": "07b46af0-6490-4197-ae02-f71f40d4a0d7",
   "metadata": {},
   "outputs": [
    {
     "name": "stdout",
     "output_type": "stream",
     "text": [
      "Class Label 0: Normal Beats\n",
      "Class Label 1: Supraventricular Ectopy Beats\n",
      "Class Label 2: Ventricular Ectopy Beats\n",
      "Class Label 3: Fusion Beats\n",
      "Class Label 4: Unclassifiable Beats\n"
     ]
    }
   ],
   "source": [
    "# Assuming the target column is our last column\n",
    "target_index = ecg_train.shape[1]-1\n",
    "\n",
    "# Gathering all the unique values in the target column\n",
    "class_labels = ecg_train[target_index].unique()\n",
    "\n",
    "# Now Assigning the scientific nomenclatures to the class labels from our domain\n",
    "# knowledge\n",
    "nomen_names = {\n",
    "    0: \"Normal Beats\",\n",
    "    1: \"Supraventricular Ectopy Beats\",\n",
    "    2: \"Ventricular Ectopy Beats\",\n",
    "    3: \"Fusion Beats\",\n",
    "    4: \"Unclassifiable Beats\"\n",
    "}\n",
    "\n",
    "# Printing class names with their associated scientific names\n",
    "for label in nomen_names:\n",
    "    print(f\"Class Label {label}: {nomen_names[label]}\")"
   ]
  },
  {
   "cell_type": "code",
   "execution_count": 9,
   "id": "bfdbd108-38a5-4345-a017-0cfa3b1948a7",
   "metadata": {},
   "outputs": [
    {
     "data": {
      "text/plain": [
       "['Normal Beats',\n",
       " 'Supraventricular Ectopy Beats',\n",
       " 'Ventricular Ectopy Beats',\n",
       " 'Fusion Beats',\n",
       " 'Unclassifiable Beats']"
      ]
     },
     "execution_count": 9,
     "metadata": {},
     "output_type": "execute_result"
    }
   ],
   "source": [
    "nom_list = list(nomen_names.values())\n",
    "nom_list"
   ]
  },
  {
   "cell_type": "markdown",
   "id": "7cf09046-61de-4656-9564-3baf8949df53",
   "metadata": {},
   "source": [
    "# Preprocessing"
   ]
  },
  {
   "cell_type": "code",
   "execution_count": 10,
   "id": "efa454da-271f-4a12-8988-35bdf24f2f75",
   "metadata": {},
   "outputs": [],
   "source": [
    "# Splitting Target and other values\n",
    "ecg_train_target = ecg_train[187]\n",
    "ecg_test_target = ecg_test[187]\n",
    "train_val = ecg_train.drop(187,axis=1)\n",
    "test_val = ecg_test.drop(187,axis=1)"
   ]
  },
  {
   "cell_type": "markdown",
   "id": "e47fe2d5-e4c9-4ad7-91e8-6ec35e1572c5",
   "metadata": {},
   "source": [
    "### Low-Pass Filter: In the context of ECG Signals, it helps remove High-Frequency noise while retaining the important Low-Frequency components related to unusual heart activity."
   ]
  },
  {
   "cell_type": "markdown",
   "id": "3324193c-c32e-4c66-b11f-4133ac87b185",
   "metadata": {},
   "source": [
    "### Butter_Lowpass_Filter Function: This Function takes parameters such as the cutoff Frequency, sampling rate, and filter order, and returns the filtered signal."
   ]
  },
  {
   "cell_type": "code",
   "execution_count": 11,
   "id": "8710df5c-1518-484c-9702-cd2b3987d622",
   "metadata": {},
   "outputs": [],
   "source": [
    "from scipy.signal import butter, filtfilt\n",
    "# Filtering for Train Values\n",
    "ecg_data = ecg_train\n",
    "ecg_signal = train_val\n",
    "ecg_label = ecg_train_target \n",
    "sampling_rate = 300\n",
    "def butter_lowpass_filter(data, cutoff_freq, fs, order=5):\n",
    "    freqi = 0.5*fs\n",
    "    normal_cutoff = cutoff_freq/freqi\n",
    "    b,a = butter(order, normal_cutoff, btype='low', analog=False)\n",
    "    filt_data = filtfilt(b,a,data)\n",
    "    return filt_data\n",
    "\n",
    "# Showing Example\n",
    "cutoff_freq = 125 \n",
    "filt_ecg_signal = butter_lowpass_filter(ecg_signal, cutoff_freq, sampling_rate)\n"
   ]
  },
  {
   "cell_type": "code",
   "execution_count": 12,
   "id": "439048a7-078b-4b4f-9e9d-76c1b04463fb",
   "metadata": {},
   "outputs": [
    {
     "data": {
      "text/html": [
       "<div>\n",
       "<style scoped>\n",
       "    .dataframe tbody tr th:only-of-type {\n",
       "        vertical-align: middle;\n",
       "    }\n",
       "\n",
       "    .dataframe tbody tr th {\n",
       "        vertical-align: top;\n",
       "    }\n",
       "\n",
       "    .dataframe thead th {\n",
       "        text-align: right;\n",
       "    }\n",
       "</style>\n",
       "<table border=\"1\" class=\"dataframe\">\n",
       "  <thead>\n",
       "    <tr style=\"text-align: right;\">\n",
       "      <th></th>\n",
       "      <th>0</th>\n",
       "      <th>1</th>\n",
       "      <th>2</th>\n",
       "      <th>3</th>\n",
       "      <th>4</th>\n",
       "      <th>5</th>\n",
       "      <th>6</th>\n",
       "      <th>7</th>\n",
       "      <th>8</th>\n",
       "      <th>9</th>\n",
       "      <th>...</th>\n",
       "      <th>177</th>\n",
       "      <th>178</th>\n",
       "      <th>179</th>\n",
       "      <th>180</th>\n",
       "      <th>181</th>\n",
       "      <th>182</th>\n",
       "      <th>183</th>\n",
       "      <th>184</th>\n",
       "      <th>185</th>\n",
       "      <th>186</th>\n",
       "    </tr>\n",
       "  </thead>\n",
       "  <tbody>\n",
       "    <tr>\n",
       "      <th>0</th>\n",
       "      <td>0.977941</td>\n",
       "      <td>0.926471</td>\n",
       "      <td>0.681373</td>\n",
       "      <td>0.245098</td>\n",
       "      <td>0.154412</td>\n",
       "      <td>0.191176</td>\n",
       "      <td>0.151961</td>\n",
       "      <td>0.085784</td>\n",
       "      <td>0.058824</td>\n",
       "      <td>0.049020</td>\n",
       "      <td>...</td>\n",
       "      <td>0.0</td>\n",
       "      <td>0.0</td>\n",
       "      <td>0.0</td>\n",
       "      <td>0.0</td>\n",
       "      <td>0.0</td>\n",
       "      <td>0.0</td>\n",
       "      <td>0.0</td>\n",
       "      <td>0.0</td>\n",
       "      <td>0.0</td>\n",
       "      <td>0.0</td>\n",
       "    </tr>\n",
       "    <tr>\n",
       "      <th>1</th>\n",
       "      <td>0.960114</td>\n",
       "      <td>0.863248</td>\n",
       "      <td>0.461538</td>\n",
       "      <td>0.196581</td>\n",
       "      <td>0.094017</td>\n",
       "      <td>0.125356</td>\n",
       "      <td>0.099715</td>\n",
       "      <td>0.088319</td>\n",
       "      <td>0.074074</td>\n",
       "      <td>0.082621</td>\n",
       "      <td>...</td>\n",
       "      <td>0.0</td>\n",
       "      <td>0.0</td>\n",
       "      <td>0.0</td>\n",
       "      <td>0.0</td>\n",
       "      <td>0.0</td>\n",
       "      <td>0.0</td>\n",
       "      <td>0.0</td>\n",
       "      <td>0.0</td>\n",
       "      <td>0.0</td>\n",
       "      <td>0.0</td>\n",
       "    </tr>\n",
       "    <tr>\n",
       "      <th>2</th>\n",
       "      <td>1.000000</td>\n",
       "      <td>0.659459</td>\n",
       "      <td>0.186486</td>\n",
       "      <td>0.070270</td>\n",
       "      <td>0.070270</td>\n",
       "      <td>0.059459</td>\n",
       "      <td>0.056757</td>\n",
       "      <td>0.043243</td>\n",
       "      <td>0.054054</td>\n",
       "      <td>0.045946</td>\n",
       "      <td>...</td>\n",
       "      <td>0.0</td>\n",
       "      <td>0.0</td>\n",
       "      <td>0.0</td>\n",
       "      <td>0.0</td>\n",
       "      <td>0.0</td>\n",
       "      <td>0.0</td>\n",
       "      <td>0.0</td>\n",
       "      <td>0.0</td>\n",
       "      <td>0.0</td>\n",
       "      <td>0.0</td>\n",
       "    </tr>\n",
       "    <tr>\n",
       "      <th>3</th>\n",
       "      <td>0.925414</td>\n",
       "      <td>0.665746</td>\n",
       "      <td>0.541436</td>\n",
       "      <td>0.276243</td>\n",
       "      <td>0.196133</td>\n",
       "      <td>0.077348</td>\n",
       "      <td>0.071823</td>\n",
       "      <td>0.060773</td>\n",
       "      <td>0.066298</td>\n",
       "      <td>0.058011</td>\n",
       "      <td>...</td>\n",
       "      <td>0.0</td>\n",
       "      <td>0.0</td>\n",
       "      <td>0.0</td>\n",
       "      <td>0.0</td>\n",
       "      <td>0.0</td>\n",
       "      <td>0.0</td>\n",
       "      <td>0.0</td>\n",
       "      <td>0.0</td>\n",
       "      <td>0.0</td>\n",
       "      <td>0.0</td>\n",
       "    </tr>\n",
       "    <tr>\n",
       "      <th>4</th>\n",
       "      <td>0.967136</td>\n",
       "      <td>1.000000</td>\n",
       "      <td>0.830986</td>\n",
       "      <td>0.586854</td>\n",
       "      <td>0.356808</td>\n",
       "      <td>0.248826</td>\n",
       "      <td>0.145540</td>\n",
       "      <td>0.089202</td>\n",
       "      <td>0.117371</td>\n",
       "      <td>0.150235</td>\n",
       "      <td>...</td>\n",
       "      <td>0.0</td>\n",
       "      <td>0.0</td>\n",
       "      <td>0.0</td>\n",
       "      <td>0.0</td>\n",
       "      <td>0.0</td>\n",
       "      <td>0.0</td>\n",
       "      <td>0.0</td>\n",
       "      <td>0.0</td>\n",
       "      <td>0.0</td>\n",
       "      <td>0.0</td>\n",
       "    </tr>\n",
       "    <tr>\n",
       "      <th>...</th>\n",
       "      <td>...</td>\n",
       "      <td>...</td>\n",
       "      <td>...</td>\n",
       "      <td>...</td>\n",
       "      <td>...</td>\n",
       "      <td>...</td>\n",
       "      <td>...</td>\n",
       "      <td>...</td>\n",
       "      <td>...</td>\n",
       "      <td>...</td>\n",
       "      <td>...</td>\n",
       "      <td>...</td>\n",
       "      <td>...</td>\n",
       "      <td>...</td>\n",
       "      <td>...</td>\n",
       "      <td>...</td>\n",
       "      <td>...</td>\n",
       "      <td>...</td>\n",
       "      <td>...</td>\n",
       "      <td>...</td>\n",
       "      <td>...</td>\n",
       "    </tr>\n",
       "    <tr>\n",
       "      <th>87549</th>\n",
       "      <td>0.807018</td>\n",
       "      <td>0.494737</td>\n",
       "      <td>0.536842</td>\n",
       "      <td>0.529825</td>\n",
       "      <td>0.491228</td>\n",
       "      <td>0.484211</td>\n",
       "      <td>0.456140</td>\n",
       "      <td>0.396491</td>\n",
       "      <td>0.284211</td>\n",
       "      <td>0.136842</td>\n",
       "      <td>...</td>\n",
       "      <td>0.0</td>\n",
       "      <td>0.0</td>\n",
       "      <td>0.0</td>\n",
       "      <td>0.0</td>\n",
       "      <td>0.0</td>\n",
       "      <td>0.0</td>\n",
       "      <td>0.0</td>\n",
       "      <td>0.0</td>\n",
       "      <td>0.0</td>\n",
       "      <td>0.0</td>\n",
       "    </tr>\n",
       "    <tr>\n",
       "      <th>87550</th>\n",
       "      <td>0.718333</td>\n",
       "      <td>0.605000</td>\n",
       "      <td>0.486667</td>\n",
       "      <td>0.361667</td>\n",
       "      <td>0.231667</td>\n",
       "      <td>0.120000</td>\n",
       "      <td>0.051667</td>\n",
       "      <td>0.001667</td>\n",
       "      <td>0.000000</td>\n",
       "      <td>0.013333</td>\n",
       "      <td>...</td>\n",
       "      <td>0.0</td>\n",
       "      <td>0.0</td>\n",
       "      <td>0.0</td>\n",
       "      <td>0.0</td>\n",
       "      <td>0.0</td>\n",
       "      <td>0.0</td>\n",
       "      <td>0.0</td>\n",
       "      <td>0.0</td>\n",
       "      <td>0.0</td>\n",
       "      <td>0.0</td>\n",
       "    </tr>\n",
       "    <tr>\n",
       "      <th>87551</th>\n",
       "      <td>0.906122</td>\n",
       "      <td>0.624490</td>\n",
       "      <td>0.595918</td>\n",
       "      <td>0.575510</td>\n",
       "      <td>0.530612</td>\n",
       "      <td>0.481633</td>\n",
       "      <td>0.444898</td>\n",
       "      <td>0.387755</td>\n",
       "      <td>0.322449</td>\n",
       "      <td>0.191837</td>\n",
       "      <td>...</td>\n",
       "      <td>0.0</td>\n",
       "      <td>0.0</td>\n",
       "      <td>0.0</td>\n",
       "      <td>0.0</td>\n",
       "      <td>0.0</td>\n",
       "      <td>0.0</td>\n",
       "      <td>0.0</td>\n",
       "      <td>0.0</td>\n",
       "      <td>0.0</td>\n",
       "      <td>0.0</td>\n",
       "    </tr>\n",
       "    <tr>\n",
       "      <th>87552</th>\n",
       "      <td>0.858228</td>\n",
       "      <td>0.645570</td>\n",
       "      <td>0.845570</td>\n",
       "      <td>0.248101</td>\n",
       "      <td>0.167089</td>\n",
       "      <td>0.131646</td>\n",
       "      <td>0.121519</td>\n",
       "      <td>0.121519</td>\n",
       "      <td>0.118987</td>\n",
       "      <td>0.103797</td>\n",
       "      <td>...</td>\n",
       "      <td>0.0</td>\n",
       "      <td>0.0</td>\n",
       "      <td>0.0</td>\n",
       "      <td>0.0</td>\n",
       "      <td>0.0</td>\n",
       "      <td>0.0</td>\n",
       "      <td>0.0</td>\n",
       "      <td>0.0</td>\n",
       "      <td>0.0</td>\n",
       "      <td>0.0</td>\n",
       "    </tr>\n",
       "    <tr>\n",
       "      <th>87553</th>\n",
       "      <td>0.901506</td>\n",
       "      <td>0.845886</td>\n",
       "      <td>0.800695</td>\n",
       "      <td>0.748552</td>\n",
       "      <td>0.687138</td>\n",
       "      <td>0.599073</td>\n",
       "      <td>0.512167</td>\n",
       "      <td>0.427578</td>\n",
       "      <td>0.395133</td>\n",
       "      <td>0.402086</td>\n",
       "      <td>...</td>\n",
       "      <td>0.0</td>\n",
       "      <td>0.0</td>\n",
       "      <td>0.0</td>\n",
       "      <td>0.0</td>\n",
       "      <td>0.0</td>\n",
       "      <td>0.0</td>\n",
       "      <td>0.0</td>\n",
       "      <td>0.0</td>\n",
       "      <td>0.0</td>\n",
       "      <td>0.0</td>\n",
       "    </tr>\n",
       "  </tbody>\n",
       "</table>\n",
       "<p>87554 rows × 187 columns</p>\n",
       "</div>"
      ],
      "text/plain": [
       "            0         1         2         3         4         5         6    \\\n",
       "0      0.977941  0.926471  0.681373  0.245098  0.154412  0.191176  0.151961   \n",
       "1      0.960114  0.863248  0.461538  0.196581  0.094017  0.125356  0.099715   \n",
       "2      1.000000  0.659459  0.186486  0.070270  0.070270  0.059459  0.056757   \n",
       "3      0.925414  0.665746  0.541436  0.276243  0.196133  0.077348  0.071823   \n",
       "4      0.967136  1.000000  0.830986  0.586854  0.356808  0.248826  0.145540   \n",
       "...         ...       ...       ...       ...       ...       ...       ...   \n",
       "87549  0.807018  0.494737  0.536842  0.529825  0.491228  0.484211  0.456140   \n",
       "87550  0.718333  0.605000  0.486667  0.361667  0.231667  0.120000  0.051667   \n",
       "87551  0.906122  0.624490  0.595918  0.575510  0.530612  0.481633  0.444898   \n",
       "87552  0.858228  0.645570  0.845570  0.248101  0.167089  0.131646  0.121519   \n",
       "87553  0.901506  0.845886  0.800695  0.748552  0.687138  0.599073  0.512167   \n",
       "\n",
       "            7         8         9    ...  177  178  179  180  181  182  183  \\\n",
       "0      0.085784  0.058824  0.049020  ...  0.0  0.0  0.0  0.0  0.0  0.0  0.0   \n",
       "1      0.088319  0.074074  0.082621  ...  0.0  0.0  0.0  0.0  0.0  0.0  0.0   \n",
       "2      0.043243  0.054054  0.045946  ...  0.0  0.0  0.0  0.0  0.0  0.0  0.0   \n",
       "3      0.060773  0.066298  0.058011  ...  0.0  0.0  0.0  0.0  0.0  0.0  0.0   \n",
       "4      0.089202  0.117371  0.150235  ...  0.0  0.0  0.0  0.0  0.0  0.0  0.0   \n",
       "...         ...       ...       ...  ...  ...  ...  ...  ...  ...  ...  ...   \n",
       "87549  0.396491  0.284211  0.136842  ...  0.0  0.0  0.0  0.0  0.0  0.0  0.0   \n",
       "87550  0.001667  0.000000  0.013333  ...  0.0  0.0  0.0  0.0  0.0  0.0  0.0   \n",
       "87551  0.387755  0.322449  0.191837  ...  0.0  0.0  0.0  0.0  0.0  0.0  0.0   \n",
       "87552  0.121519  0.118987  0.103797  ...  0.0  0.0  0.0  0.0  0.0  0.0  0.0   \n",
       "87553  0.427578  0.395133  0.402086  ...  0.0  0.0  0.0  0.0  0.0  0.0  0.0   \n",
       "\n",
       "       184  185  186  \n",
       "0      0.0  0.0  0.0  \n",
       "1      0.0  0.0  0.0  \n",
       "2      0.0  0.0  0.0  \n",
       "3      0.0  0.0  0.0  \n",
       "4      0.0  0.0  0.0  \n",
       "...    ...  ...  ...  \n",
       "87549  0.0  0.0  0.0  \n",
       "87550  0.0  0.0  0.0  \n",
       "87551  0.0  0.0  0.0  \n",
       "87552  0.0  0.0  0.0  \n",
       "87553  0.0  0.0  0.0  \n",
       "\n",
       "[87554 rows x 187 columns]"
      ]
     },
     "execution_count": 12,
     "metadata": {},
     "output_type": "execute_result"
    }
   ],
   "source": [
    "train_val"
   ]
  },
  {
   "cell_type": "code",
   "execution_count": 13,
   "id": "0b087875-559f-4569-9ac2-82f2e7a9e5cd",
   "metadata": {},
   "outputs": [
    {
     "data": {
      "text/plain": [
       "array([[ 9.78025359e-01,  9.31228125e-01,  6.72655870e-01, ...,\n",
       "        -1.09241887e-08,  5.64004720e-09, -4.45968278e-10],\n",
       "       [ 9.60060339e-01,  8.57851804e-01,  4.71493020e-01, ...,\n",
       "         2.68216982e-06, -9.78011243e-07, -5.00657850e-07],\n",
       "       [ 1.00008352e+00,  6.55272004e-01,  1.93779589e-01, ...,\n",
       "        -5.08565457e-09,  3.38196512e-09, -1.34206895e-09],\n",
       "       ...,\n",
       "       [ 9.06053988e-01,  6.26892529e-01,  5.91530715e-01, ...,\n",
       "        -1.21672499e-06,  3.25671883e-07,  4.04099652e-07],\n",
       "       [ 8.58253894e-01,  6.70658402e-01,  8.00159391e-01, ...,\n",
       "        -2.01228176e-07,  7.49996511e-08,  3.51241515e-08],\n",
       "       [ 9.01512019e-01,  8.46941636e-01,  7.98770636e-01, ...,\n",
       "        -7.81099988e-07,  4.98316305e-07, -1.74452632e-07]])"
      ]
     },
     "execution_count": 13,
     "metadata": {},
     "output_type": "execute_result"
    }
   ],
   "source": [
    "# Filtering for Train Values\n",
    "filt_ecg_signal"
   ]
  },
  {
   "cell_type": "code",
   "execution_count": 14,
   "id": "bc542253-e666-4ef2-b5d7-f7f341b0cd9a",
   "metadata": {},
   "outputs": [
    {
     "data": {
      "text/html": [
       "<div>\n",
       "<style scoped>\n",
       "    .dataframe tbody tr th:only-of-type {\n",
       "        vertical-align: middle;\n",
       "    }\n",
       "\n",
       "    .dataframe tbody tr th {\n",
       "        vertical-align: top;\n",
       "    }\n",
       "\n",
       "    .dataframe thead th {\n",
       "        text-align: right;\n",
       "    }\n",
       "</style>\n",
       "<table border=\"1\" class=\"dataframe\">\n",
       "  <thead>\n",
       "    <tr style=\"text-align: right;\">\n",
       "      <th></th>\n",
       "      <th>0</th>\n",
       "      <th>1</th>\n",
       "      <th>2</th>\n",
       "      <th>3</th>\n",
       "      <th>4</th>\n",
       "      <th>5</th>\n",
       "      <th>6</th>\n",
       "      <th>7</th>\n",
       "      <th>8</th>\n",
       "      <th>9</th>\n",
       "      <th>...</th>\n",
       "      <th>177</th>\n",
       "      <th>178</th>\n",
       "      <th>179</th>\n",
       "      <th>180</th>\n",
       "      <th>181</th>\n",
       "      <th>182</th>\n",
       "      <th>183</th>\n",
       "      <th>184</th>\n",
       "      <th>185</th>\n",
       "      <th>186</th>\n",
       "    </tr>\n",
       "  </thead>\n",
       "  <tbody>\n",
       "    <tr>\n",
       "      <th>0</th>\n",
       "      <td>1.000000</td>\n",
       "      <td>0.758264</td>\n",
       "      <td>0.111570</td>\n",
       "      <td>0.000000</td>\n",
       "      <td>0.080579</td>\n",
       "      <td>0.078512</td>\n",
       "      <td>0.066116</td>\n",
       "      <td>0.049587</td>\n",
       "      <td>0.047521</td>\n",
       "      <td>0.035124</td>\n",
       "      <td>...</td>\n",
       "      <td>0.0</td>\n",
       "      <td>0.0</td>\n",
       "      <td>0.0</td>\n",
       "      <td>0.0</td>\n",
       "      <td>0.0</td>\n",
       "      <td>0.0</td>\n",
       "      <td>0.0</td>\n",
       "      <td>0.0</td>\n",
       "      <td>0.0</td>\n",
       "      <td>0.0</td>\n",
       "    </tr>\n",
       "    <tr>\n",
       "      <th>1</th>\n",
       "      <td>0.908425</td>\n",
       "      <td>0.783883</td>\n",
       "      <td>0.531136</td>\n",
       "      <td>0.362637</td>\n",
       "      <td>0.366300</td>\n",
       "      <td>0.344322</td>\n",
       "      <td>0.333333</td>\n",
       "      <td>0.307692</td>\n",
       "      <td>0.296703</td>\n",
       "      <td>0.300366</td>\n",
       "      <td>...</td>\n",
       "      <td>0.0</td>\n",
       "      <td>0.0</td>\n",
       "      <td>0.0</td>\n",
       "      <td>0.0</td>\n",
       "      <td>0.0</td>\n",
       "      <td>0.0</td>\n",
       "      <td>0.0</td>\n",
       "      <td>0.0</td>\n",
       "      <td>0.0</td>\n",
       "      <td>0.0</td>\n",
       "    </tr>\n",
       "    <tr>\n",
       "      <th>2</th>\n",
       "      <td>0.730088</td>\n",
       "      <td>0.212389</td>\n",
       "      <td>0.000000</td>\n",
       "      <td>0.119469</td>\n",
       "      <td>0.101770</td>\n",
       "      <td>0.101770</td>\n",
       "      <td>0.110619</td>\n",
       "      <td>0.123894</td>\n",
       "      <td>0.115044</td>\n",
       "      <td>0.132743</td>\n",
       "      <td>...</td>\n",
       "      <td>0.0</td>\n",
       "      <td>0.0</td>\n",
       "      <td>0.0</td>\n",
       "      <td>0.0</td>\n",
       "      <td>0.0</td>\n",
       "      <td>0.0</td>\n",
       "      <td>0.0</td>\n",
       "      <td>0.0</td>\n",
       "      <td>0.0</td>\n",
       "      <td>0.0</td>\n",
       "    </tr>\n",
       "    <tr>\n",
       "      <th>3</th>\n",
       "      <td>1.000000</td>\n",
       "      <td>0.910417</td>\n",
       "      <td>0.681250</td>\n",
       "      <td>0.472917</td>\n",
       "      <td>0.229167</td>\n",
       "      <td>0.068750</td>\n",
       "      <td>0.000000</td>\n",
       "      <td>0.004167</td>\n",
       "      <td>0.014583</td>\n",
       "      <td>0.054167</td>\n",
       "      <td>...</td>\n",
       "      <td>0.0</td>\n",
       "      <td>0.0</td>\n",
       "      <td>0.0</td>\n",
       "      <td>0.0</td>\n",
       "      <td>0.0</td>\n",
       "      <td>0.0</td>\n",
       "      <td>0.0</td>\n",
       "      <td>0.0</td>\n",
       "      <td>0.0</td>\n",
       "      <td>0.0</td>\n",
       "    </tr>\n",
       "    <tr>\n",
       "      <th>4</th>\n",
       "      <td>0.570470</td>\n",
       "      <td>0.399329</td>\n",
       "      <td>0.238255</td>\n",
       "      <td>0.147651</td>\n",
       "      <td>0.000000</td>\n",
       "      <td>0.003356</td>\n",
       "      <td>0.040268</td>\n",
       "      <td>0.080537</td>\n",
       "      <td>0.070470</td>\n",
       "      <td>0.090604</td>\n",
       "      <td>...</td>\n",
       "      <td>0.0</td>\n",
       "      <td>0.0</td>\n",
       "      <td>0.0</td>\n",
       "      <td>0.0</td>\n",
       "      <td>0.0</td>\n",
       "      <td>0.0</td>\n",
       "      <td>0.0</td>\n",
       "      <td>0.0</td>\n",
       "      <td>0.0</td>\n",
       "      <td>0.0</td>\n",
       "    </tr>\n",
       "    <tr>\n",
       "      <th>...</th>\n",
       "      <td>...</td>\n",
       "      <td>...</td>\n",
       "      <td>...</td>\n",
       "      <td>...</td>\n",
       "      <td>...</td>\n",
       "      <td>...</td>\n",
       "      <td>...</td>\n",
       "      <td>...</td>\n",
       "      <td>...</td>\n",
       "      <td>...</td>\n",
       "      <td>...</td>\n",
       "      <td>...</td>\n",
       "      <td>...</td>\n",
       "      <td>...</td>\n",
       "      <td>...</td>\n",
       "      <td>...</td>\n",
       "      <td>...</td>\n",
       "      <td>...</td>\n",
       "      <td>...</td>\n",
       "      <td>...</td>\n",
       "      <td>...</td>\n",
       "    </tr>\n",
       "    <tr>\n",
       "      <th>21887</th>\n",
       "      <td>0.928736</td>\n",
       "      <td>0.871264</td>\n",
       "      <td>0.804598</td>\n",
       "      <td>0.742529</td>\n",
       "      <td>0.650575</td>\n",
       "      <td>0.535632</td>\n",
       "      <td>0.394253</td>\n",
       "      <td>0.250575</td>\n",
       "      <td>0.140230</td>\n",
       "      <td>0.102299</td>\n",
       "      <td>...</td>\n",
       "      <td>0.0</td>\n",
       "      <td>0.0</td>\n",
       "      <td>0.0</td>\n",
       "      <td>0.0</td>\n",
       "      <td>0.0</td>\n",
       "      <td>0.0</td>\n",
       "      <td>0.0</td>\n",
       "      <td>0.0</td>\n",
       "      <td>0.0</td>\n",
       "      <td>0.0</td>\n",
       "    </tr>\n",
       "    <tr>\n",
       "      <th>21888</th>\n",
       "      <td>0.802691</td>\n",
       "      <td>0.692078</td>\n",
       "      <td>0.587444</td>\n",
       "      <td>0.446936</td>\n",
       "      <td>0.318386</td>\n",
       "      <td>0.189836</td>\n",
       "      <td>0.118087</td>\n",
       "      <td>0.077728</td>\n",
       "      <td>0.112108</td>\n",
       "      <td>0.152466</td>\n",
       "      <td>...</td>\n",
       "      <td>0.0</td>\n",
       "      <td>0.0</td>\n",
       "      <td>0.0</td>\n",
       "      <td>0.0</td>\n",
       "      <td>0.0</td>\n",
       "      <td>0.0</td>\n",
       "      <td>0.0</td>\n",
       "      <td>0.0</td>\n",
       "      <td>0.0</td>\n",
       "      <td>0.0</td>\n",
       "    </tr>\n",
       "    <tr>\n",
       "      <th>21889</th>\n",
       "      <td>1.000000</td>\n",
       "      <td>0.967359</td>\n",
       "      <td>0.620178</td>\n",
       "      <td>0.347181</td>\n",
       "      <td>0.139466</td>\n",
       "      <td>0.089021</td>\n",
       "      <td>0.103858</td>\n",
       "      <td>0.100890</td>\n",
       "      <td>0.106825</td>\n",
       "      <td>0.100890</td>\n",
       "      <td>...</td>\n",
       "      <td>0.0</td>\n",
       "      <td>0.0</td>\n",
       "      <td>0.0</td>\n",
       "      <td>0.0</td>\n",
       "      <td>0.0</td>\n",
       "      <td>0.0</td>\n",
       "      <td>0.0</td>\n",
       "      <td>0.0</td>\n",
       "      <td>0.0</td>\n",
       "      <td>0.0</td>\n",
       "    </tr>\n",
       "    <tr>\n",
       "      <th>21890</th>\n",
       "      <td>0.984127</td>\n",
       "      <td>0.567460</td>\n",
       "      <td>0.607143</td>\n",
       "      <td>0.583333</td>\n",
       "      <td>0.607143</td>\n",
       "      <td>0.575397</td>\n",
       "      <td>0.575397</td>\n",
       "      <td>0.488095</td>\n",
       "      <td>0.392857</td>\n",
       "      <td>0.238095</td>\n",
       "      <td>...</td>\n",
       "      <td>0.0</td>\n",
       "      <td>0.0</td>\n",
       "      <td>0.0</td>\n",
       "      <td>0.0</td>\n",
       "      <td>0.0</td>\n",
       "      <td>0.0</td>\n",
       "      <td>0.0</td>\n",
       "      <td>0.0</td>\n",
       "      <td>0.0</td>\n",
       "      <td>0.0</td>\n",
       "    </tr>\n",
       "    <tr>\n",
       "      <th>21891</th>\n",
       "      <td>0.973970</td>\n",
       "      <td>0.913232</td>\n",
       "      <td>0.865510</td>\n",
       "      <td>0.823210</td>\n",
       "      <td>0.746204</td>\n",
       "      <td>0.642082</td>\n",
       "      <td>0.547722</td>\n",
       "      <td>0.426247</td>\n",
       "      <td>0.325380</td>\n",
       "      <td>0.279826</td>\n",
       "      <td>...</td>\n",
       "      <td>0.0</td>\n",
       "      <td>0.0</td>\n",
       "      <td>0.0</td>\n",
       "      <td>0.0</td>\n",
       "      <td>0.0</td>\n",
       "      <td>0.0</td>\n",
       "      <td>0.0</td>\n",
       "      <td>0.0</td>\n",
       "      <td>0.0</td>\n",
       "      <td>0.0</td>\n",
       "    </tr>\n",
       "  </tbody>\n",
       "</table>\n",
       "<p>21892 rows × 187 columns</p>\n",
       "</div>"
      ],
      "text/plain": [
       "            0         1         2         3         4         5         6    \\\n",
       "0      1.000000  0.758264  0.111570  0.000000  0.080579  0.078512  0.066116   \n",
       "1      0.908425  0.783883  0.531136  0.362637  0.366300  0.344322  0.333333   \n",
       "2      0.730088  0.212389  0.000000  0.119469  0.101770  0.101770  0.110619   \n",
       "3      1.000000  0.910417  0.681250  0.472917  0.229167  0.068750  0.000000   \n",
       "4      0.570470  0.399329  0.238255  0.147651  0.000000  0.003356  0.040268   \n",
       "...         ...       ...       ...       ...       ...       ...       ...   \n",
       "21887  0.928736  0.871264  0.804598  0.742529  0.650575  0.535632  0.394253   \n",
       "21888  0.802691  0.692078  0.587444  0.446936  0.318386  0.189836  0.118087   \n",
       "21889  1.000000  0.967359  0.620178  0.347181  0.139466  0.089021  0.103858   \n",
       "21890  0.984127  0.567460  0.607143  0.583333  0.607143  0.575397  0.575397   \n",
       "21891  0.973970  0.913232  0.865510  0.823210  0.746204  0.642082  0.547722   \n",
       "\n",
       "            7         8         9    ...  177  178  179  180  181  182  183  \\\n",
       "0      0.049587  0.047521  0.035124  ...  0.0  0.0  0.0  0.0  0.0  0.0  0.0   \n",
       "1      0.307692  0.296703  0.300366  ...  0.0  0.0  0.0  0.0  0.0  0.0  0.0   \n",
       "2      0.123894  0.115044  0.132743  ...  0.0  0.0  0.0  0.0  0.0  0.0  0.0   \n",
       "3      0.004167  0.014583  0.054167  ...  0.0  0.0  0.0  0.0  0.0  0.0  0.0   \n",
       "4      0.080537  0.070470  0.090604  ...  0.0  0.0  0.0  0.0  0.0  0.0  0.0   \n",
       "...         ...       ...       ...  ...  ...  ...  ...  ...  ...  ...  ...   \n",
       "21887  0.250575  0.140230  0.102299  ...  0.0  0.0  0.0  0.0  0.0  0.0  0.0   \n",
       "21888  0.077728  0.112108  0.152466  ...  0.0  0.0  0.0  0.0  0.0  0.0  0.0   \n",
       "21889  0.100890  0.106825  0.100890  ...  0.0  0.0  0.0  0.0  0.0  0.0  0.0   \n",
       "21890  0.488095  0.392857  0.238095  ...  0.0  0.0  0.0  0.0  0.0  0.0  0.0   \n",
       "21891  0.426247  0.325380  0.279826  ...  0.0  0.0  0.0  0.0  0.0  0.0  0.0   \n",
       "\n",
       "       184  185  186  \n",
       "0      0.0  0.0  0.0  \n",
       "1      0.0  0.0  0.0  \n",
       "2      0.0  0.0  0.0  \n",
       "3      0.0  0.0  0.0  \n",
       "4      0.0  0.0  0.0  \n",
       "...    ...  ...  ...  \n",
       "21887  0.0  0.0  0.0  \n",
       "21888  0.0  0.0  0.0  \n",
       "21889  0.0  0.0  0.0  \n",
       "21890  0.0  0.0  0.0  \n",
       "21891  0.0  0.0  0.0  \n",
       "\n",
       "[21892 rows x 187 columns]"
      ]
     },
     "execution_count": 14,
     "metadata": {},
     "output_type": "execute_result"
    }
   ],
   "source": [
    "test_val"
   ]
  },
  {
   "cell_type": "code",
   "execution_count": 15,
   "id": "8faea0e8-dd31-42e1-a23c-748edc2af913",
   "metadata": {},
   "outputs": [],
   "source": [
    "# Filtering for Test Values\n",
    "filt_ecg_signal_test = butter_lowpass_filter(test_val, cutoff_freq, sampling_rate)\n"
   ]
  },
  {
   "cell_type": "code",
   "execution_count": 16,
   "id": "d423fc69-fb3f-4cf3-8350-3efdbc64c228",
   "metadata": {},
   "outputs": [
    {
     "data": {
      "text/plain": [
       "array([[ 1.00004289e+00,  7.51682644e-01,  1.23223863e-01, ...,\n",
       "        -2.24582001e-07,  7.35644454e-08,  5.44097956e-08],\n",
       "       [ 9.08476997e-01,  7.85617846e-01,  5.27877448e-01, ...,\n",
       "        -1.10038438e-08,  5.95287910e-09, -8.56784724e-10],\n",
       "       [ 7.29999815e-01,  2.07607365e-01,  8.94294859e-03, ...,\n",
       "        -4.60299111e-08,  7.34562841e-08, -7.64171920e-08],\n",
       "       ...,\n",
       "       [ 1.00005344e+00,  9.62717192e-01,  6.28419271e-01, ...,\n",
       "         1.05951485e-07, -2.38688776e-07,  2.80308994e-07],\n",
       "       [ 9.84229411e-01,  5.76291528e-01,  5.90984058e-01, ...,\n",
       "         3.79262186e-07, -3.85683279e-07,  3.00297169e-07],\n",
       "       [ 9.73965751e-01,  9.13437923e-01,  8.65127682e-01, ...,\n",
       "         1.86500884e-07, -4.57296505e-07,  5.49131548e-07]])"
      ]
     },
     "execution_count": 16,
     "metadata": {},
     "output_type": "execute_result"
    }
   ],
   "source": [
    "filt_ecg_signal_test"
   ]
  },
  {
   "cell_type": "markdown",
   "id": "46c6e6df-c639-4309-9635-d8069c8d633b",
   "metadata": {},
   "source": [
    "# EDA"
   ]
  },
  {
   "cell_type": "code",
   "execution_count": 17,
   "id": "bec91540-20a7-45c6-abcc-90bac9c161f5",
   "metadata": {},
   "outputs": [
    {
     "data": {
      "image/png": "[encoded data removed]",
      "text/plain": [
       "<Figure size 1400x800 with 1 Axes>"
      ]
     },
     "metadata": {},
     "output_type": "display_data"
    }
   ],
   "source": [
    "# Understanding the training data using Visualization \n",
    "import seaborn as sns\n",
    "\n",
    "# Time Series Plot\n",
    "plt.figure(figsize=(14,8))\n",
    "plt.plot(filt_ecg_signal[0],filt_ecg_signal[187])\n",
    "plt.title('ECG Signals for Training Data')\n",
    "plt.xlabel('First Signal')\n",
    "plt.ylabel('Last Signal')\n",
    "plt.show()"
   ]
  },
  {
   "cell_type": "code",
   "execution_count": 18,
   "id": "106fb8c4-f743-46f1-a62a-dfea47814a1f",
   "metadata": {},
   "outputs": [
    {
     "data": {
      "image/png": "[encoded data removed]",
      "text/plain": [
       "<Figure size 1400x800 with 1 Axes>"
      ]
     },
     "metadata": {},
     "output_type": "display_data"
    }
   ],
   "source": [
    "# Understanding the testing data using Visualization \n",
    "import seaborn as sns\n",
    "\n",
    "# Time Series Plot\n",
    "plt.figure(figsize=(14,8))\n",
    "plt.plot(filt_ecg_signal_test[0],filt_ecg_signal_test[187])\n",
    "plt.title('ECG Signals for Testing Data')\n",
    "plt.xlabel('First Signal')\n",
    "plt.ylabel('Last Signal')\n",
    "plt.show()"
   ]
  },
  {
   "cell_type": "code",
   "execution_count": 19,
   "id": "782a4a9a-9350-4921-80ea-aadac82ce53d",
   "metadata": {},
   "outputs": [
    {
     "data": {
      "image/png": "[encoded data removed]",
      "text/plain": [
       "<Figure size 1000x800 with 1 Axes>"
      ]
     },
     "metadata": {},
     "output_type": "display_data"
    }
   ],
   "source": [
    "# Histogram for the ECG Signal for the last Column for Training Data\n",
    "plt.figure(figsize=(10,8))\n",
    "sns.countplot(x= 187, data=ecg_train)\n",
    "plt.title('Distribution of Heartbeat Classes for Training Data')\n",
    "plt.xlabel('Classes')\n",
    "plt.ylabel('Frequency')\n",
    "plt.show()"
   ]
  },
  {
   "cell_type": "code",
   "execution_count": 20,
   "id": "52ff0648-aa0d-47c6-9eb1-da0004b7ec9c",
   "metadata": {},
   "outputs": [
    {
     "data": {
      "image/png": "[encoded data removed]",
      "text/plain": [
       "<Figure size 1000x800 with 1 Axes>"
      ]
     },
     "metadata": {},
     "output_type": "display_data"
    }
   ],
   "source": [
    "# Histogram for the ECG Signal for the last Column for Testing Data\n",
    "plt.figure(figsize=(10,8))\n",
    "sns.countplot(x= 187, data=ecg_test)\n",
    "plt.title('Distribution of Heartbeat Classes for Testing Data')\n",
    "plt.xlabel('Classes')\n",
    "plt.ylabel('Frequency')\n",
    "plt.show()"
   ]
  },
  {
   "cell_type": "code",
   "execution_count": 21,
   "id": "5cfc28e4-e372-4d75-9c43-8056c11c35a7",
   "metadata": {},
   "outputs": [
    {
     "data": {
      "text/plain": [
       "0        0\n",
       "1        0\n",
       "2        0\n",
       "3        0\n",
       "4        0\n",
       "        ..\n",
       "87549    4\n",
       "87550    4\n",
       "87551    4\n",
       "87552    4\n",
       "87553    4\n",
       "Name: 187, Length: 87554, dtype: int32"
      ]
     },
     "execution_count": 21,
     "metadata": {},
     "output_type": "execute_result"
    }
   ],
   "source": [
    "ecg_train_target"
   ]
  },
  {
   "cell_type": "code",
   "execution_count": 22,
   "id": "397995bc-cb77-4db6-b58b-026803263063",
   "metadata": {},
   "outputs": [
    {
     "data": {
      "text/plain": [
       "0        0.0\n",
       "1        0.0\n",
       "2        0.0\n",
       "3        0.0\n",
       "4        0.0\n",
       "        ... \n",
       "21887    4.0\n",
       "21888    4.0\n",
       "21889    4.0\n",
       "21890    4.0\n",
       "21891    4.0\n",
       "Name: 187, Length: 21892, dtype: float64"
      ]
     },
     "execution_count": 22,
     "metadata": {},
     "output_type": "execute_result"
    }
   ],
   "source": [
    "ecg_test_target"
   ]
  },
  {
   "cell_type": "code",
   "execution_count": null,
   "id": "5604b95d-84cf-45c2-9682-a6ac79d5014f",
   "metadata": {},
   "outputs": [],
   "source": []
  },
  {
   "cell_type": "code",
   "execution_count": 23,
   "id": "cb804115-f185-4e3d-967b-55e64de42972",
   "metadata": {},
   "outputs": [
    {
     "data": {
      "image/png": "[encoded data removed]",
      "text/plain": [
       "<Figure size 2000x1000 with 1 Axes>"
      ]
     },
     "metadata": {},
     "output_type": "display_data"
    }
   ],
   "source": [
    "# Pie Chart for the training dataset\n",
    "\n",
    "plt.figure(figsize=(20,10))\n",
    "circ = plt.Circle( (0,0), 0.7, color='white')\n",
    "plt.pie(ecg_train_target.value_counts(), labels=nom_list, colors=['red','green','blue','skyblue','orange'],\n",
    "        autopct='%1.1f%%')\n",
    "pl = plt.gcf()\n",
    "pl.gca().add_artist(circ)\n",
    "plt.show()"
   ]
  },
  {
   "cell_type": "code",
   "execution_count": 24,
   "id": "c08b68d2-537c-4ca7-b662-838656f3c82b",
   "metadata": {},
   "outputs": [
    {
     "data": {
      "image/png": "[encoded data removed]",
      "text/plain": [
       "<Figure size 2000x1000 with 1 Axes>"
      ]
     },
     "metadata": {},
     "output_type": "display_data"
    }
   ],
   "source": [
    "# Pie Chart for the testing dataset\n",
    "\n",
    "plt.figure(figsize=(20,10))\n",
    "circ = plt.Circle( (0,0), 0.7, color='white')\n",
    "plt.pie(ecg_test_target.value_counts(), labels=nom_list, colors=['red','green','blue','skyblue','orange'],\n",
    "        autopct='%1.1f%%')\n",
    "pl = plt.gcf()\n",
    "pl.gca().add_artist(circ)\n",
    "plt.show()"
   ]
  },
  {
   "cell_type": "code",
   "execution_count": 25,
   "id": "3f5769de-9c2b-478f-b3f4-edaf22d773f2",
   "metadata": {},
   "outputs": [
    {
     "data": {
      "text/plain": [
       "0    188\n",
       "Name: count, dtype: int64"
      ]
     },
     "execution_count": 25,
     "metadata": {},
     "output_type": "execute_result"
    }
   ],
   "source": [
    "ecg_train.isnull().sum().value_counts()"
   ]
  },
  {
   "cell_type": "markdown",
   "id": "5e171222-51a8-4a5f-8ff9-32856525248f",
   "metadata": {},
   "source": [
    "# Further Data Preprocessing (i.e. Resampling and Normalization)"
   ]
  },
  {
   "cell_type": "code",
   "execution_count": 26,
   "id": "cd18dbd4-80b6-4e73-beaf-b759ddee81ca",
   "metadata": {},
   "outputs": [],
   "source": [
    "from imblearn.under_sampling import TomekLinks"
   ]
  },
  {
   "cell_type": "code",
   "execution_count": 27,
   "id": "f9f2c262-269a-44a4-a3d1-c3f036b59939",
   "metadata": {},
   "outputs": [],
   "source": [
    "from imblearn.over_sampling import SMOTE"
   ]
  },
  {
   "cell_type": "raw",
   "id": "1c802bf4-ccb8-4b29-afd7-3f6073f46fc4",
   "metadata": {},
   "source": [
    "# Splitting the data into training and testing sets from ECG Training Data\n",
    "X_train, X_test, y_train, y_test = train_test_split(train_val, ecg_train_target, test_size=0.3, random_state=42)\n",
    "\n",
    "# Applying Tomek Links for undersampling\n",
    "tl = TomekLinks()\n",
    "X_resampled, y_resampled = tl.fit_resample(X_train, y_train)\n"
   ]
  },
  {
   "cell_type": "code",
   "execution_count": null,
   "id": "03782c34-dd6b-4243-87b3-13e13611c9bc",
   "metadata": {},
   "outputs": [],
   "source": []
  },
  {
   "cell_type": "code",
   "execution_count": null,
   "id": "54e3e0d4-7b73-4976-9120-c7c231fcb72f",
   "metadata": {},
   "outputs": [],
   "source": []
  },
  {
   "cell_type": "code",
   "execution_count": null,
   "id": "ff96d9a4-f32f-47be-b416-aab67867994f",
   "metadata": {},
   "outputs": [],
   "source": []
  },
  {
   "cell_type": "raw",
   "id": "22de261a-3566-4446-82b0-cc21a216780f",
   "metadata": {},
   "source": [
    "plt.figure(figsize= (12,12))\n",
    "my_circle = plt.Circle((0,0), 0.7, color = 'white') \n",
    "plt.pie(X_resampled[187].value_counts(), labels=['Normal Beats','Supraventricular Ectopy Beats','Ventricular Ectopy Beats','Fusion Beats','Unclassifiable Beats'], autopct = '%0.0f%%', colors = ['red','orange','blue','magenta','cyan'])\n",
    "p = plt.gcf()\n",
    "p.gca().add_artist(my_circle)\n",
    "plt.show()"
   ]
  },
  {
   "cell_type": "code",
   "execution_count": null,
   "id": "c65bc5ee-163e-4856-9e50-946490b27ac3",
   "metadata": {},
   "outputs": [],
   "source": []
  },
  {
   "cell_type": "code",
   "execution_count": null,
   "id": "ad7f1b51-ec04-4cdc-bda6-1b3cab9aceac",
   "metadata": {},
   "outputs": [],
   "source": []
  },
  {
   "cell_type": "code",
   "execution_count": 28,
   "id": "a18909b9-6f6c-43dd-b833-8a81c2d43b02",
   "metadata": {},
   "outputs": [],
   "source": [
    "from sklearn.model_selection import train_test_split\n",
    "from sklearn.preprocessing import MinMaxScaler"
   ]
  },
  {
   "cell_type": "raw",
   "id": "41b82315-7a5f-44d3-96d1-ad366107fd53",
   "metadata": {},
   "source": [
    "# Using Min Max scaler to normalize both the training and test datasets\n",
    "\n",
    "\n",
    "# Initialize the MinMaxScaler\n",
    "scaler = MinMaxScaler()\n",
    "\n",
    "# Fit the scaler to the training data only, then transform both training and test data\n",
    "ecg_train_scaled = scaler.fit_transform(ecg_train)\n",
    "ecg_test_scaled = scaler.transform(ecg_test)\n"
   ]
  },
  {
   "cell_type": "code",
   "execution_count": 29,
   "id": "246f10eb-fc09-415f-938d-ca59a770f07d",
   "metadata": {},
   "outputs": [
    {
     "data": {
      "text/plain": [
       "(87554, 187)"
      ]
     },
     "execution_count": 29,
     "metadata": {},
     "output_type": "execute_result"
    }
   ],
   "source": [
    "filt_ecg_signal.shape"
   ]
  },
  {
   "cell_type": "code",
   "execution_count": 30,
   "id": "f6a1ba36-d61a-4f4a-9638-c40fc8c1c03b",
   "metadata": {},
   "outputs": [
    {
     "data": {
      "text/plain": [
       "(87554,)"
      ]
     },
     "execution_count": 30,
     "metadata": {},
     "output_type": "execute_result"
    }
   ],
   "source": [
    "ecg_train_target.shape"
   ]
  },
  {
   "cell_type": "code",
   "execution_count": 31,
   "id": "746a8cef-0926-41ad-a9dc-d268f0deff24",
   "metadata": {},
   "outputs": [],
   "source": [
    "smote = SMOTE(random_state=42)\n",
    "X_res, y_res = smote.fit_resample(filt_ecg_signal, ecg_train_target)"
   ]
  },
  {
   "cell_type": "code",
   "execution_count": null,
   "id": "f86f342d-012a-4aa7-9d50-7f4cf92cdea6",
   "metadata": {},
   "outputs": [],
   "source": []
  },
  {
   "cell_type": "code",
   "execution_count": null,
   "id": "31c0c1a5-530b-4f94-9142-412d600a9100",
   "metadata": {},
   "outputs": [],
   "source": []
  },
  {
   "cell_type": "code",
   "execution_count": 32,
   "id": "5bfbe9af-9bd0-4455-bdcb-962461830f90",
   "metadata": {},
   "outputs": [],
   "source": [
    "X_res_test, y_res_test = smote.fit_resample(filt_ecg_signal_test, ecg_test_target)"
   ]
  },
  {
   "cell_type": "code",
   "execution_count": 33,
   "id": "74542354-78f3-4263-aa9e-d5880fd3cd49",
   "metadata": {},
   "outputs": [],
   "source": [
    "# Visualization after Resampling using SMOTE"
   ]
  },
  {
   "cell_type": "code",
   "execution_count": 34,
   "id": "12d455ee-7269-4e58-b5b9-ba4c5832daea",
   "metadata": {},
   "outputs": [
    {
     "data": {
      "image/png": "[encoded data removed]",
      "text/plain": [
       "<Figure size 2000x1000 with 1 Axes>"
      ]
     },
     "metadata": {},
     "output_type": "display_data"
    }
   ],
   "source": [
    "# For Training set after resampling\n",
    "plt.figure(figsize=(20,10))\n",
    "circ = plt.Circle( (0,0), 0.7, color='white')\n",
    "plt.pie(y_res.value_counts(), labels=nom_list, colors=['red','green','blue','skyblue','orange'],\n",
    "        autopct='%1.1f%%')\n",
    "pl = plt.gcf()\n",
    "pl.gca().add_artist(circ)\n",
    "plt.show()"
   ]
  },
  {
   "cell_type": "code",
   "execution_count": 36,
   "id": "4d5d6ee3-8123-409e-a38a-eb1bc12531cc",
   "metadata": {},
   "outputs": [
    {
     "data": {
      "image/png": "[encoded data removed]",
      "text/plain": [
       "<Figure size 2000x1000 with 1 Axes>"
      ]
     },
     "metadata": {},
     "output_type": "display_data"
    }
   ],
   "source": [
    "# For Testing set after resampling\n",
    "plt.figure(figsize=(20,10))\n",
    "circ = plt.Circle( (0,0), 0.7, color='white')\n",
    "plt.pie(y_res_test.value_counts(), labels=nom_list, colors=['red','green','blue','skyblue','orange'],\n",
    "        autopct='%1.1f%%')\n",
    "pl = plt.gcf()\n",
    "pl.gca().add_artist(circ)\n",
    "plt.show()"
   ]
  },
  {
   "cell_type": "code",
   "execution_count": null,
   "id": "e52a6c61-742f-4fca-9e44-72bfae2237aa",
   "metadata": {},
   "outputs": [],
   "source": []
  },
  {
   "cell_type": "code",
   "execution_count": null,
   "id": "471bb11c-939d-41c5-a59d-3e162fb73d8a",
   "metadata": {},
   "outputs": [],
   "source": []
  },
  {
   "cell_type": "code",
   "execution_count": null,
   "id": "6053c998-6d1d-4ede-af18-dc613f6a5959",
   "metadata": {},
   "outputs": [],
   "source": []
  },
  {
   "cell_type": "code",
   "execution_count": 37,
   "id": "def76da8-7738-484e-8b35-6956a1c52703",
   "metadata": {},
   "outputs": [],
   "source": [
    "# Initialize the MinMaxScaler\n",
    "scaler = MinMaxScaler()\n",
    "\n",
    "# Fit the scaler to the training data only, then transform both training and test data\n",
    "ecg_train_scaled = scaler.fit_transform(X_res)\n",
    "ecg_test_scaled = scaler.transform(X_res_test)"
   ]
  },
  {
   "cell_type": "markdown",
   "id": "282d1430-4ca5-4a55-ab41-9f30ed488eb3",
   "metadata": {},
   "source": [
    "# Model Training and Evaluation"
   ]
  },
  {
   "cell_type": "markdown",
   "id": "1061a48f-efa1-4f58-b95c-6a8b51f04015",
   "metadata": {},
   "source": [
    "## Random Forest"
   ]
  },
  {
   "cell_type": "code",
   "execution_count": 38,
   "id": "b0dd0bdf-c31e-4e29-a004-4981ade53da5",
   "metadata": {},
   "outputs": [
    {
     "name": "stdout",
     "output_type": "stream",
     "text": [
      "Test Accuracy: 0.9112595209184237\n"
     ]
    }
   ],
   "source": [
    "from sklearn.ensemble import RandomForestClassifier\n",
    "from sklearn.metrics import accuracy_score\n",
    "# Use Random Forest Regressor\n",
    "# Initialize the Random Forest classifier\n",
    "rf_classifier = RandomForestClassifier(n_estimators=50, random_state=123)\n",
    "\n",
    "# Train the classifier using extracted features and corresponding labels\n",
    "rf_classifier.fit(ecg_train_scaled, y_res)\n",
    "\n",
    "\n",
    "# Predict labels for test data\n",
    "y_pred_test = rf_classifier.predict(ecg_test_scaled)\n",
    "\n",
    "# Calculate accuracy on the test set\n",
    "accuracy_test = accuracy_score(y_res_test, y_pred_test)\n",
    "print(\"Test Accuracy:\", accuracy_test)"
   ]
  },
  {
   "cell_type": "code",
   "execution_count": null,
   "id": "fa69a609-a690-43c8-84ef-b994097aa81e",
   "metadata": {},
   "outputs": [],
   "source": [
    "# Hyperparamter tuning of Random Forest Classifier"
   ]
  },
  {
   "cell_type": "code",
   "execution_count": 39,
   "id": "e29eed6a-a859-4115-94a8-835b223fd081",
   "metadata": {},
   "outputs": [
    {
     "name": "stdout",
     "output_type": "stream",
     "text": [
      "Classification Report:\n",
      "               precision    recall  f1-score   support\n",
      "\n",
      "         0.0       0.74      0.99      0.85     18118\n",
      "         1.0       0.99      0.82      0.90     18118\n",
      "         2.0       0.93      0.95      0.94     18118\n",
      "         3.0       0.98      0.82      0.89     18118\n",
      "         4.0       1.00      0.98      0.99     18118\n",
      "\n",
      "    accuracy                           0.91     90590\n",
      "   macro avg       0.93      0.91      0.91     90590\n",
      "weighted avg       0.93      0.91      0.91     90590\n",
      "\n"
     ]
    }
   ],
   "source": [
    "# Generate classification report for Random Forest\n",
    "report = classification_report(y_res_test, y_pred_test)\n",
    "print(\"Classification Report:\\n\", report)"
   ]
  },
  {
   "cell_type": "raw",
   "id": "0e5c2b36-f4a4-470d-85bf-a00243ccfcc0",
   "metadata": {},
   "source": [
    "from sklearn.model_selection import train_test_split, RandomizedSearchCV, GridSearchCV"
   ]
  },
  {
   "cell_type": "raw",
   "id": "81912866-a60f-4696-a5f1-5643615ff436",
   "metadata": {},
   "source": [
    "# Define the parameter grid\n",
    "param_grid = {\n",
    "    'min_samples_split': [5, 10],\n",
    "    'min_samples_leaf': [2, 4]\n",
    "}\n",
    "\n",
    "# Initialize the classifier\n",
    "rf = RandomForestClassifier()\n",
    "\n",
    "# Setup the randomized search with cross-validation\n",
    "rf_random = RandomizedSearchCV(estimator=rf, param_distributions=param_grid, \n",
    "                               n_iter=10, cv=3, verbose=2, random_state=42, n_jobs=-1)"
   ]
  },
  {
   "cell_type": "raw",
   "id": "7c8bf4cd-b3c9-4914-b6d3-e4d7cd5957fa",
   "metadata": {},
   "source": [
    "# Fitting the random search model\n",
    "rf_random.fit(X_res,y_res)"
   ]
  },
  {
   "cell_type": "raw",
   "id": "40fae9d7-bcb9-45aa-8313-385f2aefc182",
   "metadata": {},
   "source": [
    "predict_rf = rf_random.predict(filt_ecg_signal_test)"
   ]
  },
  {
   "cell_type": "raw",
   "id": "b80ba7f2-6ac3-4280-acf0-01eed79dde23",
   "metadata": {},
   "source": [
    "rb_accur = accuracy_score(ecg_test_target, predict_rf)\n",
    "print(f\"Random Forest Accuracy: {xgb_accur:.5f}\")"
   ]
  },
  {
   "cell_type": "raw",
   "id": "568b2700-9d38-4f80-b468-99fb193f25fc",
   "metadata": {},
   "source": [
    "rb_report=classification_report(ecg_test_target,predict_rf)\n",
    "print(rb_report)"
   ]
  },
  {
   "cell_type": "code",
   "execution_count": null,
   "id": "20e4b243-f842-455d-9e87-88844fa67494",
   "metadata": {},
   "outputs": [],
   "source": []
  },
  {
   "cell_type": "code",
   "execution_count": null,
   "id": "ec3b8694-d5ad-4a31-a171-91238e28907f",
   "metadata": {},
   "outputs": [],
   "source": []
  },
  {
   "cell_type": "code",
   "execution_count": 41,
   "id": "6593346e-573d-4934-9015-bfdbfa85eb43",
   "metadata": {},
   "outputs": [
    {
     "name": "stdout",
     "output_type": "stream",
     "text": [
      "Collecting xgboost\n",
      "  Downloading xgboost-2.0.3-py3-none-win_amd64.whl.metadata (2.0 kB)\n",
      "Requirement already satisfied: numpy in c:\\users\\saydain s\\anaconda3\\lib\\site-packages (from xgboost) (1.26.4)\n",
      "Requirement already satisfied: scipy in c:\\users\\saydain s\\anaconda3\\lib\\site-packages (from xgboost) (1.11.4)\n",
      "Downloading xgboost-2.0.3-py3-none-win_amd64.whl (99.8 MB)\n",
      "   ---------------------------------------- 0.0/99.8 MB ? eta -:--:--\n",
      "   ---------------------------------------- 0.0/99.8 MB ? eta -:--:--\n",
      "   ---------------------------------------- 0.1/99.8 MB 919.0 kB/s eta 0:01:49\n",
      "   ---------------------------------------- 0.5/99.8 MB 3.6 MB/s eta 0:00:28\n",
      "    --------------------------------------- 1.4/99.8 MB 8.2 MB/s eta 0:00:13\n",
      "    --------------------------------------- 2.3/99.8 MB 10.4 MB/s eta 0:00:10\n",
      "   - -------------------------------------- 3.4/99.8 MB 12.8 MB/s eta 0:00:08\n",
      "   - -------------------------------------- 4.8/99.8 MB 15.4 MB/s eta 0:00:07\n",
      "   -- ------------------------------------- 6.6/99.8 MB 18.3 MB/s eta 0:00:06\n",
      "   --- ------------------------------------ 7.6/99.8 MB 19.5 MB/s eta 0:00:05\n",
      "   --- ------------------------------------ 9.7/99.8 MB 21.5 MB/s eta 0:00:05\n",
      "   ---- ----------------------------------- 11.1/99.8 MB 29.7 MB/s eta 0:00:03\n",
      "   ---- ----------------------------------- 12.2/99.8 MB 29.7 MB/s eta 0:00:03\n",
      "   ----- ---------------------------------- 13.8/99.8 MB 31.1 MB/s eta 0:00:03\n",
      "   ------ --------------------------------- 15.2/99.8 MB 32.8 MB/s eta 0:00:03\n",
      "   ------ --------------------------------- 15.7/99.8 MB 31.2 MB/s eta 0:00:03\n",
      "   ------ --------------------------------- 15.9/99.8 MB 25.2 MB/s eta 0:00:04\n",
      "   ------- -------------------------------- 18.1/99.8 MB 29.7 MB/s eta 0:00:03\n",
      "   ------- -------------------------------- 19.7/99.8 MB 26.2 MB/s eta 0:00:04\n",
      "   -------- ------------------------------- 20.4/99.8 MB 26.2 MB/s eta 0:00:04\n",
      "   -------- ------------------------------- 22.1/99.8 MB 25.2 MB/s eta 0:00:04\n",
      "   --------- ------------------------------ 23.6/99.8 MB 25.1 MB/s eta 0:00:04\n",
      "   ---------- ----------------------------- 25.1/99.8 MB 26.2 MB/s eta 0:00:03\n",
      "   ---------- ----------------------------- 25.8/99.8 MB 24.2 MB/s eta 0:00:04\n",
      "   ---------- ----------------------------- 26.3/99.8 MB 27.3 MB/s eta 0:00:03\n",
      "   ---------- ----------------------------- 27.2/99.8 MB 27.3 MB/s eta 0:00:03\n",
      "   ----------- ---------------------------- 28.7/99.8 MB 24.2 MB/s eta 0:00:03\n",
      "   ----------- ---------------------------- 29.5/99.8 MB 23.4 MB/s eta 0:00:04\n",
      "   ------------ --------------------------- 30.9/99.8 MB 24.2 MB/s eta 0:00:03\n",
      "   ------------ --------------------------- 32.3/99.8 MB 24.2 MB/s eta 0:00:03\n",
      "   ------------- -------------------------- 33.5/99.8 MB 23.4 MB/s eta 0:00:03\n",
      "   -------------- ------------------------- 35.3/99.8 MB 23.4 MB/s eta 0:00:03\n",
      "   -------------- ------------------------- 36.2/99.8 MB 25.2 MB/s eta 0:00:03\n",
      "   -------------- ------------------------- 37.0/99.8 MB 24.2 MB/s eta 0:00:03\n",
      "   --------------- ------------------------ 38.3/99.8 MB 25.1 MB/s eta 0:00:03\n",
      "   ---------------- ----------------------- 39.9/99.8 MB 28.5 MB/s eta 0:00:03\n",
      "   ---------------- ----------------------- 41.4/99.8 MB 28.5 MB/s eta 0:00:03\n",
      "   ----------------- ---------------------- 42.5/99.8 MB 27.3 MB/s eta 0:00:03\n",
      "   ----------------- ---------------------- 42.9/99.8 MB 25.2 MB/s eta 0:00:03\n",
      "   ----------------- ---------------------- 43.3/99.8 MB 23.4 MB/s eta 0:00:03\n",
      "   ----------------- ---------------------- 44.1/99.8 MB 21.9 MB/s eta 0:00:03\n",
      "   ----------------- ---------------------- 44.6/99.8 MB 21.1 MB/s eta 0:00:03\n",
      "   ------------------ --------------------- 45.8/99.8 MB 20.5 MB/s eta 0:00:03\n",
      "   ------------------ --------------------- 46.5/99.8 MB 19.8 MB/s eta 0:00:03\n",
      "   ------------------- -------------------- 47.9/99.8 MB 20.5 MB/s eta 0:00:03\n",
      "   ------------------- -------------------- 49.0/99.8 MB 21.1 MB/s eta 0:00:03\n",
      "   -------------------- ------------------- 50.6/99.8 MB 19.8 MB/s eta 0:00:03\n",
      "   -------------------- ------------------- 52.0/99.8 MB 21.1 MB/s eta 0:00:03\n",
      "   --------------------- ------------------ 53.6/99.8 MB 23.4 MB/s eta 0:00:02\n",
      "   --------------------- ------------------ 54.8/99.8 MB 26.2 MB/s eta 0:00:02\n",
      "   ---------------------- ----------------- 57.0/99.8 MB 32.8 MB/s eta 0:00:02\n",
      "   ----------------------- ---------------- 58.5/99.8 MB 32.8 MB/s eta 0:00:02\n",
      "   ------------------------ --------------- 60.1/99.8 MB 34.4 MB/s eta 0:00:02\n",
      "   ------------------------ --------------- 61.6/99.8 MB 34.4 MB/s eta 0:00:02\n",
      "   ------------------------- -------------- 63.0/99.8 MB 32.7 MB/s eta 0:00:02\n",
      "   ------------------------- -------------- 64.6/99.8 MB 36.3 MB/s eta 0:00:01\n",
      "   -------------------------- ------------- 66.7/99.8 MB 34.6 MB/s eta 0:00:01\n",
      "   --------------------------- ------------ 67.9/99.8 MB 36.3 MB/s eta 0:00:01\n",
      "   --------------------------- ------------ 69.6/99.8 MB 34.4 MB/s eta 0:00:01\n",
      "   ---------------------------- ----------- 70.5/99.8 MB 32.8 MB/s eta 0:00:01\n",
      "   ---------------------------- ----------- 71.1/99.8 MB 28.5 MB/s eta 0:00:02\n",
      "   ----------------------------- ---------- 72.4/99.8 MB 29.7 MB/s eta 0:00:01\n",
      "   ----------------------------- ---------- 73.3/99.8 MB 27.3 MB/s eta 0:00:01\n",
      "   ----------------------------- ---------- 74.6/99.8 MB 26.2 MB/s eta 0:00:01\n",
      "   ------------------------------ --------- 76.1/99.8 MB 25.2 MB/s eta 0:00:01\n",
      "   ------------------------------- -------- 77.4/99.8 MB 26.2 MB/s eta 0:00:01\n",
      "   ------------------------------- -------- 77.9/99.8 MB 22.6 MB/s eta 0:00:01\n",
      "   ------------------------------- -------- 78.7/99.8 MB 23.4 MB/s eta 0:00:01\n",
      "   -------------------------------- ------- 80.0/99.8 MB 22.6 MB/s eta 0:00:01\n",
      "   -------------------------------- ------- 81.6/99.8 MB 24.3 MB/s eta 0:00:01\n",
      "   -------------------------------- ------- 82.3/99.8 MB 23.4 MB/s eta 0:00:01\n",
      "   --------------------------------- ------ 82.6/99.8 MB 21.8 MB/s eta 0:00:01\n",
      "   --------------------------------- ------ 83.9/99.8 MB 22.6 MB/s eta 0:00:01\n",
      "   --------------------------------- ------ 84.7/99.8 MB 21.9 MB/s eta 0:00:01\n",
      "   ---------------------------------- ----- 85.9/99.8 MB 21.1 MB/s eta 0:00:01\n",
      "   ---------------------------------- ----- 86.9/99.8 MB 20.5 MB/s eta 0:00:01\n",
      "   ----------------------------------- ---- 87.9/99.8 MB 20.5 MB/s eta 0:00:01\n",
      "   ----------------------------------- ---- 89.2/99.8 MB 21.9 MB/s eta 0:00:01\n",
      "   ------------------------------------ --- 90.9/99.8 MB 22.6 MB/s eta 0:00:01\n",
      "   ------------------------------------- -- 92.8/99.8 MB 27.3 MB/s eta 0:00:01\n",
      "   ------------------------------------- -- 94.3/99.8 MB 27.3 MB/s eta 0:00:01\n",
      "   -------------------------------------- - 95.9/99.8 MB 29.8 MB/s eta 0:00:01\n",
      "   -------------------------------------- - 97.2/99.8 MB 32.8 MB/s eta 0:00:01\n",
      "   ---------------------------------------  98.8/99.8 MB 32.7 MB/s eta 0:00:01\n",
      "   ---------------------------------------  99.7/99.8 MB 34.4 MB/s eta 0:00:01\n",
      "   ---------------------------------------  99.7/99.8 MB 34.4 MB/s eta 0:00:01\n",
      "   ---------------------------------------  99.7/99.8 MB 34.4 MB/s eta 0:00:01\n",
      "   ---------------------------------------  99.7/99.8 MB 34.4 MB/s eta 0:00:01\n",
      "   ---------------------------------------  99.7/99.8 MB 34.4 MB/s eta 0:00:01\n",
      "   ---------------------------------------- 99.8/99.8 MB 19.8 MB/s eta 0:00:00\n",
      "Installing collected packages: xgboost\n",
      "Successfully installed xgboost-2.0.3\n"
     ]
    }
   ],
   "source": [
    "!pip install xgboost"
   ]
  },
  {
   "cell_type": "code",
   "execution_count": null,
   "id": "5a4056b1-5eb9-4004-b812-27a255b384f1",
   "metadata": {},
   "outputs": [],
   "source": []
  },
  {
   "cell_type": "markdown",
   "id": "af7b8578-ed35-4a9e-970e-a858aa458cdb",
   "metadata": {},
   "source": [
    "## XGBoost Classifier"
   ]
  },
  {
   "cell_type": "code",
   "execution_count": 42,
   "id": "ae1ba589-ab7b-43ce-8cf6-277a4ac14528",
   "metadata": {},
   "outputs": [],
   "source": [
    "import xgboost as xgb\n",
    "from sklearn.metrics import accuracy_score, classification_report"
   ]
  },
  {
   "cell_type": "code",
   "execution_count": 43,
   "id": "b2af476b-4b2d-479b-8062-b4d025eb8207",
   "metadata": {},
   "outputs": [],
   "source": [
    "model1 = xgb.XGBClassifier(\n",
    "    objective = 'multi:softmax',\n",
    "    max_depth=5,\n",
    "    learning_rate=0.01,\n",
    "    n_estimators=100\n",
    ")"
   ]
  },
  {
   "cell_type": "code",
   "execution_count": 44,
   "id": "16c77082-b810-4aaa-ac61-ef2f69bf9a88",
   "metadata": {},
   "outputs": [
    {
     "data": {
      "text/html": [
       "<style>#sk-container-id-1 {color: black;background-color: white;}#sk-container-id-1 pre{padding: 0;}#sk-container-id-1 div.sk-toggleable {background-color: white;}#sk-container-id-1 label.sk-toggleable__label {cursor: pointer;display: block;width: 100%;margin-bottom: 0;padding: 0.3em;box-sizing: border-box;text-align: center;}#sk-container-id-1 label.sk-toggleable__label-arrow:before {content: \"▸\";float: left;margin-right: 0.25em;color: #696969;}#sk-container-id-1 label.sk-toggleable__label-arrow:hover:before {color: black;}#sk-container-id-1 div.sk-estimator:hover label.sk-toggleable__label-arrow:before {color: black;}#sk-container-id-1 div.sk-toggleable__content {max-height: 0;max-width: 0;overflow: hidden;text-align: left;background-color: #f0f8ff;}#sk-container-id-1 div.sk-toggleable__content pre {margin: 0.2em;color: black;border-radius: 0.25em;background-color: #f0f8ff;}#sk-container-id-1 input.sk-toggleable__control:checked~div.sk-toggleable__content {max-height: 200px;max-width: 100%;overflow: auto;}#sk-container-id-1 input.sk-toggleable__control:checked~label.sk-toggleable__label-arrow:before {content: \"▾\";}#sk-container-id-1 div.sk-estimator input.sk-toggleable__control:checked~label.sk-toggleable__label {background-color: #d4ebff;}#sk-container-id-1 div.sk-label input.sk-toggleable__control:checked~label.sk-toggleable__label {background-color: #d4ebff;}#sk-container-id-1 input.sk-hidden--visually {border: 0;clip: rect(1px 1px 1px 1px);clip: rect(1px, 1px, 1px, 1px);height: 1px;margin: -1px;overflow: hidden;padding: 0;position: absolute;width: 1px;}#sk-container-id-1 div.sk-estimator {font-family: monospace;background-color: #f0f8ff;border: 1px dotted black;border-radius: 0.25em;box-sizing: border-box;margin-bottom: 0.5em;}#sk-container-id-1 div.sk-estimator:hover {background-color: #d4ebff;}#sk-container-id-1 div.sk-parallel-item::after {content: \"\";width: 100%;border-bottom: 1px solid gray;flex-grow: 1;}#sk-container-id-1 div.sk-label:hover label.sk-toggleable__label {background-color: #d4ebff;}#sk-container-id-1 div.sk-serial::before {content: \"\";position: absolute;border-left: 1px solid gray;box-sizing: border-box;top: 0;bottom: 0;left: 50%;z-index: 0;}#sk-container-id-1 div.sk-serial {display: flex;flex-direction: column;align-items: center;background-color: white;padding-right: 0.2em;padding-left: 0.2em;position: relative;}#sk-container-id-1 div.sk-item {position: relative;z-index: 1;}#sk-container-id-1 div.sk-parallel {display: flex;align-items: stretch;justify-content: center;background-color: white;position: relative;}#sk-container-id-1 div.sk-item::before, #sk-container-id-1 div.sk-parallel-item::before {content: \"\";position: absolute;border-left: 1px solid gray;box-sizing: border-box;top: 0;bottom: 0;left: 50%;z-index: -1;}#sk-container-id-1 div.sk-parallel-item {display: flex;flex-direction: column;z-index: 1;position: relative;background-color: white;}#sk-container-id-1 div.sk-parallel-item:first-child::after {align-self: flex-end;width: 50%;}#sk-container-id-1 div.sk-parallel-item:last-child::after {align-self: flex-start;width: 50%;}#sk-container-id-1 div.sk-parallel-item:only-child::after {width: 0;}#sk-container-id-1 div.sk-dashed-wrapped {border: 1px dashed gray;margin: 0 0.4em 0.5em 0.4em;box-sizing: border-box;padding-bottom: 0.4em;background-color: white;}#sk-container-id-1 div.sk-label label {font-family: monospace;font-weight: bold;display: inline-block;line-height: 1.2em;}#sk-container-id-1 div.sk-label-container {text-align: center;}#sk-container-id-1 div.sk-container {/* jupyter's `normalize.less` sets `[hidden] { display: none; }` but bootstrap.min.css set `[hidden] { display: none !important; }` so we also need the `!important` here to be able to override the default hidden behavior on the sphinx rendered scikit-learn.org. See: https://github.com/scikit-learn/scikit-learn/issues/21755 */display: inline-block !important;position: relative;}#sk-container-id-1 div.sk-text-repr-fallback {display: none;}</style><div id=\"sk-container-id-1\" class=\"sk-top-container\"><div class=\"sk-text-repr-fallback\"><pre>XGBClassifier(base_score=None, booster=None, callbacks=None,\n",
       "              colsample_bylevel=None, colsample_bynode=None,\n",
       "              colsample_bytree=None, device=None, early_stopping_rounds=None,\n",
       "              enable_categorical=False, eval_metric=None, feature_types=None,\n",
       "              gamma=None, grow_policy=None, importance_type=None,\n",
       "              interaction_constraints=None, learning_rate=0.01, max_bin=None,\n",
       "              max_cat_threshold=None, max_cat_to_onehot=None,\n",
       "              max_delta_step=None, max_depth=5, max_leaves=None,\n",
       "              min_child_weight=None, missing=nan, monotone_constraints=None,\n",
       "              multi_strategy=None, n_estimators=100, n_jobs=None,\n",
       "              num_parallel_tree=None, objective=&#x27;multi:softmax&#x27;, ...)</pre><b>In a Jupyter environment, please rerun this cell to show the HTML representation or trust the notebook. <br />On GitHub, the HTML representation is unable to render, please try loading this page with nbviewer.org.</b></div><div class=\"sk-container\" hidden><div class=\"sk-item\"><div class=\"sk-estimator sk-toggleable\"><input class=\"sk-toggleable__control sk-hidden--visually\" id=\"sk-estimator-id-1\" type=\"checkbox\" checked><label for=\"sk-estimator-id-1\" class=\"sk-toggleable__label sk-toggleable__label-arrow\">XGBClassifier</label><div class=\"sk-toggleable__content\"><pre>XGBClassifier(base_score=None, booster=None, callbacks=None,\n",
       "              colsample_bylevel=None, colsample_bynode=None,\n",
       "              colsample_bytree=None, device=None, early_stopping_rounds=None,\n",
       "              enable_categorical=False, eval_metric=None, feature_types=None,\n",
       "              gamma=None, grow_policy=None, importance_type=None,\n",
       "              interaction_constraints=None, learning_rate=0.01, max_bin=None,\n",
       "              max_cat_threshold=None, max_cat_to_onehot=None,\n",
       "              max_delta_step=None, max_depth=5, max_leaves=None,\n",
       "              min_child_weight=None, missing=nan, monotone_constraints=None,\n",
       "              multi_strategy=None, n_estimators=100, n_jobs=None,\n",
       "              num_parallel_tree=None, objective=&#x27;multi:softmax&#x27;, ...)</pre></div></div></div></div></div>"
      ],
      "text/plain": [
       "XGBClassifier(base_score=None, booster=None, callbacks=None,\n",
       "              colsample_bylevel=None, colsample_bynode=None,\n",
       "              colsample_bytree=None, device=None, early_stopping_rounds=None,\n",
       "              enable_categorical=False, eval_metric=None, feature_types=None,\n",
       "              gamma=None, grow_policy=None, importance_type=None,\n",
       "              interaction_constraints=None, learning_rate=0.01, max_bin=None,\n",
       "              max_cat_threshold=None, max_cat_to_onehot=None,\n",
       "              max_delta_step=None, max_depth=5, max_leaves=None,\n",
       "              min_child_weight=None, missing=nan, monotone_constraints=None,\n",
       "              multi_strategy=None, n_estimators=100, n_jobs=None,\n",
       "              num_parallel_tree=None, objective='multi:softmax', ...)"
      ]
     },
     "execution_count": 44,
     "metadata": {},
     "output_type": "execute_result"
    }
   ],
   "source": [
    "model1.fit(X_res,y_res)"
   ]
  },
  {
   "cell_type": "code",
   "execution_count": 45,
   "id": "0d66bb95-f8bc-4ea2-84b7-d5458df8a358",
   "metadata": {},
   "outputs": [],
   "source": [
    "predict = model1.predict(filt_ecg_signal_test)"
   ]
  },
  {
   "cell_type": "code",
   "execution_count": 46,
   "id": "ff50b84f-8c5d-466d-a6f9-6b5b5554696f",
   "metadata": {},
   "outputs": [
    {
     "name": "stdout",
     "output_type": "stream",
     "text": [
      "XGBoost Accuracy: 0.83962\n"
     ]
    }
   ],
   "source": [
    "xgb_accur = accuracy_score(ecg_test_target, predict)\n",
    "print(f\"XGBoost Accuracy: {xgb_accur:.5f}\")"
   ]
  },
  {
   "cell_type": "code",
   "execution_count": 47,
   "id": "eac348d3-8b0c-44e4-9a42-cf100947e0a0",
   "metadata": {},
   "outputs": [
    {
     "name": "stdout",
     "output_type": "stream",
     "text": [
      "              precision    recall  f1-score   support\n",
      "\n",
      "         0.0       0.98      0.83      0.90     18118\n",
      "         1.0       0.29      0.77      0.42       556\n",
      "         2.0       0.68      0.85      0.76      1448\n",
      "         3.0       0.11      0.88      0.19       162\n",
      "         4.0       0.77      0.94      0.85      1608\n",
      "\n",
      "    accuracy                           0.84     21892\n",
      "   macro avg       0.57      0.86      0.62     21892\n",
      "weighted avg       0.92      0.84      0.87     21892\n",
      "\n"
     ]
    }
   ],
   "source": [
    "xgb_report=classification_report(ecg_test_target,predict)\n",
    "print(xgb_report)"
   ]
  },
  {
   "cell_type": "code",
   "execution_count": 48,
   "id": "ebf58312-e50c-4cb0-898b-7ad18f7fea05",
   "metadata": {},
   "outputs": [],
   "source": [
    "from sklearn.model_selection import GridSearchCV"
   ]
  },
  {
   "cell_type": "code",
   "execution_count": 49,
   "id": "a22422d5-1b9d-473a-8c60-46115577d04c",
   "metadata": {},
   "outputs": [],
   "source": [
    "model2 = xgb.XGBClassifier()"
   ]
  },
  {
   "cell_type": "code",
   "execution_count": 50,
   "id": "cbc84280-5173-452d-9107-be6748ec42e9",
   "metadata": {},
   "outputs": [],
   "source": [
    "# Define the parameter grid\n",
    "param_grid = {\n",
    "    'max_depth': [3, 5, 7],\n",
    "    'learning_rate': [0.01, 0.1, 0.2]\n",
    "}"
   ]
  },
  {
   "cell_type": "code",
   "execution_count": null,
   "id": "6d508e56-42ea-495e-924b-51d982a18ea6",
   "metadata": {},
   "outputs": [],
   "source": []
  },
  {
   "cell_type": "markdown",
   "id": "e249f47d-813a-4291-93b6-eadd62719715",
   "metadata": {},
   "source": [
    "  'n_estimators': [100, 200, 300],\n",
    "    'colsample_bytree': [0.3, 0.7],\n",
    "    'subsample': [0.8, 1.0]"
   ]
  },
  {
   "cell_type": "raw",
   "id": "b91e1cf2-24a7-40d0-863b-e8a365a780a0",
   "metadata": {},
   "source": [
    "# Setup the grid search\n",
    "grid_search = GridSearchCV(estimator=model2, param_grid=param_grid, \n",
    "                           scoring='accuracy', cv=3, verbose=2)\n"
   ]
  },
  {
   "cell_type": "raw",
   "id": "51960ea6-41c1-4489-b7cb-e4cc9017cf5f",
   "metadata": {},
   "source": [
    "# Fit the grid search to the data\n",
    "grid_search.fit(X_res, y_res)"
   ]
  },
  {
   "cell_type": "raw",
   "id": "c63b5901-0bbd-4d88-bad1-85bcbc7c151b",
   "metadata": {},
   "source": [
    "print(\"Best Parameters:\", grid_search.best_params_)\n",
    "best_model = grid_search.best_estimator_"
   ]
  },
  {
   "cell_type": "raw",
   "id": "276dd258-f854-435c-af4b-a3cfe3c03038",
   "metadata": {},
   "source": [
    "print(best_model)"
   ]
  },
  {
   "cell_type": "code",
   "execution_count": 51,
   "id": "03e78ad3-b0f1-4baf-9653-65b7b97e4fee",
   "metadata": {},
   "outputs": [],
   "source": [
    "# After Hyperparameter Tuning\n",
    "\n",
    "model3 = xgb.XGBClassifier(\n",
    "    objective = 'multi:softmax',\n",
    "    max_depth=7,\n",
    "    learning_rate=0.2,\n",
    "    n_estimators=100\n",
    ")"
   ]
  },
  {
   "cell_type": "code",
   "execution_count": 52,
   "id": "9fdb81ac-87ac-4659-b365-b1661920b40c",
   "metadata": {},
   "outputs": [
    {
     "data": {
      "text/html": [
       "<style>#sk-container-id-2 {color: black;background-color: white;}#sk-container-id-2 pre{padding: 0;}#sk-container-id-2 div.sk-toggleable {background-color: white;}#sk-container-id-2 label.sk-toggleable__label {cursor: pointer;display: block;width: 100%;margin-bottom: 0;padding: 0.3em;box-sizing: border-box;text-align: center;}#sk-container-id-2 label.sk-toggleable__label-arrow:before {content: \"▸\";float: left;margin-right: 0.25em;color: #696969;}#sk-container-id-2 label.sk-toggleable__label-arrow:hover:before {color: black;}#sk-container-id-2 div.sk-estimator:hover label.sk-toggleable__label-arrow:before {color: black;}#sk-container-id-2 div.sk-toggleable__content {max-height: 0;max-width: 0;overflow: hidden;text-align: left;background-color: #f0f8ff;}#sk-container-id-2 div.sk-toggleable__content pre {margin: 0.2em;color: black;border-radius: 0.25em;background-color: #f0f8ff;}#sk-container-id-2 input.sk-toggleable__control:checked~div.sk-toggleable__content {max-height: 200px;max-width: 100%;overflow: auto;}#sk-container-id-2 input.sk-toggleable__control:checked~label.sk-toggleable__label-arrow:before {content: \"▾\";}#sk-container-id-2 div.sk-estimator input.sk-toggleable__control:checked~label.sk-toggleable__label {background-color: #d4ebff;}#sk-container-id-2 div.sk-label input.sk-toggleable__control:checked~label.sk-toggleable__label {background-color: #d4ebff;}#sk-container-id-2 input.sk-hidden--visually {border: 0;clip: rect(1px 1px 1px 1px);clip: rect(1px, 1px, 1px, 1px);height: 1px;margin: -1px;overflow: hidden;padding: 0;position: absolute;width: 1px;}#sk-container-id-2 div.sk-estimator {font-family: monospace;background-color: #f0f8ff;border: 1px dotted black;border-radius: 0.25em;box-sizing: border-box;margin-bottom: 0.5em;}#sk-container-id-2 div.sk-estimator:hover {background-color: #d4ebff;}#sk-container-id-2 div.sk-parallel-item::after {content: \"\";width: 100%;border-bottom: 1px solid gray;flex-grow: 1;}#sk-container-id-2 div.sk-label:hover label.sk-toggleable__label {background-color: #d4ebff;}#sk-container-id-2 div.sk-serial::before {content: \"\";position: absolute;border-left: 1px solid gray;box-sizing: border-box;top: 0;bottom: 0;left: 50%;z-index: 0;}#sk-container-id-2 div.sk-serial {display: flex;flex-direction: column;align-items: center;background-color: white;padding-right: 0.2em;padding-left: 0.2em;position: relative;}#sk-container-id-2 div.sk-item {position: relative;z-index: 1;}#sk-container-id-2 div.sk-parallel {display: flex;align-items: stretch;justify-content: center;background-color: white;position: relative;}#sk-container-id-2 div.sk-item::before, #sk-container-id-2 div.sk-parallel-item::before {content: \"\";position: absolute;border-left: 1px solid gray;box-sizing: border-box;top: 0;bottom: 0;left: 50%;z-index: -1;}#sk-container-id-2 div.sk-parallel-item {display: flex;flex-direction: column;z-index: 1;position: relative;background-color: white;}#sk-container-id-2 div.sk-parallel-item:first-child::after {align-self: flex-end;width: 50%;}#sk-container-id-2 div.sk-parallel-item:last-child::after {align-self: flex-start;width: 50%;}#sk-container-id-2 div.sk-parallel-item:only-child::after {width: 0;}#sk-container-id-2 div.sk-dashed-wrapped {border: 1px dashed gray;margin: 0 0.4em 0.5em 0.4em;box-sizing: border-box;padding-bottom: 0.4em;background-color: white;}#sk-container-id-2 div.sk-label label {font-family: monospace;font-weight: bold;display: inline-block;line-height: 1.2em;}#sk-container-id-2 div.sk-label-container {text-align: center;}#sk-container-id-2 div.sk-container {/* jupyter's `normalize.less` sets `[hidden] { display: none; }` but bootstrap.min.css set `[hidden] { display: none !important; }` so we also need the `!important` here to be able to override the default hidden behavior on the sphinx rendered scikit-learn.org. See: https://github.com/scikit-learn/scikit-learn/issues/21755 */display: inline-block !important;position: relative;}#sk-container-id-2 div.sk-text-repr-fallback {display: none;}</style><div id=\"sk-container-id-2\" class=\"sk-top-container\"><div class=\"sk-text-repr-fallback\"><pre>XGBClassifier(base_score=None, booster=None, callbacks=None,\n",
       "              colsample_bylevel=None, colsample_bynode=None,\n",
       "              colsample_bytree=None, device=None, early_stopping_rounds=None,\n",
       "              enable_categorical=False, eval_metric=None, feature_types=None,\n",
       "              gamma=None, grow_policy=None, importance_type=None,\n",
       "              interaction_constraints=None, learning_rate=0.2, max_bin=None,\n",
       "              max_cat_threshold=None, max_cat_to_onehot=None,\n",
       "              max_delta_step=None, max_depth=7, max_leaves=None,\n",
       "              min_child_weight=None, missing=nan, monotone_constraints=None,\n",
       "              multi_strategy=None, n_estimators=100, n_jobs=None,\n",
       "              num_parallel_tree=None, objective=&#x27;multi:softmax&#x27;, ...)</pre><b>In a Jupyter environment, please rerun this cell to show the HTML representation or trust the notebook. <br />On GitHub, the HTML representation is unable to render, please try loading this page with nbviewer.org.</b></div><div class=\"sk-container\" hidden><div class=\"sk-item\"><div class=\"sk-estimator sk-toggleable\"><input class=\"sk-toggleable__control sk-hidden--visually\" id=\"sk-estimator-id-2\" type=\"checkbox\" checked><label for=\"sk-estimator-id-2\" class=\"sk-toggleable__label sk-toggleable__label-arrow\">XGBClassifier</label><div class=\"sk-toggleable__content\"><pre>XGBClassifier(base_score=None, booster=None, callbacks=None,\n",
       "              colsample_bylevel=None, colsample_bynode=None,\n",
       "              colsample_bytree=None, device=None, early_stopping_rounds=None,\n",
       "              enable_categorical=False, eval_metric=None, feature_types=None,\n",
       "              gamma=None, grow_policy=None, importance_type=None,\n",
       "              interaction_constraints=None, learning_rate=0.2, max_bin=None,\n",
       "              max_cat_threshold=None, max_cat_to_onehot=None,\n",
       "              max_delta_step=None, max_depth=7, max_leaves=None,\n",
       "              min_child_weight=None, missing=nan, monotone_constraints=None,\n",
       "              multi_strategy=None, n_estimators=100, n_jobs=None,\n",
       "              num_parallel_tree=None, objective=&#x27;multi:softmax&#x27;, ...)</pre></div></div></div></div></div>"
      ],
      "text/plain": [
       "XGBClassifier(base_score=None, booster=None, callbacks=None,\n",
       "              colsample_bylevel=None, colsample_bynode=None,\n",
       "              colsample_bytree=None, device=None, early_stopping_rounds=None,\n",
       "              enable_categorical=False, eval_metric=None, feature_types=None,\n",
       "              gamma=None, grow_policy=None, importance_type=None,\n",
       "              interaction_constraints=None, learning_rate=0.2, max_bin=None,\n",
       "              max_cat_threshold=None, max_cat_to_onehot=None,\n",
       "              max_delta_step=None, max_depth=7, max_leaves=None,\n",
       "              min_child_weight=None, missing=nan, monotone_constraints=None,\n",
       "              multi_strategy=None, n_estimators=100, n_jobs=None,\n",
       "              num_parallel_tree=None, objective='multi:softmax', ...)"
      ]
     },
     "execution_count": 52,
     "metadata": {},
     "output_type": "execute_result"
    }
   ],
   "source": [
    "model3.fit(X_res,y_res)"
   ]
  },
  {
   "cell_type": "code",
   "execution_count": 53,
   "id": "8005a2e9-1a36-4569-bb35-9e2d01f425e2",
   "metadata": {},
   "outputs": [],
   "source": [
    "predict2 = model3.predict(filt_ecg_signal_test)"
   ]
  },
  {
   "cell_type": "code",
   "execution_count": 54,
   "id": "45058ada-9177-4647-967e-a1d7f6427c07",
   "metadata": {},
   "outputs": [
    {
     "name": "stdout",
     "output_type": "stream",
     "text": [
      "XGBoost Accuracy: 0.96656\n"
     ]
    }
   ],
   "source": [
    "xgb_accur = accuracy_score(ecg_test_target, predict2)\n",
    "print(f\"XGBoost Accuracy: {xgb_accur:.5f}\")"
   ]
  },
  {
   "cell_type": "code",
   "execution_count": 55,
   "id": "60e61d5a-5e0c-427a-a70e-e3d632b65482",
   "metadata": {},
   "outputs": [
    {
     "name": "stdout",
     "output_type": "stream",
     "text": [
      "              precision    recall  f1-score   support\n",
      "\n",
      "         0.0       0.99      0.97      0.98     18118\n",
      "         1.0       0.63      0.80      0.71       556\n",
      "         2.0       0.91      0.94      0.92      1448\n",
      "         3.0       0.55      0.83      0.66       162\n",
      "         4.0       0.98      0.98      0.98      1608\n",
      "\n",
      "    accuracy                           0.97     21892\n",
      "   macro avg       0.81      0.90      0.85     21892\n",
      "weighted avg       0.97      0.97      0.97     21892\n",
      "\n"
     ]
    }
   ],
   "source": [
    "xgb_report2=classification_report(ecg_test_target,predict2)\n",
    "print(xgb_report2)"
   ]
  },
  {
   "cell_type": "markdown",
   "id": "05109e76-f35d-4e2d-9132-789c3664d942",
   "metadata": {},
   "source": [
    "## Building our own Neural Network"
   ]
  },
  {
   "cell_type": "code",
   "execution_count": 56,
   "id": "f128d290-c937-41ed-9a7c-40dfbf37a744",
   "metadata": {},
   "outputs": [],
   "source": [
    "from sklearn.preprocessing import StandardScaler\n",
    "from keras.models import Sequential\n",
    "from keras.layers import Dense"
   ]
  },
  {
   "cell_type": "code",
   "execution_count": 57,
   "id": "aa07d0a8-a216-4051-bbdc-33357a42436a",
   "metadata": {},
   "outputs": [],
   "source": [
    "from sklearn.metrics import classification_report"
   ]
  },
  {
   "cell_type": "code",
   "execution_count": 58,
   "id": "a211662d-5f23-427c-8066-bf1cda419185",
   "metadata": {},
   "outputs": [],
   "source": [
    "from sklearn.metrics import auc, accuracy_score, classification_report, \\\n",
    "     confusion_matrix, roc_auc_score, roc_curve, precision_recall_curve"
   ]
  },
  {
   "cell_type": "code",
   "execution_count": 59,
   "id": "313a8d94-25bc-4cc1-babf-84a0e57a3f70",
   "metadata": {},
   "outputs": [],
   "source": [
    "# Splitting Target and other values\n",
    "ecg_train_target = ecg_train[187]\n",
    "ecg_test_target = ecg_test[187]\n",
    "train_val = ecg_train.drop(187,axis=1)\n",
    "test_val = ecg_test.drop(187,axis=1)"
   ]
  },
  {
   "cell_type": "code",
   "execution_count": 60,
   "id": "e748f5cf-c576-415a-b009-0dfc6efb623d",
   "metadata": {},
   "outputs": [
    {
     "data": {
      "text/plain": [
       "array([[ 9.78025359e-01,  9.31228125e-01,  6.72655870e-01, ...,\n",
       "        -1.09241887e-08,  5.64004720e-09, -4.45968278e-10],\n",
       "       [ 9.60060339e-01,  8.57851804e-01,  4.71493020e-01, ...,\n",
       "         2.68216982e-06, -9.78011243e-07, -5.00657850e-07],\n",
       "       [ 1.00008352e+00,  6.55272004e-01,  1.93779589e-01, ...,\n",
       "        -5.08565457e-09,  3.38196512e-09, -1.34206895e-09],\n",
       "       ...,\n",
       "       [ 9.06053988e-01,  6.26892529e-01,  5.91530715e-01, ...,\n",
       "        -1.21672499e-06,  3.25671883e-07,  4.04099652e-07],\n",
       "       [ 8.58253894e-01,  6.70658402e-01,  8.00159391e-01, ...,\n",
       "        -2.01228176e-07,  7.49996511e-08,  3.51241515e-08],\n",
       "       [ 9.01512019e-01,  8.46941636e-01,  7.98770636e-01, ...,\n",
       "        -7.81099988e-07,  4.98316305e-07, -1.74452632e-07]])"
      ]
     },
     "execution_count": 60,
     "metadata": {},
     "output_type": "execute_result"
    }
   ],
   "source": [
    "# Domain Knowledge Filtering for Train_val\n",
    "filt_ecg_signal"
   ]
  },
  {
   "cell_type": "code",
   "execution_count": 61,
   "id": "df802863-f9b9-4871-a124-e6cf1e0d322c",
   "metadata": {},
   "outputs": [
    {
     "data": {
      "text/plain": [
       "array([[ 1.00004289e+00,  7.51682644e-01,  1.23223863e-01, ...,\n",
       "        -2.24582001e-07,  7.35644454e-08,  5.44097956e-08],\n",
       "       [ 9.08476997e-01,  7.85617846e-01,  5.27877448e-01, ...,\n",
       "        -1.10038438e-08,  5.95287910e-09, -8.56784724e-10],\n",
       "       [ 7.29999815e-01,  2.07607365e-01,  8.94294859e-03, ...,\n",
       "        -4.60299111e-08,  7.34562841e-08, -7.64171920e-08],\n",
       "       ...,\n",
       "       [ 1.00005344e+00,  9.62717192e-01,  6.28419271e-01, ...,\n",
       "         1.05951485e-07, -2.38688776e-07,  2.80308994e-07],\n",
       "       [ 9.84229411e-01,  5.76291528e-01,  5.90984058e-01, ...,\n",
       "         3.79262186e-07, -3.85683279e-07,  3.00297169e-07],\n",
       "       [ 9.73965751e-01,  9.13437923e-01,  8.65127682e-01, ...,\n",
       "         1.86500884e-07, -4.57296505e-07,  5.49131548e-07]])"
      ]
     },
     "execution_count": 61,
     "metadata": {},
     "output_type": "execute_result"
    }
   ],
   "source": [
    "# Domain Knowledge Filtering for Test_val\n",
    "filt_ecg_signal_test"
   ]
  },
  {
   "cell_type": "markdown",
   "id": "59fb953f-2d5e-4a81-851f-2d47d538bd31",
   "metadata": {},
   "source": [
    "### For Training Data after Butter Filteration"
   ]
  },
  {
   "cell_type": "code",
   "execution_count": 62,
   "id": "eec7249b-6600-4398-8b6d-bd0a67db7c99",
   "metadata": {},
   "outputs": [],
   "source": [
    "# Split the filt_ecg_signal data into training and testing sets\n",
    "X_train, X_test, y_train, y_test = train_test_split(filt_ecg_signal, ecg_train_target, test_size=0.2, random_state=42)\n",
    "\n",
    "# Normalize the data\n",
    "scaler = StandardScaler()\n",
    "X_train = scaler.fit_transform(X_train)\n",
    "X_test = scaler.transform(X_test)\n"
   ]
  },
  {
   "cell_type": "code",
   "execution_count": 63,
   "id": "1ede2ccf-4235-450b-9565-5f4fdeaef045",
   "metadata": {},
   "outputs": [
    {
     "data": {
      "text/plain": [
       "array([[ 0.44071979,  1.10299806,  1.39836579, ..., -0.09332813,\n",
       "        -0.09083619, -0.0891792 ],\n",
       "       [ 0.45646993, -0.62618856, -0.79753002, ..., -0.093375  ,\n",
       "        -0.0907821 , -0.0892254 ],\n",
       "       [ 0.4060142 ,  0.81901255,  0.55654344, ..., -0.09341885,\n",
       "        -0.09070117, -0.08931573],\n",
       "       ...,\n",
       "       [ 0.45653788,  0.94491166,  0.52717779, ..., -0.09342377,\n",
       "        -0.09073365, -0.0892613 ],\n",
       "       [ 0.07324215,  1.1082925 ,  0.13970261, ..., -0.09337374,\n",
       "        -0.09078367, -0.08922397],\n",
       "       [-0.46300688, -0.28002413, -0.04062521, ..., -0.09336951,\n",
       "        -0.09078516, -0.08922507]])"
      ]
     },
     "execution_count": 63,
     "metadata": {},
     "output_type": "execute_result"
    }
   ],
   "source": [
    "X_train"
   ]
  },
  {
   "cell_type": "code",
   "execution_count": 64,
   "id": "58397a11-404f-44e4-ac80-a2f9238ff3c4",
   "metadata": {},
   "outputs": [
    {
     "data": {
      "text/plain": [
       "array([[ 0.31509754,  0.13522705, -1.35463638, ..., -0.09337272,\n",
       "        -0.09078399, -0.0892243 ],\n",
       "       [ 0.45635056, -0.78390221, -1.79883335, ..., -0.09336809,\n",
       "        -0.09078778, -0.08922216],\n",
       "       [-0.2419337 , -0.18295194,  0.27678244, ..., -0.09337265,\n",
       "        -0.090784  , -0.08922434],\n",
       "       ...,\n",
       "       [-3.63897583, -3.33495742, -1.79561809, ..., -0.09346447,\n",
       "        -0.09070411, -0.08927434],\n",
       "       [-3.68719801, -1.99716384, -0.59609752, ..., -0.09339077,\n",
       "        -0.09078694, -0.08920515],\n",
       "       [-3.68671926, -2.61781328, -0.598143  , ...,  0.34473217,\n",
       "        -0.39168228, -0.01540548]])"
      ]
     },
     "execution_count": 64,
     "metadata": {},
     "output_type": "execute_result"
    }
   ],
   "source": [
    "X_test"
   ]
  },
  {
   "cell_type": "code",
   "execution_count": 65,
   "id": "5d80797f-7a12-4481-88bd-c153bf513488",
   "metadata": {},
   "outputs": [
    {
     "data": {
      "text/plain": [
       "(70043, 187)"
      ]
     },
     "execution_count": 65,
     "metadata": {},
     "output_type": "execute_result"
    }
   ],
   "source": [
    "X_train.shape"
   ]
  },
  {
   "cell_type": "code",
   "execution_count": 66,
   "id": "94b7a4b2-b610-4854-98b8-0787909449e7",
   "metadata": {},
   "outputs": [
    {
     "data": {
      "text/plain": [
       "(17511, 187)"
      ]
     },
     "execution_count": 66,
     "metadata": {},
     "output_type": "execute_result"
    }
   ],
   "source": [
    "X_test.shape"
   ]
  },
  {
   "cell_type": "code",
   "execution_count": null,
   "id": "af926a52-4df9-4840-b877-99cf09881a4b",
   "metadata": {},
   "outputs": [],
   "source": []
  },
  {
   "cell_type": "raw",
   "id": "77929f19-f741-467c-8a6f-eff594149d9b",
   "metadata": {},
   "source": [
    "# Initialize the MinMaxScaler\n",
    "scaler = MinMaxScaler()\n",
    "\n",
    "# Fit the scaler to the training data only, then transform both training and test data\n",
    "ecg_train_scaled = scaler.fit_transform(X_res)\n",
    "ecg_test_scaled = scaler.transform(X_res_test)"
   ]
  },
  {
   "cell_type": "markdown",
   "id": "5609c6de-ae46-4b1f-a76e-eb7fd1fb699b",
   "metadata": {},
   "source": [
    "### Our First NN Model"
   ]
  },
  {
   "cell_type": "code",
   "execution_count": 67,
   "id": "710fe419-250c-44d7-bc25-bde34d94eb62",
   "metadata": {},
   "outputs": [
    {
     "name": "stdout",
     "output_type": "stream",
     "text": [
      "Epoch 1/50\n",
      "\u001b[1m2189/2189\u001b[0m \u001b[32m━━━━━━━━━━━━━━━━━━━━\u001b[0m\u001b[37m\u001b[0m \u001b[1m11s\u001b[0m 3ms/step - accuracy: 0.8250 - loss: nan - val_accuracy: 0.8326 - val_loss: nan\n",
      "Epoch 2/50\n",
      "\u001b[1m2189/2189\u001b[0m \u001b[32m━━━━━━━━━━━━━━━━━━━━\u001b[0m\u001b[37m\u001b[0m \u001b[1m5s\u001b[0m 2ms/step - accuracy: 0.8268 - loss: nan - val_accuracy: 0.8326 - val_loss: nan\n",
      "Epoch 3/50\n",
      "\u001b[1m2189/2189\u001b[0m \u001b[32m━━━━━━━━━━━━━━━━━━━━\u001b[0m\u001b[37m\u001b[0m \u001b[1m6s\u001b[0m 3ms/step - accuracy: 0.8265 - loss: nan - val_accuracy: 0.8326 - val_loss: nan\n",
      "Epoch 4/50\n",
      "\u001b[1m2189/2189\u001b[0m \u001b[32m━━━━━━━━━━━━━━━━━━━━\u001b[0m\u001b[37m\u001b[0m \u001b[1m5s\u001b[0m 2ms/step - accuracy: 0.8277 - loss: nan - val_accuracy: 0.8326 - val_loss: nan\n",
      "Epoch 5/50\n",
      "\u001b[1m2189/2189\u001b[0m \u001b[32m━━━━━━━━━━━━━━━━━━━━\u001b[0m\u001b[37m\u001b[0m \u001b[1m5s\u001b[0m 2ms/step - accuracy: 0.8270 - loss: nan - val_accuracy: 0.8326 - val_loss: nan\n",
      "Epoch 6/50\n",
      "\u001b[1m2189/2189\u001b[0m \u001b[32m━━━━━━━━━━━━━━━━━━━━\u001b[0m\u001b[37m\u001b[0m \u001b[1m6s\u001b[0m 3ms/step - accuracy: 0.8260 - loss: nan - val_accuracy: 0.8326 - val_loss: nan\n",
      "Epoch 7/50\n",
      "\u001b[1m2189/2189\u001b[0m \u001b[32m━━━━━━━━━━━━━━━━━━━━\u001b[0m\u001b[37m\u001b[0m \u001b[1m6s\u001b[0m 3ms/step - accuracy: 0.8271 - loss: nan - val_accuracy: 0.8326 - val_loss: nan\n",
      "Epoch 8/50\n",
      "\u001b[1m2189/2189\u001b[0m \u001b[32m━━━━━━━━━━━━━━━━━━━━\u001b[0m\u001b[37m\u001b[0m \u001b[1m6s\u001b[0m 3ms/step - accuracy: 0.8277 - loss: nan - val_accuracy: 0.8326 - val_loss: nan\n",
      "Epoch 9/50\n",
      "\u001b[1m2189/2189\u001b[0m \u001b[32m━━━━━━━━━━━━━━━━━━━━\u001b[0m\u001b[37m\u001b[0m \u001b[1m6s\u001b[0m 3ms/step - accuracy: 0.8288 - loss: nan - val_accuracy: 0.8326 - val_loss: nan\n",
      "Epoch 10/50\n",
      "\u001b[1m2189/2189\u001b[0m \u001b[32m━━━━━━━━━━━━━━━━━━━━\u001b[0m\u001b[37m\u001b[0m \u001b[1m6s\u001b[0m 3ms/step - accuracy: 0.8278 - loss: nan - val_accuracy: 0.8326 - val_loss: nan\n",
      "Epoch 11/50\n",
      "\u001b[1m2189/2189\u001b[0m \u001b[32m━━━━━━━━━━━━━━━━━━━━\u001b[0m\u001b[37m\u001b[0m \u001b[1m6s\u001b[0m 3ms/step - accuracy: 0.8289 - loss: nan - val_accuracy: 0.8326 - val_loss: nan\n",
      "Epoch 12/50\n",
      "\u001b[1m2189/2189\u001b[0m \u001b[32m━━━━━━━━━━━━━━━━━━━━\u001b[0m\u001b[37m\u001b[0m \u001b[1m5s\u001b[0m 2ms/step - accuracy: 0.8238 - loss: nan - val_accuracy: 0.8326 - val_loss: nan\n",
      "Epoch 13/50\n",
      "\u001b[1m2189/2189\u001b[0m \u001b[32m━━━━━━━━━━━━━━━━━━━━\u001b[0m\u001b[37m\u001b[0m \u001b[1m5s\u001b[0m 2ms/step - accuracy: 0.8267 - loss: nan - val_accuracy: 0.8326 - val_loss: nan\n",
      "Epoch 14/50\n",
      "\u001b[1m2189/2189\u001b[0m \u001b[32m━━━━━━━━━━━━━━━━━━━━\u001b[0m\u001b[37m\u001b[0m \u001b[1m6s\u001b[0m 3ms/step - accuracy: 0.8269 - loss: nan - val_accuracy: 0.8326 - val_loss: nan\n",
      "Epoch 15/50\n",
      "\u001b[1m2189/2189\u001b[0m \u001b[32m━━━━━━━━━━━━━━━━━━━━\u001b[0m\u001b[37m\u001b[0m \u001b[1m5s\u001b[0m 2ms/step - accuracy: 0.8260 - loss: nan - val_accuracy: 0.8326 - val_loss: nan\n",
      "Epoch 16/50\n",
      "\u001b[1m2189/2189\u001b[0m \u001b[32m━━━━━━━━━━━━━━━━━━━━\u001b[0m\u001b[37m\u001b[0m \u001b[1m5s\u001b[0m 2ms/step - accuracy: 0.8252 - loss: nan - val_accuracy: 0.8326 - val_loss: nan\n",
      "Epoch 17/50\n",
      "\u001b[1m2189/2189\u001b[0m \u001b[32m━━━━━━━━━━━━━━━━━━━━\u001b[0m\u001b[37m\u001b[0m \u001b[1m5s\u001b[0m 2ms/step - accuracy: 0.8277 - loss: nan - val_accuracy: 0.8326 - val_loss: nan\n",
      "Epoch 18/50\n",
      "\u001b[1m2189/2189\u001b[0m \u001b[32m━━━━━━━━━━━━━━━━━━━━\u001b[0m\u001b[37m\u001b[0m \u001b[1m5s\u001b[0m 2ms/step - accuracy: 0.8272 - loss: nan - val_accuracy: 0.8326 - val_loss: nan\n",
      "Epoch 19/50\n",
      "\u001b[1m2189/2189\u001b[0m \u001b[32m━━━━━━━━━━━━━━━━━━━━\u001b[0m\u001b[37m\u001b[0m \u001b[1m5s\u001b[0m 2ms/step - accuracy: 0.8268 - loss: nan - val_accuracy: 0.8326 - val_loss: nan\n",
      "Epoch 20/50\n",
      "\u001b[1m2189/2189\u001b[0m \u001b[32m━━━━━━━━━━━━━━━━━━━━\u001b[0m\u001b[37m\u001b[0m \u001b[1m5s\u001b[0m 2ms/step - accuracy: 0.8273 - loss: nan - val_accuracy: 0.8326 - val_loss: nan\n",
      "Epoch 21/50\n",
      "\u001b[1m2189/2189\u001b[0m \u001b[32m━━━━━━━━━━━━━━━━━━━━\u001b[0m\u001b[37m\u001b[0m \u001b[1m5s\u001b[0m 2ms/step - accuracy: 0.8266 - loss: nan - val_accuracy: 0.8326 - val_loss: nan\n",
      "Epoch 22/50\n",
      "\u001b[1m2189/2189\u001b[0m \u001b[32m━━━━━━━━━━━━━━━━━━━━\u001b[0m\u001b[37m\u001b[0m \u001b[1m5s\u001b[0m 2ms/step - accuracy: 0.8274 - loss: nan - val_accuracy: 0.8326 - val_loss: nan\n",
      "Epoch 23/50\n",
      "\u001b[1m2189/2189\u001b[0m \u001b[32m━━━━━━━━━━━━━━━━━━━━\u001b[0m\u001b[37m\u001b[0m \u001b[1m5s\u001b[0m 2ms/step - accuracy: 0.8244 - loss: nan - val_accuracy: 0.8326 - val_loss: nan\n",
      "Epoch 24/50\n",
      "\u001b[1m2189/2189\u001b[0m \u001b[32m━━━━━━━━━━━━━━━━━━━━\u001b[0m\u001b[37m\u001b[0m \u001b[1m5s\u001b[0m 2ms/step - accuracy: 0.8258 - loss: nan - val_accuracy: 0.8326 - val_loss: nan\n",
      "Epoch 25/50\n",
      "\u001b[1m2189/2189\u001b[0m \u001b[32m━━━━━━━━━━━━━━━━━━━━\u001b[0m\u001b[37m\u001b[0m \u001b[1m5s\u001b[0m 2ms/step - accuracy: 0.8269 - loss: nan - val_accuracy: 0.8326 - val_loss: nan\n",
      "Epoch 26/50\n",
      "\u001b[1m2189/2189\u001b[0m \u001b[32m━━━━━━━━━━━━━━━━━━━━\u001b[0m\u001b[37m\u001b[0m \u001b[1m5s\u001b[0m 2ms/step - accuracy: 0.8265 - loss: nan - val_accuracy: 0.8326 - val_loss: nan\n",
      "Epoch 27/50\n",
      "\u001b[1m2189/2189\u001b[0m \u001b[32m━━━━━━━━━━━━━━━━━━━━\u001b[0m\u001b[37m\u001b[0m \u001b[1m5s\u001b[0m 2ms/step - accuracy: 0.8234 - loss: nan - val_accuracy: 0.8326 - val_loss: nan\n",
      "Epoch 28/50\n",
      "\u001b[1m2189/2189\u001b[0m \u001b[32m━━━━━━━━━━━━━━━━━━━━\u001b[0m\u001b[37m\u001b[0m \u001b[1m5s\u001b[0m 2ms/step - accuracy: 0.8277 - loss: nan - val_accuracy: 0.8326 - val_loss: nan\n",
      "Epoch 29/50\n",
      "\u001b[1m2189/2189\u001b[0m \u001b[32m━━━━━━━━━━━━━━━━━━━━\u001b[0m\u001b[37m\u001b[0m \u001b[1m5s\u001b[0m 2ms/step - accuracy: 0.8309 - loss: nan - val_accuracy: 0.8326 - val_loss: nan\n",
      "Epoch 30/50\n",
      "\u001b[1m2189/2189\u001b[0m \u001b[32m━━━━━━━━━━━━━━━━━━━━\u001b[0m\u001b[37m\u001b[0m \u001b[1m5s\u001b[0m 2ms/step - accuracy: 0.8242 - loss: nan - val_accuracy: 0.8326 - val_loss: nan\n",
      "Epoch 31/50\n",
      "\u001b[1m2189/2189\u001b[0m \u001b[32m━━━━━━━━━━━━━━━━━━━━\u001b[0m\u001b[37m\u001b[0m \u001b[1m5s\u001b[0m 2ms/step - accuracy: 0.8265 - loss: nan - val_accuracy: 0.8326 - val_loss: nan\n",
      "Epoch 32/50\n",
      "\u001b[1m2189/2189\u001b[0m \u001b[32m━━━━━━━━━━━━━━━━━━━━\u001b[0m\u001b[37m\u001b[0m \u001b[1m5s\u001b[0m 2ms/step - accuracy: 0.8280 - loss: nan - val_accuracy: 0.8326 - val_loss: nan\n",
      "Epoch 33/50\n",
      "\u001b[1m2189/2189\u001b[0m \u001b[32m━━━━━━━━━━━━━━━━━━━━\u001b[0m\u001b[37m\u001b[0m \u001b[1m5s\u001b[0m 2ms/step - accuracy: 0.8264 - loss: nan - val_accuracy: 0.8326 - val_loss: nan\n",
      "Epoch 34/50\n",
      "\u001b[1m2189/2189\u001b[0m \u001b[32m━━━━━━━━━━━━━━━━━━━━\u001b[0m\u001b[37m\u001b[0m \u001b[1m5s\u001b[0m 2ms/step - accuracy: 0.8267 - loss: nan - val_accuracy: 0.8326 - val_loss: nan\n",
      "Epoch 35/50\n",
      "\u001b[1m2189/2189\u001b[0m \u001b[32m━━━━━━━━━━━━━━━━━━━━\u001b[0m\u001b[37m\u001b[0m \u001b[1m5s\u001b[0m 2ms/step - accuracy: 0.8251 - loss: nan - val_accuracy: 0.8326 - val_loss: nan\n",
      "Epoch 36/50\n",
      "\u001b[1m2189/2189\u001b[0m \u001b[32m━━━━━━━━━━━━━━━━━━━━\u001b[0m\u001b[37m\u001b[0m \u001b[1m5s\u001b[0m 2ms/step - accuracy: 0.8265 - loss: nan - val_accuracy: 0.8326 - val_loss: nan\n",
      "Epoch 37/50\n",
      "\u001b[1m2189/2189\u001b[0m \u001b[32m━━━━━━━━━━━━━━━━━━━━\u001b[0m\u001b[37m\u001b[0m \u001b[1m5s\u001b[0m 2ms/step - accuracy: 0.8234 - loss: nan - val_accuracy: 0.8326 - val_loss: nan\n",
      "Epoch 38/50\n",
      "\u001b[1m2189/2189\u001b[0m \u001b[32m━━━━━━━━━━━━━━━━━━━━\u001b[0m\u001b[37m\u001b[0m \u001b[1m5s\u001b[0m 2ms/step - accuracy: 0.8257 - loss: nan - val_accuracy: 0.8326 - val_loss: nan\n",
      "Epoch 39/50\n",
      "\u001b[1m2189/2189\u001b[0m \u001b[32m━━━━━━━━━━━━━━━━━━━━\u001b[0m\u001b[37m\u001b[0m \u001b[1m5s\u001b[0m 2ms/step - accuracy: 0.8270 - loss: nan - val_accuracy: 0.8326 - val_loss: nan\n",
      "Epoch 40/50\n",
      "\u001b[1m2189/2189\u001b[0m \u001b[32m━━━━━━━━━━━━━━━━━━━━\u001b[0m\u001b[37m\u001b[0m \u001b[1m5s\u001b[0m 2ms/step - accuracy: 0.8253 - loss: nan - val_accuracy: 0.8326 - val_loss: nan\n",
      "Epoch 41/50\n",
      "\u001b[1m2189/2189\u001b[0m \u001b[32m━━━━━━━━━━━━━━━━━━━━\u001b[0m\u001b[37m\u001b[0m \u001b[1m5s\u001b[0m 2ms/step - accuracy: 0.8266 - loss: nan - val_accuracy: 0.8326 - val_loss: nan\n",
      "Epoch 42/50\n",
      "\u001b[1m2189/2189\u001b[0m \u001b[32m━━━━━━━━━━━━━━━━━━━━\u001b[0m\u001b[37m\u001b[0m \u001b[1m4s\u001b[0m 2ms/step - accuracy: 0.8251 - loss: nan - val_accuracy: 0.8326 - val_loss: nan\n",
      "Epoch 43/50\n",
      "\u001b[1m2189/2189\u001b[0m \u001b[32m━━━━━━━━━━━━━━━━━━━━\u001b[0m\u001b[37m\u001b[0m \u001b[1m6s\u001b[0m 3ms/step - accuracy: 0.8269 - loss: nan - val_accuracy: 0.8326 - val_loss: nan\n",
      "Epoch 44/50\n",
      "\u001b[1m2189/2189\u001b[0m \u001b[32m━━━━━━━━━━━━━━━━━━━━\u001b[0m\u001b[37m\u001b[0m \u001b[1m5s\u001b[0m 2ms/step - accuracy: 0.8291 - loss: nan - val_accuracy: 0.8326 - val_loss: nan\n",
      "Epoch 45/50\n",
      "\u001b[1m2189/2189\u001b[0m \u001b[32m━━━━━━━━━━━━━━━━━━━━\u001b[0m\u001b[37m\u001b[0m \u001b[1m5s\u001b[0m 2ms/step - accuracy: 0.8260 - loss: nan - val_accuracy: 0.8326 - val_loss: nan\n",
      "Epoch 46/50\n",
      "\u001b[1m2189/2189\u001b[0m \u001b[32m━━━━━━━━━━━━━━━━━━━━\u001b[0m\u001b[37m\u001b[0m \u001b[1m5s\u001b[0m 2ms/step - accuracy: 0.8265 - loss: nan - val_accuracy: 0.8326 - val_loss: nan\n",
      "Epoch 47/50\n",
      "\u001b[1m2189/2189\u001b[0m \u001b[32m━━━━━━━━━━━━━━━━━━━━\u001b[0m\u001b[37m\u001b[0m \u001b[1m5s\u001b[0m 2ms/step - accuracy: 0.8272 - loss: nan - val_accuracy: 0.8326 - val_loss: nan\n",
      "Epoch 48/50\n",
      "\u001b[1m2189/2189\u001b[0m \u001b[32m━━━━━━━━━━━━━━━━━━━━\u001b[0m\u001b[37m\u001b[0m \u001b[1m5s\u001b[0m 2ms/step - accuracy: 0.8252 - loss: nan - val_accuracy: 0.8326 - val_loss: nan\n",
      "Epoch 49/50\n",
      "\u001b[1m2189/2189\u001b[0m \u001b[32m━━━━━━━━━━━━━━━━━━━━\u001b[0m\u001b[37m\u001b[0m \u001b[1m5s\u001b[0m 2ms/step - accuracy: 0.8272 - loss: nan - val_accuracy: 0.8326 - val_loss: nan\n",
      "Epoch 50/50\n",
      "\u001b[1m2189/2189\u001b[0m \u001b[32m━━━━━━━━━━━━━━━━━━━━\u001b[0m\u001b[37m\u001b[0m \u001b[1m5s\u001b[0m 2ms/step - accuracy: 0.8289 - loss: nan - val_accuracy: 0.8326 - val_loss: nan\n",
      "\u001b[1m548/548\u001b[0m \u001b[32m━━━━━━━━━━━━━━━━━━━━\u001b[0m\u001b[37m\u001b[0m \u001b[1m1s\u001b[0m 1ms/step - accuracy: 0.8336 - loss: nan\n",
      "Test accuracy: 0.83\n"
     ]
    }
   ],
   "source": [
    "# Create the neural network model\n",
    "model1 = Sequential()\n",
    "model1.add(Dense(256, activation = 'relu', input_shape=(X_train.shape[1],)))\n",
    "model1.add(Dense(128, activation='relu'))\n",
    "model1.add(Dense(128, activation='relu'))\n",
    "model1.add(Dense(128, activation='relu'))\n",
    "model1.add(Dense(128, activation='relu'))\n",
    "model1.add(Dense(128, activation='relu'))\n",
    "model1.add(Dense(64, activation='relu'))\n",
    "model1.add(Dense(64, activation='relu'))\n",
    "model1.add(Dense(64, activation='relu'))\n",
    "model1.add(Dense(64, activation='relu'))\n",
    "model1.add(Dense(32, activation='relu'))\n",
    "model1.add(Dense(32, activation='relu'))\n",
    "model1.add(Dense(32, activation='relu'))\n",
    "model1.add(Dense(1, activation='sigmoid'))\n",
    "\n",
    "# Compile the model\n",
    "model1.compile(loss='categorical_crossentropy', optimizer='adam', metrics=['accuracy'])\n",
    "\n",
    "# Train the model\n",
    "model1.fit(X_train, y_train, epochs=50, batch_size=32, validation_data=(X_test, y_test))\n",
    "\n",
    "# Evaluate the model\n",
    "loss, accuracy = model1.evaluate(X_test, y_test)\n",
    "print(f'Test accuracy: {accuracy:.2f}')\n"
   ]
  },
  {
   "cell_type": "code",
   "execution_count": 68,
   "id": "c702b995-dc14-4208-a06a-b2e7a232aab7",
   "metadata": {},
   "outputs": [
    {
     "name": "stdout",
     "output_type": "stream",
     "text": [
      "\u001b[1m548/548\u001b[0m \u001b[32m━━━━━━━━━━━━━━━━━━━━\u001b[0m\u001b[37m\u001b[0m \u001b[1m1s\u001b[0m 1ms/step\n",
      "              precision    recall  f1-score   support\n",
      "\n",
      "           0       0.83      1.00      0.91     14579\n",
      "           1       0.00      0.00      0.00       426\n",
      "           2       0.00      0.00      0.00      1112\n",
      "           3       0.00      0.00      0.00       145\n",
      "           4       0.00      0.00      0.00      1249\n",
      "\n",
      "    accuracy                           0.83     17511\n",
      "   macro avg       0.17      0.20      0.18     17511\n",
      "weighted avg       0.69      0.83      0.76     17511\n",
      "\n"
     ]
    }
   ],
   "source": [
    "# Evaluate the model\n",
    "y_pred = (model1.predict(X_test) > 0.5).astype(\"int32\")\n",
    "\n",
    "# Generate the classification report\n",
    "report = classification_report(y_test, y_pred)\n",
    "\n",
    "# Print the classification report\n",
    "print(report)"
   ]
  },
  {
   "cell_type": "markdown",
   "id": "181da8e7-aff3-40f8-b98d-f0193e4f2183",
   "metadata": {},
   "source": [
    "### Our Second NN Model"
   ]
  },
  {
   "cell_type": "code",
   "execution_count": 69,
   "id": "c9091a15-e7f9-4e6b-8f23-cb954d1b7729",
   "metadata": {},
   "outputs": [
    {
     "name": "stdout",
     "output_type": "stream",
     "text": [
      "Epoch 1/15\n",
      "\u001b[1m2189/2189\u001b[0m \u001b[32m━━━━━━━━━━━━━━━━━━━━\u001b[0m\u001b[37m\u001b[0m \u001b[1m3s\u001b[0m 1ms/step - accuracy: 0.8021 - loss: 0.0000e+00 - val_accuracy: 0.8241 - val_loss: 0.0000e+00\n",
      "Epoch 2/15\n",
      "\u001b[1m2189/2189\u001b[0m \u001b[32m━━━━━━━━━━━━━━━━━━━━\u001b[0m\u001b[37m\u001b[0m \u001b[1m2s\u001b[0m 965us/step - accuracy: 0.8195 - loss: 0.0000e+00 - val_accuracy: 0.8279 - val_loss: 0.0000e+00\n",
      "Epoch 3/15\n",
      "\u001b[1m2189/2189\u001b[0m \u001b[32m━━━━━━━━━━━━━━━━━━━━\u001b[0m\u001b[37m\u001b[0m \u001b[1m2s\u001b[0m 913us/step - accuracy: 0.8195 - loss: 0.0000e+00 - val_accuracy: 0.8271 - val_loss: 0.0000e+00\n",
      "Epoch 4/15\n",
      "\u001b[1m2189/2189\u001b[0m \u001b[32m━━━━━━━━━━━━━━━━━━━━\u001b[0m\u001b[37m\u001b[0m \u001b[1m2s\u001b[0m 997us/step - accuracy: 0.8237 - loss: 0.0000e+00 - val_accuracy: 0.8224 - val_loss: 0.0000e+00\n",
      "Epoch 5/15\n",
      "\u001b[1m2189/2189\u001b[0m \u001b[32m━━━━━━━━━━━━━━━━━━━━\u001b[0m\u001b[37m\u001b[0m \u001b[1m2s\u001b[0m 949us/step - accuracy: 0.8198 - loss: 0.0000e+00 - val_accuracy: 0.8257 - val_loss: 0.0000e+00\n",
      "Epoch 6/15\n",
      "\u001b[1m2189/2189\u001b[0m \u001b[32m━━━━━━━━━━━━━━━━━━━━\u001b[0m\u001b[37m\u001b[0m \u001b[1m2s\u001b[0m 941us/step - accuracy: 0.8205 - loss: 0.0000e+00 - val_accuracy: 0.8272 - val_loss: 0.0000e+00\n",
      "Epoch 7/15\n",
      "\u001b[1m2189/2189\u001b[0m \u001b[32m━━━━━━━━━━━━━━━━━━━━\u001b[0m\u001b[37m\u001b[0m \u001b[1m2s\u001b[0m 954us/step - accuracy: 0.8216 - loss: 0.0000e+00 - val_accuracy: 0.8282 - val_loss: 0.0000e+00\n",
      "Epoch 8/15\n",
      "\u001b[1m2189/2189\u001b[0m \u001b[32m━━━━━━━━━━━━━━━━━━━━\u001b[0m\u001b[37m\u001b[0m \u001b[1m2s\u001b[0m 978us/step - accuracy: 0.8215 - loss: 0.0000e+00 - val_accuracy: 0.8257 - val_loss: 0.0000e+00\n",
      "Epoch 9/15\n",
      "\u001b[1m2189/2189\u001b[0m \u001b[32m━━━━━━━━━━━━━━━━━━━━\u001b[0m\u001b[37m\u001b[0m \u001b[1m2s\u001b[0m 996us/step - accuracy: 0.8214 - loss: 0.0000e+00 - val_accuracy: 0.8288 - val_loss: 0.0000e+00\n",
      "Epoch 10/15\n",
      "\u001b[1m2189/2189\u001b[0m \u001b[32m━━━━━━━━━━━━━━━━━━━━\u001b[0m\u001b[37m\u001b[0m \u001b[1m2s\u001b[0m 1ms/step - accuracy: 0.8219 - loss: 0.0000e+00 - val_accuracy: 0.8264 - val_loss: 0.0000e+00\n",
      "Epoch 11/15\n",
      "\u001b[1m2189/2189\u001b[0m \u001b[32m━━━━━━━━━━━━━━━━━━━━\u001b[0m\u001b[37m\u001b[0m \u001b[1m2s\u001b[0m 944us/step - accuracy: 0.8219 - loss: 0.0000e+00 - val_accuracy: 0.8269 - val_loss: 0.0000e+00\n",
      "Epoch 12/15\n",
      "\u001b[1m2189/2189\u001b[0m \u001b[32m━━━━━━━━━━━━━━━━━━━━\u001b[0m\u001b[37m\u001b[0m \u001b[1m2s\u001b[0m 954us/step - accuracy: 0.8228 - loss: 0.0000e+00 - val_accuracy: 0.8273 - val_loss: 0.0000e+00\n",
      "Epoch 13/15\n",
      "\u001b[1m2189/2189\u001b[0m \u001b[32m━━━━━━━━━━━━━━━━━━━━\u001b[0m\u001b[37m\u001b[0m \u001b[1m2s\u001b[0m 939us/step - accuracy: 0.8217 - loss: 0.0000e+00 - val_accuracy: 0.8289 - val_loss: 0.0000e+00\n",
      "Epoch 14/15\n",
      "\u001b[1m2189/2189\u001b[0m \u001b[32m━━━━━━━━━━━━━━━━━━━━\u001b[0m\u001b[37m\u001b[0m \u001b[1m2s\u001b[0m 960us/step - accuracy: 0.8205 - loss: 0.0000e+00 - val_accuracy: 0.8285 - val_loss: 0.0000e+00\n",
      "Epoch 15/15\n",
      "\u001b[1m2189/2189\u001b[0m \u001b[32m━━━━━━━━━━━━━━━━━━━━\u001b[0m\u001b[37m\u001b[0m \u001b[1m2s\u001b[0m 977us/step - accuracy: 0.8233 - loss: 0.0000e+00 - val_accuracy: 0.8268 - val_loss: 0.0000e+00\n",
      "\u001b[1m548/548\u001b[0m \u001b[32m━━━━━━━━━━━━━━━━━━━━\u001b[0m\u001b[37m\u001b[0m \u001b[1m0s\u001b[0m 709us/step - accuracy: 0.8273 - loss: 0.0000e+00\n",
      "Test accuracy: 0.83\n"
     ]
    }
   ],
   "source": [
    "# Creating another Neural Network with different Activation Function\n",
    "# Create the neural network model\n",
    "model2 = Sequential()\n",
    "model2.add(Dense(64, activation = 'leaky_relu', input_shape=(X_train.shape[1],)))\n",
    "model2.add(Dense(32, activation='tanh'))\n",
    "model2.add(Dense(1, activation='sigmoid'))\n",
    "\n",
    "# Compile the model\n",
    "model2.compile(loss='categorical_crossentropy', optimizer='adam', metrics=['accuracy'])\n",
    "\n",
    "# Train the model\n",
    "model2.fit(X_train, y_train, epochs=15, batch_size=32, validation_data=(X_test, y_test))\n",
    "\n",
    "# Evaluate the model\n",
    "loss, accuracy = model2.evaluate(X_test, y_test)\n",
    "print(f'Test accuracy: {accuracy:.2f}')"
   ]
  },
  {
   "cell_type": "code",
   "execution_count": 70,
   "id": "9a32bf76-2000-4f4c-9392-7eb8a330dd64",
   "metadata": {},
   "outputs": [
    {
     "name": "stdout",
     "output_type": "stream",
     "text": [
      "\u001b[1m548/548\u001b[0m \u001b[32m━━━━━━━━━━━━━━━━━━━━\u001b[0m\u001b[37m\u001b[0m \u001b[1m0s\u001b[0m 750us/step\n",
      "              precision    recall  f1-score   support\n",
      "\n",
      "           0       0.96      0.99      0.97     14579\n",
      "           1       0.01      0.08      0.02       426\n",
      "           2       0.00      0.00      0.00      1112\n",
      "           3       0.00      0.00      0.00       145\n",
      "           4       0.00      0.00      0.00      1249\n",
      "\n",
      "    accuracy                           0.83     17511\n",
      "   macro avg       0.19      0.21      0.20     17511\n",
      "weighted avg       0.80      0.83      0.81     17511\n",
      "\n"
     ]
    }
   ],
   "source": [
    "# Evaluate the model\n",
    "y_pred = (model2.predict(X_test) > 0.5).astype(\"int32\")\n",
    "\n",
    "# Generate the classification report\n",
    "report = classification_report(y_test, y_pred)\n",
    "\n",
    "# Print the classification report\n",
    "print(report)"
   ]
  },
  {
   "cell_type": "markdown",
   "id": "73a42b56-b174-4dd1-9b17-529582b6cc33",
   "metadata": {},
   "source": [
    "### Our Third NN Model"
   ]
  },
  {
   "cell_type": "code",
   "execution_count": 71,
   "id": "f4ac2362-1fb2-40be-95a7-b994c6a34d3c",
   "metadata": {},
   "outputs": [
    {
     "name": "stdout",
     "output_type": "stream",
     "text": [
      "Epoch 1/50\n",
      "\u001b[1m1752/1752\u001b[0m \u001b[32m━━━━━━━━━━━━━━━━━━━━\u001b[0m\u001b[37m\u001b[0m \u001b[1m9s\u001b[0m 3ms/step - accuracy: 0.7915 - loss: 0.0000e+00 - val_accuracy: 0.8326 - val_loss: 0.0000e+00\n",
      "Epoch 2/50\n",
      "\u001b[1m1752/1752\u001b[0m \u001b[32m━━━━━━━━━━━━━━━━━━━━\u001b[0m\u001b[37m\u001b[0m \u001b[1m4s\u001b[0m 2ms/step - accuracy: 0.8243 - loss: 0.0000e+00 - val_accuracy: 0.8326 - val_loss: 0.0000e+00\n",
      "Epoch 3/50\n",
      "\u001b[1m1752/1752\u001b[0m \u001b[32m━━━━━━━━━━━━━━━━━━━━\u001b[0m\u001b[37m\u001b[0m \u001b[1m5s\u001b[0m 3ms/step - accuracy: 0.8258 - loss: nan - val_accuracy: 0.8326 - val_loss: nan\n",
      "Epoch 4/50\n",
      "\u001b[1m1752/1752\u001b[0m \u001b[32m━━━━━━━━━━━━━━━━━━━━\u001b[0m\u001b[37m\u001b[0m \u001b[1m4s\u001b[0m 2ms/step - accuracy: 0.8233 - loss: nan - val_accuracy: 0.8326 - val_loss: nan\n",
      "Epoch 5/50\n",
      "\u001b[1m1752/1752\u001b[0m \u001b[32m━━━━━━━━━━━━━━━━━━━━\u001b[0m\u001b[37m\u001b[0m \u001b[1m4s\u001b[0m 2ms/step - accuracy: 0.8274 - loss: nan - val_accuracy: 0.8326 - val_loss: nan\n",
      "Epoch 6/50\n",
      "\u001b[1m1752/1752\u001b[0m \u001b[32m━━━━━━━━━━━━━━━━━━━━\u001b[0m\u001b[37m\u001b[0m \u001b[1m4s\u001b[0m 2ms/step - accuracy: 0.8269 - loss: nan - val_accuracy: 0.8326 - val_loss: nan\n",
      "Epoch 7/50\n",
      "\u001b[1m1752/1752\u001b[0m \u001b[32m━━━━━━━━━━━━━━━━━━━━\u001b[0m\u001b[37m\u001b[0m \u001b[1m4s\u001b[0m 2ms/step - accuracy: 0.8277 - loss: nan - val_accuracy: 0.8326 - val_loss: nan\n",
      "Epoch 8/50\n",
      "\u001b[1m1752/1752\u001b[0m \u001b[32m━━━━━━━━━━━━━━━━━━━━\u001b[0m\u001b[37m\u001b[0m \u001b[1m4s\u001b[0m 2ms/step - accuracy: 0.8257 - loss: nan - val_accuracy: 0.8326 - val_loss: nan\n",
      "Epoch 9/50\n",
      "\u001b[1m1752/1752\u001b[0m \u001b[32m━━━━━━━━━━━━━━━━━━━━\u001b[0m\u001b[37m\u001b[0m \u001b[1m4s\u001b[0m 2ms/step - accuracy: 0.8258 - loss: nan - val_accuracy: 0.8326 - val_loss: nan\n",
      "Epoch 10/50\n",
      "\u001b[1m1752/1752\u001b[0m \u001b[32m━━━━━━━━━━━━━━━━━━━━\u001b[0m\u001b[37m\u001b[0m \u001b[1m4s\u001b[0m 2ms/step - accuracy: 0.8263 - loss: nan - val_accuracy: 0.8326 - val_loss: nan\n",
      "Epoch 11/50\n",
      "\u001b[1m1752/1752\u001b[0m \u001b[32m━━━━━━━━━━━━━━━━━━━━\u001b[0m\u001b[37m\u001b[0m \u001b[1m4s\u001b[0m 3ms/step - accuracy: 0.8274 - loss: nan - val_accuracy: 0.8326 - val_loss: nan\n",
      "Epoch 12/50\n",
      "\u001b[1m1752/1752\u001b[0m \u001b[32m━━━━━━━━━━━━━━━━━━━━\u001b[0m\u001b[37m\u001b[0m \u001b[1m4s\u001b[0m 2ms/step - accuracy: 0.8255 - loss: nan - val_accuracy: 0.8326 - val_loss: nan\n",
      "Epoch 13/50\n",
      "\u001b[1m1752/1752\u001b[0m \u001b[32m━━━━━━━━━━━━━━━━━━━━\u001b[0m\u001b[37m\u001b[0m \u001b[1m4s\u001b[0m 2ms/step - accuracy: 0.8276 - loss: nan - val_accuracy: 0.8326 - val_loss: nan\n",
      "Epoch 14/50\n",
      "\u001b[1m1752/1752\u001b[0m \u001b[32m━━━━━━━━━━━━━━━━━━━━\u001b[0m\u001b[37m\u001b[0m \u001b[1m4s\u001b[0m 2ms/step - accuracy: 0.8271 - loss: nan - val_accuracy: 0.8326 - val_loss: nan\n",
      "Epoch 15/50\n",
      "\u001b[1m1752/1752\u001b[0m \u001b[32m━━━━━━━━━━━━━━━━━━━━\u001b[0m\u001b[37m\u001b[0m \u001b[1m4s\u001b[0m 2ms/step - accuracy: 0.8273 - loss: nan - val_accuracy: 0.8326 - val_loss: nan\n",
      "Epoch 16/50\n",
      "\u001b[1m1752/1752\u001b[0m \u001b[32m━━━━━━━━━━━━━━━━━━━━\u001b[0m\u001b[37m\u001b[0m \u001b[1m4s\u001b[0m 2ms/step - accuracy: 0.8256 - loss: nan - val_accuracy: 0.8326 - val_loss: nan\n",
      "Epoch 17/50\n",
      "\u001b[1m1752/1752\u001b[0m \u001b[32m━━━━━━━━━━━━━━━━━━━━\u001b[0m\u001b[37m\u001b[0m \u001b[1m4s\u001b[0m 2ms/step - accuracy: 0.8262 - loss: nan - val_accuracy: 0.8326 - val_loss: nan\n",
      "Epoch 18/50\n",
      "\u001b[1m1752/1752\u001b[0m \u001b[32m━━━━━━━━━━━━━━━━━━━━\u001b[0m\u001b[37m\u001b[0m \u001b[1m4s\u001b[0m 2ms/step - accuracy: 0.8270 - loss: nan - val_accuracy: 0.8326 - val_loss: nan\n",
      "Epoch 19/50\n",
      "\u001b[1m1752/1752\u001b[0m \u001b[32m━━━━━━━━━━━━━━━━━━━━\u001b[0m\u001b[37m\u001b[0m \u001b[1m4s\u001b[0m 2ms/step - accuracy: 0.8280 - loss: nan - val_accuracy: 0.8326 - val_loss: nan\n",
      "Epoch 20/50\n",
      "\u001b[1m1752/1752\u001b[0m \u001b[32m━━━━━━━━━━━━━━━━━━━━\u001b[0m\u001b[37m\u001b[0m \u001b[1m5s\u001b[0m 3ms/step - accuracy: 0.8272 - loss: nan - val_accuracy: 0.8326 - val_loss: nan\n",
      "Epoch 21/50\n",
      "\u001b[1m1752/1752\u001b[0m \u001b[32m━━━━━━━━━━━━━━━━━━━━\u001b[0m\u001b[37m\u001b[0m \u001b[1m4s\u001b[0m 3ms/step - accuracy: 0.8247 - loss: nan - val_accuracy: 0.8326 - val_loss: nan\n",
      "Epoch 22/50\n",
      "\u001b[1m1752/1752\u001b[0m \u001b[32m━━━━━━━━━━━━━━━━━━━━\u001b[0m\u001b[37m\u001b[0m \u001b[1m4s\u001b[0m 2ms/step - accuracy: 0.8276 - loss: nan - val_accuracy: 0.8326 - val_loss: nan\n",
      "Epoch 23/50\n",
      "\u001b[1m1752/1752\u001b[0m \u001b[32m━━━━━━━━━━━━━━━━━━━━\u001b[0m\u001b[37m\u001b[0m \u001b[1m4s\u001b[0m 2ms/step - accuracy: 0.8267 - loss: nan - val_accuracy: 0.8326 - val_loss: nan\n",
      "Epoch 24/50\n",
      "\u001b[1m1752/1752\u001b[0m \u001b[32m━━━━━━━━━━━━━━━━━━━━\u001b[0m\u001b[37m\u001b[0m \u001b[1m5s\u001b[0m 3ms/step - accuracy: 0.8253 - loss: nan - val_accuracy: 0.8326 - val_loss: nan\n",
      "Epoch 25/50\n",
      "\u001b[1m1752/1752\u001b[0m \u001b[32m━━━━━━━━━━━━━━━━━━━━\u001b[0m\u001b[37m\u001b[0m \u001b[1m4s\u001b[0m 2ms/step - accuracy: 0.8271 - loss: nan - val_accuracy: 0.8326 - val_loss: nan\n",
      "Epoch 26/50\n",
      "\u001b[1m1752/1752\u001b[0m \u001b[32m━━━━━━━━━━━━━━━━━━━━\u001b[0m\u001b[37m\u001b[0m \u001b[1m4s\u001b[0m 2ms/step - accuracy: 0.8269 - loss: nan - val_accuracy: 0.8326 - val_loss: nan\n",
      "Epoch 27/50\n",
      "\u001b[1m1752/1752\u001b[0m \u001b[32m━━━━━━━━━━━━━━━━━━━━\u001b[0m\u001b[37m\u001b[0m \u001b[1m4s\u001b[0m 2ms/step - accuracy: 0.8261 - loss: nan - val_accuracy: 0.8326 - val_loss: nan\n",
      "Epoch 28/50\n",
      "\u001b[1m1752/1752\u001b[0m \u001b[32m━━━━━━━━━━━━━━━━━━━━\u001b[0m\u001b[37m\u001b[0m \u001b[1m4s\u001b[0m 2ms/step - accuracy: 0.8259 - loss: nan - val_accuracy: 0.8326 - val_loss: nan\n",
      "Epoch 29/50\n",
      "\u001b[1m1752/1752\u001b[0m \u001b[32m━━━━━━━━━━━━━━━━━━━━\u001b[0m\u001b[37m\u001b[0m \u001b[1m4s\u001b[0m 2ms/step - accuracy: 0.8268 - loss: nan - val_accuracy: 0.8326 - val_loss: nan\n",
      "Epoch 30/50\n",
      "\u001b[1m1752/1752\u001b[0m \u001b[32m━━━━━━━━━━━━━━━━━━━━\u001b[0m\u001b[37m\u001b[0m \u001b[1m5s\u001b[0m 3ms/step - accuracy: 0.8263 - loss: nan - val_accuracy: 0.8326 - val_loss: nan\n",
      "Epoch 31/50\n",
      "\u001b[1m1752/1752\u001b[0m \u001b[32m━━━━━━━━━━━━━━━━━━━━\u001b[0m\u001b[37m\u001b[0m \u001b[1m4s\u001b[0m 2ms/step - accuracy: 0.8248 - loss: nan - val_accuracy: 0.8326 - val_loss: nan\n",
      "Epoch 32/50\n",
      "\u001b[1m1752/1752\u001b[0m \u001b[32m━━━━━━━━━━━━━━━━━━━━\u001b[0m\u001b[37m\u001b[0m \u001b[1m4s\u001b[0m 2ms/step - accuracy: 0.8274 - loss: nan - val_accuracy: 0.8326 - val_loss: nan\n",
      "Epoch 33/50\n",
      "\u001b[1m1752/1752\u001b[0m \u001b[32m━━━━━━━━━━━━━━━━━━━━\u001b[0m\u001b[37m\u001b[0m \u001b[1m5s\u001b[0m 3ms/step - accuracy: 0.8263 - loss: nan - val_accuracy: 0.8326 - val_loss: nan\n",
      "Epoch 34/50\n",
      "\u001b[1m1752/1752\u001b[0m \u001b[32m━━━━━━━━━━━━━━━━━━━━\u001b[0m\u001b[37m\u001b[0m \u001b[1m5s\u001b[0m 3ms/step - accuracy: 0.8246 - loss: nan - val_accuracy: 0.8326 - val_loss: nan\n",
      "Epoch 35/50\n",
      "\u001b[1m1752/1752\u001b[0m \u001b[32m━━━━━━━━━━━━━━━━━━━━\u001b[0m\u001b[37m\u001b[0m \u001b[1m5s\u001b[0m 3ms/step - accuracy: 0.8262 - loss: nan - val_accuracy: 0.8326 - val_loss: nan\n",
      "Epoch 36/50\n",
      "\u001b[1m1752/1752\u001b[0m \u001b[32m━━━━━━━━━━━━━━━━━━━━\u001b[0m\u001b[37m\u001b[0m \u001b[1m5s\u001b[0m 3ms/step - accuracy: 0.8248 - loss: nan - val_accuracy: 0.8326 - val_loss: nan\n",
      "Epoch 37/50\n",
      "\u001b[1m1752/1752\u001b[0m \u001b[32m━━━━━━━━━━━━━━━━━━━━\u001b[0m\u001b[37m\u001b[0m \u001b[1m4s\u001b[0m 2ms/step - accuracy: 0.8268 - loss: nan - val_accuracy: 0.8326 - val_loss: nan\n",
      "Epoch 38/50\n",
      "\u001b[1m1752/1752\u001b[0m \u001b[32m━━━━━━━━━━━━━━━━━━━━\u001b[0m\u001b[37m\u001b[0m \u001b[1m4s\u001b[0m 2ms/step - accuracy: 0.8268 - loss: nan - val_accuracy: 0.8326 - val_loss: nan\n",
      "Epoch 39/50\n",
      "\u001b[1m1752/1752\u001b[0m \u001b[32m━━━━━━━━━━━━━━━━━━━━\u001b[0m\u001b[37m\u001b[0m \u001b[1m5s\u001b[0m 3ms/step - accuracy: 0.8256 - loss: nan - val_accuracy: 0.8326 - val_loss: nan\n",
      "Epoch 40/50\n",
      "\u001b[1m1752/1752\u001b[0m \u001b[32m━━━━━━━━━━━━━━━━━━━━\u001b[0m\u001b[37m\u001b[0m \u001b[1m4s\u001b[0m 2ms/step - accuracy: 0.8268 - loss: nan - val_accuracy: 0.8326 - val_loss: nan\n",
      "Epoch 41/50\n",
      "\u001b[1m1752/1752\u001b[0m \u001b[32m━━━━━━━━━━━━━━━━━━━━\u001b[0m\u001b[37m\u001b[0m \u001b[1m4s\u001b[0m 2ms/step - accuracy: 0.8255 - loss: nan - val_accuracy: 0.8326 - val_loss: nan\n",
      "Epoch 42/50\n",
      "\u001b[1m1752/1752\u001b[0m \u001b[32m━━━━━━━━━━━━━━━━━━━━\u001b[0m\u001b[37m\u001b[0m \u001b[1m4s\u001b[0m 3ms/step - accuracy: 0.8292 - loss: nan - val_accuracy: 0.8326 - val_loss: nan\n",
      "Epoch 43/50\n",
      "\u001b[1m1752/1752\u001b[0m \u001b[32m━━━━━━━━━━━━━━━━━━━━\u001b[0m\u001b[37m\u001b[0m \u001b[1m5s\u001b[0m 3ms/step - accuracy: 0.8267 - loss: nan - val_accuracy: 0.8326 - val_loss: nan\n",
      "Epoch 44/50\n",
      "\u001b[1m1752/1752\u001b[0m \u001b[32m━━━━━━━━━━━━━━━━━━━━\u001b[0m\u001b[37m\u001b[0m \u001b[1m4s\u001b[0m 2ms/step - accuracy: 0.8263 - loss: nan - val_accuracy: 0.8326 - val_loss: nan\n",
      "Epoch 45/50\n",
      "\u001b[1m1752/1752\u001b[0m \u001b[32m━━━━━━━━━━━━━━━━━━━━\u001b[0m\u001b[37m\u001b[0m \u001b[1m5s\u001b[0m 3ms/step - accuracy: 0.8243 - loss: nan - val_accuracy: 0.8326 - val_loss: nan\n",
      "Epoch 46/50\n",
      "\u001b[1m1752/1752\u001b[0m \u001b[32m━━━━━━━━━━━━━━━━━━━━\u001b[0m\u001b[37m\u001b[0m \u001b[1m4s\u001b[0m 3ms/step - accuracy: 0.8274 - loss: nan - val_accuracy: 0.8326 - val_loss: nan\n",
      "Epoch 47/50\n",
      "\u001b[1m1752/1752\u001b[0m \u001b[32m━━━━━━━━━━━━━━━━━━━━\u001b[0m\u001b[37m\u001b[0m \u001b[1m4s\u001b[0m 2ms/step - accuracy: 0.8264 - loss: nan - val_accuracy: 0.8326 - val_loss: nan\n",
      "Epoch 48/50\n",
      "\u001b[1m1752/1752\u001b[0m \u001b[32m━━━━━━━━━━━━━━━━━━━━\u001b[0m\u001b[37m\u001b[0m \u001b[1m4s\u001b[0m 2ms/step - accuracy: 0.8254 - loss: nan - val_accuracy: 0.8326 - val_loss: nan\n",
      "Epoch 49/50\n",
      "\u001b[1m1752/1752\u001b[0m \u001b[32m━━━━━━━━━━━━━━━━━━━━\u001b[0m\u001b[37m\u001b[0m \u001b[1m4s\u001b[0m 3ms/step - accuracy: 0.8270 - loss: nan - val_accuracy: 0.8326 - val_loss: nan\n",
      "Epoch 50/50\n",
      "\u001b[1m1752/1752\u001b[0m \u001b[32m━━━━━━━━━━━━━━━━━━━━\u001b[0m\u001b[37m\u001b[0m \u001b[1m5s\u001b[0m 3ms/step - accuracy: 0.8262 - loss: nan - val_accuracy: 0.8326 - val_loss: nan\n",
      "\u001b[1m548/548\u001b[0m \u001b[32m━━━━━━━━━━━━━━━━━━━━\u001b[0m\u001b[37m\u001b[0m \u001b[1m1s\u001b[0m 1ms/step - accuracy: 0.8336 - loss: nan\n",
      "Test accuracy: 0.83\n"
     ]
    }
   ],
   "source": [
    "# Create the neural network model\n",
    "model3 = Sequential()\n",
    "model3.add(Dense(256, activation = 'leaky_relu', input_shape=(X_train.shape[1],)))\n",
    "model3.add(Dense(128, activation='relu'))\n",
    "model3.add(Dense(128, activation='tanh'))\n",
    "model3.add(Dense(128, activation='relu'))\n",
    "model3.add(Dense(128, activation='tanh'))\n",
    "model3.add(Dense(128, activation='relu'))\n",
    "model3.add(Dense(64, activation='relu'))\n",
    "model3.add(Dense(64, activation='leaky_relu'))\n",
    "model3.add(Dense(64, activation='relu'))\n",
    "model3.add(Dense(64, activation='leaky_relu'))\n",
    "model3.add(Dense(32, activation='relu'))\n",
    "model3.add(Dense(32, activation='leaky_relu'))\n",
    "model3.add(Dense(32, activation='relu'))\n",
    "model3.add(Dense(1, activation='sigmoid'))\n",
    "\n",
    "# Compile the model\n",
    "model3.compile(loss='categorical_crossentropy', optimizer='adam', metrics=['accuracy'])\n",
    "\n",
    "# Train the model\n",
    "model3.fit(X_train, y_train, epochs=50, batch_size=40, validation_data=(X_test, y_test))\n",
    "\n",
    "# Evaluate the model\n",
    "loss, accuracy = model3.evaluate(X_test, y_test)\n",
    "print(f'Test accuracy: {accuracy:.2f}')"
   ]
  },
  {
   "cell_type": "code",
   "execution_count": 72,
   "id": "7d311772-cd9a-4c47-88e7-96440889d013",
   "metadata": {},
   "outputs": [
    {
     "name": "stdout",
     "output_type": "stream",
     "text": [
      "\u001b[1m548/548\u001b[0m \u001b[32m━━━━━━━━━━━━━━━━━━━━\u001b[0m\u001b[37m\u001b[0m \u001b[1m1s\u001b[0m 1ms/step\n",
      "              precision    recall  f1-score   support\n",
      "\n",
      "           0       0.83      1.00      0.91     14579\n",
      "           1       0.00      0.00      0.00       426\n",
      "           2       0.00      0.00      0.00      1112\n",
      "           3       0.00      0.00      0.00       145\n",
      "           4       0.00      0.00      0.00      1249\n",
      "\n",
      "    accuracy                           0.83     17511\n",
      "   macro avg       0.17      0.20      0.18     17511\n",
      "weighted avg       0.69      0.83      0.76     17511\n",
      "\n"
     ]
    }
   ],
   "source": [
    "# Evaluate the model\n",
    "y_pred3 = (model3.predict(X_test) > 0.5).astype(\"int32\")\n",
    "\n",
    "# Generate the classification report\n",
    "report = classification_report(y_test, y_pred3)\n",
    "\n",
    "# Print the classification report\n",
    "print(report)"
   ]
  },
  {
   "cell_type": "markdown",
   "id": "7e93c985-48e5-4abb-b472-ff68138a0faf",
   "metadata": {},
   "source": [
    "### For Testing Data after Butter Filteration"
   ]
  },
  {
   "cell_type": "code",
   "execution_count": 73,
   "id": "cb6b05fb-e263-4801-b3c4-2f1ee367be73",
   "metadata": {},
   "outputs": [],
   "source": [
    "# Split the filt_ecg_signal_test data into training and testing sets\n",
    "X_train2, X_test2, y_train2, y_test2 = train_test_split(filt_ecg_signal_test, ecg_test_target, test_size=0.2, random_state=42)\n",
    "\n",
    "# Normalize the data\n",
    "scaler = StandardScaler()\n",
    "X_train2 = scaler.fit_transform(X_train2)\n",
    "X_test2 = scaler.transform(X_test2)"
   ]
  },
  {
   "cell_type": "code",
   "execution_count": 74,
   "id": "da60b35c-1120-4b59-8eb6-c9a8904d1b38",
   "metadata": {},
   "outputs": [
    {
     "name": "stdout",
     "output_type": "stream",
     "text": [
      "Epoch 1/15\n",
      "\u001b[1m548/548\u001b[0m \u001b[32m━━━━━━━━━━━━━━━━━━━━\u001b[0m\u001b[37m\u001b[0m \u001b[1m2s\u001b[0m 1ms/step - accuracy: 0.7844 - loss: 0.0000e+00 - val_accuracy: 0.8153 - val_loss: 0.0000e+00\n",
      "Epoch 2/15\n",
      "\u001b[1m548/548\u001b[0m \u001b[32m━━━━━━━━━━━━━━━━━━━━\u001b[0m\u001b[37m\u001b[0m \u001b[1m1s\u001b[0m 969us/step - accuracy: 0.8168 - loss: 0.0000e+00 - val_accuracy: 0.8221 - val_loss: 0.0000e+00\n",
      "Epoch 3/15\n",
      "\u001b[1m548/548\u001b[0m \u001b[32m━━━━━━━━━━━━━━━━━━━━\u001b[0m\u001b[37m\u001b[0m \u001b[1m1s\u001b[0m 947us/step - accuracy: 0.8112 - loss: 0.0000e+00 - val_accuracy: 0.8166 - val_loss: 0.0000e+00\n",
      "Epoch 4/15\n",
      "\u001b[1m548/548\u001b[0m \u001b[32m━━━━━━━━━━━━━━━━━━━━\u001b[0m\u001b[37m\u001b[0m \u001b[1m1s\u001b[0m 989us/step - accuracy: 0.8223 - loss: 0.0000e+00 - val_accuracy: 0.8159 - val_loss: 0.0000e+00\n",
      "Epoch 5/15\n",
      "\u001b[1m548/548\u001b[0m \u001b[32m━━━━━━━━━━━━━━━━━━━━\u001b[0m\u001b[37m\u001b[0m \u001b[1m1s\u001b[0m 981us/step - accuracy: 0.8166 - loss: 0.0000e+00 - val_accuracy: 0.8239 - val_loss: 0.0000e+00\n",
      "Epoch 6/15\n",
      "\u001b[1m548/548\u001b[0m \u001b[32m━━━━━━━━━━━━━━━━━━━━\u001b[0m\u001b[37m\u001b[0m \u001b[1m1s\u001b[0m 968us/step - accuracy: 0.8162 - loss: 0.0000e+00 - val_accuracy: 0.8187 - val_loss: 0.0000e+00\n",
      "Epoch 7/15\n",
      "\u001b[1m548/548\u001b[0m \u001b[32m━━━━━━━━━━━━━━━━━━━━\u001b[0m\u001b[37m\u001b[0m \u001b[1m1s\u001b[0m 1ms/step - accuracy: 0.8210 - loss: 0.0000e+00 - val_accuracy: 0.8226 - val_loss: 0.0000e+00\n",
      "Epoch 8/15\n",
      "\u001b[1m548/548\u001b[0m \u001b[32m━━━━━━━━━━━━━━━━━━━━\u001b[0m\u001b[37m\u001b[0m \u001b[1m1s\u001b[0m 1ms/step - accuracy: 0.8235 - loss: 0.0000e+00 - val_accuracy: 0.8164 - val_loss: 0.0000e+00\n",
      "Epoch 9/15\n",
      "\u001b[1m548/548\u001b[0m \u001b[32m━━━━━━━━━━━━━━━━━━━━\u001b[0m\u001b[37m\u001b[0m \u001b[1m1s\u001b[0m 1ms/step - accuracy: 0.8200 - loss: 0.0000e+00 - val_accuracy: 0.8230 - val_loss: 0.0000e+00\n",
      "Epoch 10/15\n",
      "\u001b[1m548/548\u001b[0m \u001b[32m━━━━━━━━━━━━━━━━━━━━\u001b[0m\u001b[37m\u001b[0m \u001b[1m1s\u001b[0m 1ms/step - accuracy: 0.8245 - loss: 0.0000e+00 - val_accuracy: 0.8210 - val_loss: 0.0000e+00\n",
      "Epoch 11/15\n",
      "\u001b[1m548/548\u001b[0m \u001b[32m━━━━━━━━━━━━━━━━━━━━\u001b[0m\u001b[37m\u001b[0m \u001b[1m1s\u001b[0m 1ms/step - accuracy: 0.8177 - loss: 0.0000e+00 - val_accuracy: 0.8226 - val_loss: 0.0000e+00\n",
      "Epoch 12/15\n",
      "\u001b[1m548/548\u001b[0m \u001b[32m━━━━━━━━━━━━━━━━━━━━\u001b[0m\u001b[37m\u001b[0m \u001b[1m1s\u001b[0m 1ms/step - accuracy: 0.8252 - loss: 0.0000e+00 - val_accuracy: 0.8223 - val_loss: 0.0000e+00\n",
      "Epoch 13/15\n",
      "\u001b[1m548/548\u001b[0m \u001b[32m━━━━━━━━━━━━━━━━━━━━\u001b[0m\u001b[37m\u001b[0m \u001b[1m1s\u001b[0m 1ms/step - accuracy: 0.8241 - loss: 0.0000e+00 - val_accuracy: 0.8182 - val_loss: 0.0000e+00\n",
      "Epoch 14/15\n",
      "\u001b[1m548/548\u001b[0m \u001b[32m━━━━━━━━━━━━━━━━━━━━\u001b[0m\u001b[37m\u001b[0m \u001b[1m1s\u001b[0m 959us/step - accuracy: 0.8253 - loss: 0.0000e+00 - val_accuracy: 0.8180 - val_loss: 0.0000e+00\n",
      "Epoch 15/15\n",
      "\u001b[1m548/548\u001b[0m \u001b[32m━━━━━━━━━━━━━━━━━━━━\u001b[0m\u001b[37m\u001b[0m \u001b[1m1s\u001b[0m 1ms/step - accuracy: 0.8170 - loss: 0.0000e+00 - val_accuracy: 0.8221 - val_loss: 0.0000e+00\n",
      "\u001b[1m137/137\u001b[0m \u001b[32m━━━━━━━━━━━━━━━━━━━━\u001b[0m\u001b[37m\u001b[0m \u001b[1m0s\u001b[0m 673us/step - accuracy: 0.8289 - loss: 0.0000e+00\n",
      "Test accuracy: 0.82\n"
     ]
    }
   ],
   "source": [
    "# Creating another Neural Network with different Activation Function\n",
    "# Create the neural network model\n",
    "model2 = Sequential()\n",
    "model2.add(Dense(64, activation = 'leaky_relu', input_shape=(X_train2.shape[1],)))\n",
    "model2.add(Dense(32, activation='tanh'))\n",
    "model2.add(Dense(1, activation='sigmoid'))\n",
    "\n",
    "# Compile the model\n",
    "model2.compile(loss='categorical_crossentropy', optimizer='adam', metrics=['accuracy'])\n",
    "\n",
    "# Train the model\n",
    "model2.fit(X_train2, y_train2, epochs=15, batch_size=32, validation_data=(X_test2, y_test2))\n",
    "\n",
    "# Evaluate the model\n",
    "loss, accuracy = model2.evaluate(X_test2, y_test2)\n",
    "print(f'Test accuracy: {accuracy:.2f}')"
   ]
  },
  {
   "cell_type": "code",
   "execution_count": 75,
   "id": "a9bd2085-fef0-4eed-b83e-eb288ea2556b",
   "metadata": {},
   "outputs": [
    {
     "name": "stdout",
     "output_type": "stream",
     "text": [
      "\u001b[1m137/137\u001b[0m \u001b[32m━━━━━━━━━━━━━━━━━━━━\u001b[0m\u001b[37m\u001b[0m \u001b[1m0s\u001b[0m 1ms/step  \n",
      "              precision    recall  f1-score   support\n",
      "\n",
      "         0.0       0.95      0.99      0.97      3625\n",
      "         1.0       0.02      0.09      0.03       106\n",
      "         2.0       0.00      0.00      0.00       289\n",
      "         3.0       0.00      0.00      0.00        35\n",
      "         4.0       0.00      0.00      0.00       324\n",
      "\n",
      "    accuracy                           0.82      4379\n",
      "   macro avg       0.19      0.22      0.20      4379\n",
      "weighted avg       0.79      0.82      0.80      4379\n",
      "\n"
     ]
    }
   ],
   "source": [
    "# Evaluate the model\n",
    "y_pred = (model2.predict(X_test2) > 0.5).astype(\"int32\")\n",
    "\n",
    "# Generate the classification report\n",
    "report = classification_report(y_test2, y_pred)\n",
    "\n",
    "# Print the classification report\n",
    "print(report)"
   ]
  },
  {
   "cell_type": "code",
   "execution_count": 76,
   "id": "b5d20699-f621-4eab-bb35-6914bc9afd58",
   "metadata": {},
   "outputs": [
    {
     "name": "stdout",
     "output_type": "stream",
     "text": [
      "Epoch 1/50\n",
      "\u001b[1m548/548\u001b[0m \u001b[32m━━━━━━━━━━━━━━━━━━━━\u001b[0m\u001b[37m\u001b[0m \u001b[1m6s\u001b[0m 3ms/step - accuracy: 0.8152 - loss: nan - val_accuracy: 0.8278 - val_loss: nan\n",
      "Epoch 2/50\n",
      "\u001b[1m548/548\u001b[0m \u001b[32m━━━━━━━━━━━━━━━━━━━━\u001b[0m\u001b[37m\u001b[0m \u001b[1m1s\u001b[0m 2ms/step - accuracy: 0.8314 - loss: nan - val_accuracy: 0.8278 - val_loss: nan\n",
      "Epoch 3/50\n",
      "\u001b[1m548/548\u001b[0m \u001b[32m━━━━━━━━━━━━━━━━━━━━\u001b[0m\u001b[37m\u001b[0m \u001b[1m1s\u001b[0m 2ms/step - accuracy: 0.8280 - loss: nan - val_accuracy: 0.8278 - val_loss: nan\n",
      "Epoch 4/50\n",
      "\u001b[1m548/548\u001b[0m \u001b[32m━━━━━━━━━━━━━━━━━━━━\u001b[0m\u001b[37m\u001b[0m \u001b[1m1s\u001b[0m 2ms/step - accuracy: 0.8237 - loss: nan - val_accuracy: 0.8278 - val_loss: nan\n",
      "Epoch 5/50\n",
      "\u001b[1m548/548\u001b[0m \u001b[32m━━━━━━━━━━━━━━━━━━━━\u001b[0m\u001b[37m\u001b[0m \u001b[1m1s\u001b[0m 2ms/step - accuracy: 0.8313 - loss: nan - val_accuracy: 0.8278 - val_loss: nan\n",
      "Epoch 6/50\n",
      "\u001b[1m548/548\u001b[0m \u001b[32m━━━━━━━━━━━━━━━━━━━━\u001b[0m\u001b[37m\u001b[0m \u001b[1m1s\u001b[0m 2ms/step - accuracy: 0.8301 - loss: nan - val_accuracy: 0.8278 - val_loss: nan\n",
      "Epoch 7/50\n",
      "\u001b[1m548/548\u001b[0m \u001b[32m━━━━━━━━━━━━━━━━━━━━\u001b[0m\u001b[37m\u001b[0m \u001b[1m1s\u001b[0m 2ms/step - accuracy: 0.8284 - loss: nan - val_accuracy: 0.8278 - val_loss: nan\n",
      "Epoch 8/50\n",
      "\u001b[1m548/548\u001b[0m \u001b[32m━━━━━━━━━━━━━━━━━━━━\u001b[0m\u001b[37m\u001b[0m \u001b[1m1s\u001b[0m 2ms/step - accuracy: 0.8196 - loss: nan - val_accuracy: 0.8278 - val_loss: nan\n",
      "Epoch 9/50\n",
      "\u001b[1m548/548\u001b[0m \u001b[32m━━━━━━━━━━━━━━━━━━━━\u001b[0m\u001b[37m\u001b[0m \u001b[1m1s\u001b[0m 2ms/step - accuracy: 0.8276 - loss: nan - val_accuracy: 0.8278 - val_loss: nan\n",
      "Epoch 10/50\n",
      "\u001b[1m548/548\u001b[0m \u001b[32m━━━━━━━━━━━━━━━━━━━━\u001b[0m\u001b[37m\u001b[0m \u001b[1m1s\u001b[0m 2ms/step - accuracy: 0.8288 - loss: nan - val_accuracy: 0.8278 - val_loss: nan\n",
      "Epoch 11/50\n",
      "\u001b[1m548/548\u001b[0m \u001b[32m━━━━━━━━━━━━━━━━━━━━\u001b[0m\u001b[37m\u001b[0m \u001b[1m1s\u001b[0m 2ms/step - accuracy: 0.8329 - loss: nan - val_accuracy: 0.8278 - val_loss: nan\n",
      "Epoch 12/50\n",
      "\u001b[1m548/548\u001b[0m \u001b[32m━━━━━━━━━━━━━━━━━━━━\u001b[0m\u001b[37m\u001b[0m \u001b[1m1s\u001b[0m 2ms/step - accuracy: 0.8275 - loss: nan - val_accuracy: 0.8278 - val_loss: nan\n",
      "Epoch 13/50\n",
      "\u001b[1m548/548\u001b[0m \u001b[32m━━━━━━━━━━━━━━━━━━━━\u001b[0m\u001b[37m\u001b[0m \u001b[1m1s\u001b[0m 2ms/step - accuracy: 0.8285 - loss: nan - val_accuracy: 0.8278 - val_loss: nan\n",
      "Epoch 14/50\n",
      "\u001b[1m548/548\u001b[0m \u001b[32m━━━━━━━━━━━━━━━━━━━━\u001b[0m\u001b[37m\u001b[0m \u001b[1m1s\u001b[0m 2ms/step - accuracy: 0.8248 - loss: nan - val_accuracy: 0.8278 - val_loss: nan\n",
      "Epoch 15/50\n",
      "\u001b[1m548/548\u001b[0m \u001b[32m━━━━━━━━━━━━━━━━━━━━\u001b[0m\u001b[37m\u001b[0m \u001b[1m1s\u001b[0m 2ms/step - accuracy: 0.8266 - loss: nan - val_accuracy: 0.8278 - val_loss: nan\n",
      "Epoch 16/50\n",
      "\u001b[1m548/548\u001b[0m \u001b[32m━━━━━━━━━━━━━━━━━━━━\u001b[0m\u001b[37m\u001b[0m \u001b[1m1s\u001b[0m 2ms/step - accuracy: 0.8279 - loss: nan - val_accuracy: 0.8278 - val_loss: nan\n",
      "Epoch 17/50\n",
      "\u001b[1m548/548\u001b[0m \u001b[32m━━━━━━━━━━━━━━━━━━━━\u001b[0m\u001b[37m\u001b[0m \u001b[1m1s\u001b[0m 2ms/step - accuracy: 0.8321 - loss: nan - val_accuracy: 0.8278 - val_loss: nan\n",
      "Epoch 18/50\n",
      "\u001b[1m548/548\u001b[0m \u001b[32m━━━━━━━━━━━━━━━━━━━━\u001b[0m\u001b[37m\u001b[0m \u001b[1m1s\u001b[0m 2ms/step - accuracy: 0.8265 - loss: nan - val_accuracy: 0.8278 - val_loss: nan\n",
      "Epoch 19/50\n",
      "\u001b[1m548/548\u001b[0m \u001b[32m━━━━━━━━━━━━━━━━━━━━\u001b[0m\u001b[37m\u001b[0m \u001b[1m1s\u001b[0m 2ms/step - accuracy: 0.8265 - loss: nan - val_accuracy: 0.8278 - val_loss: nan\n",
      "Epoch 20/50\n",
      "\u001b[1m548/548\u001b[0m \u001b[32m━━━━━━━━━━━━━━━━━━━━\u001b[0m\u001b[37m\u001b[0m \u001b[1m1s\u001b[0m 2ms/step - accuracy: 0.8275 - loss: nan - val_accuracy: 0.8278 - val_loss: nan\n",
      "Epoch 21/50\n",
      "\u001b[1m548/548\u001b[0m \u001b[32m━━━━━━━━━━━━━━━━━━━━\u001b[0m\u001b[37m\u001b[0m \u001b[1m1s\u001b[0m 2ms/step - accuracy: 0.8307 - loss: nan - val_accuracy: 0.8278 - val_loss: nan\n",
      "Epoch 22/50\n",
      "\u001b[1m548/548\u001b[0m \u001b[32m━━━━━━━━━━━━━━━━━━━━\u001b[0m\u001b[37m\u001b[0m \u001b[1m1s\u001b[0m 2ms/step - accuracy: 0.8277 - loss: nan - val_accuracy: 0.8278 - val_loss: nan\n",
      "Epoch 23/50\n",
      "\u001b[1m548/548\u001b[0m \u001b[32m━━━━━━━━━━━━━━━━━━━━\u001b[0m\u001b[37m\u001b[0m \u001b[1m1s\u001b[0m 2ms/step - accuracy: 0.8288 - loss: nan - val_accuracy: 0.8278 - val_loss: nan\n",
      "Epoch 24/50\n",
      "\u001b[1m548/548\u001b[0m \u001b[32m━━━━━━━━━━━━━━━━━━━━\u001b[0m\u001b[37m\u001b[0m \u001b[1m1s\u001b[0m 2ms/step - accuracy: 0.8315 - loss: nan - val_accuracy: 0.8278 - val_loss: nan\n",
      "Epoch 25/50\n",
      "\u001b[1m548/548\u001b[0m \u001b[32m━━━━━━━━━━━━━━━━━━━━\u001b[0m\u001b[37m\u001b[0m \u001b[1m1s\u001b[0m 2ms/step - accuracy: 0.8261 - loss: nan - val_accuracy: 0.8278 - val_loss: nan\n",
      "Epoch 26/50\n",
      "\u001b[1m548/548\u001b[0m \u001b[32m━━━━━━━━━━━━━━━━━━━━\u001b[0m\u001b[37m\u001b[0m \u001b[1m1s\u001b[0m 2ms/step - accuracy: 0.8253 - loss: nan - val_accuracy: 0.8278 - val_loss: nan\n",
      "Epoch 27/50\n",
      "\u001b[1m548/548\u001b[0m \u001b[32m━━━━━━━━━━━━━━━━━━━━\u001b[0m\u001b[37m\u001b[0m \u001b[1m1s\u001b[0m 3ms/step - accuracy: 0.8263 - loss: nan - val_accuracy: 0.8278 - val_loss: nan\n",
      "Epoch 28/50\n",
      "\u001b[1m548/548\u001b[0m \u001b[32m━━━━━━━━━━━━━━━━━━━━\u001b[0m\u001b[37m\u001b[0m \u001b[1m1s\u001b[0m 2ms/step - accuracy: 0.8250 - loss: nan - val_accuracy: 0.8278 - val_loss: nan\n",
      "Epoch 29/50\n",
      "\u001b[1m548/548\u001b[0m \u001b[32m━━━━━━━━━━━━━━━━━━━━\u001b[0m\u001b[37m\u001b[0m \u001b[1m1s\u001b[0m 2ms/step - accuracy: 0.8235 - loss: nan - val_accuracy: 0.8278 - val_loss: nan\n",
      "Epoch 30/50\n",
      "\u001b[1m548/548\u001b[0m \u001b[32m━━━━━━━━━━━━━━━━━━━━\u001b[0m\u001b[37m\u001b[0m \u001b[1m1s\u001b[0m 2ms/step - accuracy: 0.8250 - loss: nan - val_accuracy: 0.8278 - val_loss: nan\n",
      "Epoch 31/50\n",
      "\u001b[1m548/548\u001b[0m \u001b[32m━━━━━━━━━━━━━━━━━━━━\u001b[0m\u001b[37m\u001b[0m \u001b[1m1s\u001b[0m 2ms/step - accuracy: 0.8256 - loss: nan - val_accuracy: 0.8278 - val_loss: nan\n",
      "Epoch 32/50\n",
      "\u001b[1m548/548\u001b[0m \u001b[32m━━━━━━━━━━━━━━━━━━━━\u001b[0m\u001b[37m\u001b[0m \u001b[1m1s\u001b[0m 3ms/step - accuracy: 0.8278 - loss: nan - val_accuracy: 0.8278 - val_loss: nan\n",
      "Epoch 33/50\n",
      "\u001b[1m548/548\u001b[0m \u001b[32m━━━━━━━━━━━━━━━━━━━━\u001b[0m\u001b[37m\u001b[0m \u001b[1m2s\u001b[0m 3ms/step - accuracy: 0.8322 - loss: nan - val_accuracy: 0.8278 - val_loss: nan\n",
      "Epoch 34/50\n",
      "\u001b[1m548/548\u001b[0m \u001b[32m━━━━━━━━━━━━━━━━━━━━\u001b[0m\u001b[37m\u001b[0m \u001b[1m2s\u001b[0m 4ms/step - accuracy: 0.8324 - loss: nan - val_accuracy: 0.8278 - val_loss: nan\n",
      "Epoch 35/50\n",
      "\u001b[1m548/548\u001b[0m \u001b[32m━━━━━━━━━━━━━━━━━━━━\u001b[0m\u001b[37m\u001b[0m \u001b[1m2s\u001b[0m 4ms/step - accuracy: 0.8352 - loss: nan - val_accuracy: 0.8278 - val_loss: nan\n",
      "Epoch 36/50\n",
      "\u001b[1m548/548\u001b[0m \u001b[32m━━━━━━━━━━━━━━━━━━━━\u001b[0m\u001b[37m\u001b[0m \u001b[1m2s\u001b[0m 4ms/step - accuracy: 0.8239 - loss: nan - val_accuracy: 0.8278 - val_loss: nan\n",
      "Epoch 37/50\n",
      "\u001b[1m548/548\u001b[0m \u001b[32m━━━━━━━━━━━━━━━━━━━━\u001b[0m\u001b[37m\u001b[0m \u001b[1m2s\u001b[0m 4ms/step - accuracy: 0.8306 - loss: nan - val_accuracy: 0.8278 - val_loss: nan\n",
      "Epoch 38/50\n",
      "\u001b[1m548/548\u001b[0m \u001b[32m━━━━━━━━━━━━━━━━━━━━\u001b[0m\u001b[37m\u001b[0m \u001b[1m2s\u001b[0m 3ms/step - accuracy: 0.8266 - loss: nan - val_accuracy: 0.8278 - val_loss: nan\n",
      "Epoch 39/50\n",
      "\u001b[1m548/548\u001b[0m \u001b[32m━━━━━━━━━━━━━━━━━━━━\u001b[0m\u001b[37m\u001b[0m \u001b[1m1s\u001b[0m 2ms/step - accuracy: 0.8243 - loss: nan - val_accuracy: 0.8278 - val_loss: nan\n",
      "Epoch 40/50\n",
      "\u001b[1m548/548\u001b[0m \u001b[32m━━━━━━━━━━━━━━━━━━━━\u001b[0m\u001b[37m\u001b[0m \u001b[1m1s\u001b[0m 2ms/step - accuracy: 0.8299 - loss: nan - val_accuracy: 0.8278 - val_loss: nan\n",
      "Epoch 41/50\n",
      "\u001b[1m548/548\u001b[0m \u001b[32m━━━━━━━━━━━━━━━━━━━━\u001b[0m\u001b[37m\u001b[0m \u001b[1m1s\u001b[0m 2ms/step - accuracy: 0.8238 - loss: nan - val_accuracy: 0.8278 - val_loss: nan\n",
      "Epoch 42/50\n",
      "\u001b[1m548/548\u001b[0m \u001b[32m━━━━━━━━━━━━━━━━━━━━\u001b[0m\u001b[37m\u001b[0m \u001b[1m1s\u001b[0m 2ms/step - accuracy: 0.8234 - loss: nan - val_accuracy: 0.8278 - val_loss: nan\n",
      "Epoch 43/50\n",
      "\u001b[1m548/548\u001b[0m \u001b[32m━━━━━━━━━━━━━━━━━━━━\u001b[0m\u001b[37m\u001b[0m \u001b[1m1s\u001b[0m 2ms/step - accuracy: 0.8251 - loss: nan - val_accuracy: 0.8278 - val_loss: nan\n",
      "Epoch 44/50\n",
      "\u001b[1m548/548\u001b[0m \u001b[32m━━━━━━━━━━━━━━━━━━━━\u001b[0m\u001b[37m\u001b[0m \u001b[1m1s\u001b[0m 2ms/step - accuracy: 0.8282 - loss: nan - val_accuracy: 0.8278 - val_loss: nan\n",
      "Epoch 45/50\n",
      "\u001b[1m548/548\u001b[0m \u001b[32m━━━━━━━━━━━━━━━━━━━━\u001b[0m\u001b[37m\u001b[0m \u001b[1m1s\u001b[0m 3ms/step - accuracy: 0.8251 - loss: nan - val_accuracy: 0.8278 - val_loss: nan\n",
      "Epoch 46/50\n",
      "\u001b[1m548/548\u001b[0m \u001b[32m━━━━━━━━━━━━━━━━━━━━\u001b[0m\u001b[37m\u001b[0m \u001b[1m1s\u001b[0m 3ms/step - accuracy: 0.8261 - loss: nan - val_accuracy: 0.8278 - val_loss: nan\n",
      "Epoch 47/50\n",
      "\u001b[1m548/548\u001b[0m \u001b[32m━━━━━━━━━━━━━━━━━━━━\u001b[0m\u001b[37m\u001b[0m \u001b[1m2s\u001b[0m 3ms/step - accuracy: 0.8257 - loss: nan - val_accuracy: 0.8278 - val_loss: nan\n",
      "Epoch 48/50\n",
      "\u001b[1m548/548\u001b[0m \u001b[32m━━━━━━━━━━━━━━━━━━━━\u001b[0m\u001b[37m\u001b[0m \u001b[1m2s\u001b[0m 3ms/step - accuracy: 0.8278 - loss: nan - val_accuracy: 0.8278 - val_loss: nan\n",
      "Epoch 49/50\n",
      "\u001b[1m548/548\u001b[0m \u001b[32m━━━━━━━━━━━━━━━━━━━━\u001b[0m\u001b[37m\u001b[0m \u001b[1m2s\u001b[0m 3ms/step - accuracy: 0.8235 - loss: nan - val_accuracy: 0.8278 - val_loss: nan\n",
      "Epoch 50/50\n",
      "\u001b[1m548/548\u001b[0m \u001b[32m━━━━━━━━━━━━━━━━━━━━\u001b[0m\u001b[37m\u001b[0m \u001b[1m2s\u001b[0m 3ms/step - accuracy: 0.8229 - loss: nan - val_accuracy: 0.8278 - val_loss: nan\n",
      "\u001b[1m137/137\u001b[0m \u001b[32m━━━━━━━━━━━━━━━━━━━━\u001b[0m\u001b[37m\u001b[0m \u001b[1m0s\u001b[0m 1ms/step - accuracy: 0.8340 - loss: nan\n",
      "Test accuracy: 0.83\n"
     ]
    }
   ],
   "source": [
    "# Create Our own neural network model\n",
    "model1 = Sequential()\n",
    "model1.add(Dense(256, activation = 'relu', input_shape=(X_train2.shape[1],)))\n",
    "model1.add(Dense(128, activation='relu'))\n",
    "model1.add(Dense(128, activation='relu'))\n",
    "model1.add(Dense(128, activation='relu'))\n",
    "model1.add(Dense(128, activation='relu'))\n",
    "model1.add(Dense(128, activation='relu'))\n",
    "model1.add(Dense(64, activation='relu'))\n",
    "model1.add(Dense(64, activation='relu'))\n",
    "model1.add(Dense(64, activation='relu'))\n",
    "model1.add(Dense(64, activation='relu'))\n",
    "model1.add(Dense(32, activation='relu'))\n",
    "model1.add(Dense(32, activation='relu'))\n",
    "model1.add(Dense(32, activation='relu'))\n",
    "model1.add(Dense(1, activation='sigmoid'))\n",
    "\n",
    "# Compile the model\n",
    "model1.compile(loss='categorical_crossentropy', optimizer='adam', metrics=['accuracy'])\n",
    "\n",
    "# Train the model\n",
    "model1.fit(X_train2, y_train2, epochs=50, batch_size=32, validation_data=(X_test2, y_test2))\n",
    "\n",
    "# Evaluate the model\n",
    "loss, accuracy = model1.evaluate(X_test2, y_test2)\n",
    "print(f'Test accuracy: {accuracy:.2f}')"
   ]
  },
  {
   "cell_type": "code",
   "execution_count": 77,
   "id": "5c6ef1ef-357f-43c6-bc1a-6c3c97f44d7f",
   "metadata": {},
   "outputs": [
    {
     "name": "stdout",
     "output_type": "stream",
     "text": [
      "\u001b[1m137/137\u001b[0m \u001b[32m━━━━━━━━━━━━━━━━━━━━\u001b[0m\u001b[37m\u001b[0m \u001b[1m1s\u001b[0m 3ms/step\n",
      "              precision    recall  f1-score   support\n",
      "\n",
      "         0.0       0.83      1.00      0.91      3625\n",
      "         1.0       0.00      0.00      0.00       106\n",
      "         2.0       0.00      0.00      0.00       289\n",
      "         3.0       0.00      0.00      0.00        35\n",
      "         4.0       0.00      0.00      0.00       324\n",
      "\n",
      "    accuracy                           0.83      4379\n",
      "   macro avg       0.17      0.20      0.18      4379\n",
      "weighted avg       0.69      0.83      0.75      4379\n",
      "\n"
     ]
    }
   ],
   "source": [
    "# Evaluate the model\n",
    "y_pred = (model1.predict(X_test2) > 0.5).astype(\"int32\")\n",
    "\n",
    "# Generate the classification report\n",
    "report = classification_report(y_test2, y_pred)\n",
    "\n",
    "# Print the classification report\n",
    "print(report)"
   ]
  },
  {
   "cell_type": "code",
   "execution_count": null,
   "id": "f3d46e04-76aa-469a-a3fa-5d66a718d990",
   "metadata": {},
   "outputs": [],
   "source": []
  },
  {
   "cell_type": "code",
   "execution_count": null,
   "id": "b9105114-2d2c-4beb-9fe4-fe5a6d0a5496",
   "metadata": {},
   "outputs": [],
   "source": []
  },
  {
   "cell_type": "code",
   "execution_count": null,
   "id": "47cdd667-408b-48d0-a9f7-ef0abe71624b",
   "metadata": {},
   "outputs": [],
   "source": []
  },
  {
   "cell_type": "code",
   "execution_count": null,
   "id": "1c3d82b2-1031-4116-9fc7-b09c28f9f655",
   "metadata": {},
   "outputs": [],
   "source": []
  },
  {
   "cell_type": "code",
   "execution_count": null,
   "id": "ac1e5057-ad61-4c6a-aa99-ad5afb3b29c2",
   "metadata": {},
   "outputs": [],
   "source": []
  },
  {
   "cell_type": "code",
   "execution_count": null,
   "id": "db718c4e-f388-471c-8d0f-545beee94e51",
   "metadata": {},
   "outputs": [],
   "source": []
  },
  {
   "cell_type": "code",
   "execution_count": null,
   "id": "4d80c546-4fc5-4342-8dc3-4a6ab3e068fc",
   "metadata": {},
   "outputs": [],
   "source": []
  },
  {
   "cell_type": "code",
   "execution_count": null,
   "id": "6e749213-1559-4e10-a904-6864fc5beed8",
   "metadata": {},
   "outputs": [],
   "source": []
  },
  {
   "cell_type": "code",
   "execution_count": null,
   "id": "1ff29e4a-42fc-4a86-bb43-2002b08138ca",
   "metadata": {},
   "outputs": [],
   "source": []
  },
  {
   "cell_type": "code",
   "execution_count": null,
   "id": "cffa2195-b31d-496f-85f1-41638f78d55a",
   "metadata": {},
   "outputs": [],
   "source": []
  },
  {
   "cell_type": "code",
   "execution_count": null,
   "id": "07a83174-7404-4d16-a3fa-80761e52541e",
   "metadata": {},
   "outputs": [],
   "source": []
  },
  {
   "cell_type": "code",
   "execution_count": null,
   "id": "88d49258-5b58-4208-ac4b-768e6f42b9d1",
   "metadata": {},
   "outputs": [],
   "source": []
  },
  {
   "cell_type": "code",
   "execution_count": null,
   "id": "bcddd504-65bd-4961-b13c-7e4479c8c294",
   "metadata": {},
   "outputs": [],
   "source": []
  },
  {
   "cell_type": "code",
   "execution_count": null,
   "id": "c21e879b-a906-491c-a3ca-8821a7edb8f0",
   "metadata": {},
   "outputs": [],
   "source": []
  },
  {
   "cell_type": "code",
   "execution_count": null,
   "id": "aee1f6fd-fe64-4db3-bc81-14ea62f14b14",
   "metadata": {},
   "outputs": [],
   "source": []
  },
  {
   "cell_type": "code",
   "execution_count": null,
   "id": "d6532b9c-617c-4bc3-bcfb-9c62a7bf1766",
   "metadata": {},
   "outputs": [],
   "source": []
  },
  {
   "cell_type": "code",
   "execution_count": null,
   "id": "002717f3-8254-4c13-9eb2-e12a9e71e72a",
   "metadata": {},
   "outputs": [],
   "source": []
  },
  {
   "cell_type": "code",
   "execution_count": null,
   "id": "4a89e15a-fcbe-490e-b9bc-f79a5ba45bef",
   "metadata": {},
   "outputs": [],
   "source": []
  },
  {
   "cell_type": "code",
   "execution_count": null,
   "id": "29b2dfc4-55a0-4ffb-9cc1-0dd8234a8e1c",
   "metadata": {},
   "outputs": [],
   "source": []
  },
  {
   "cell_type": "code",
   "execution_count": null,
   "id": "30bdba21-c1ae-4c4c-a174-1dfa68475e0d",
   "metadata": {},
   "outputs": [],
   "source": []
  },
  {
   "cell_type": "code",
   "execution_count": null,
   "id": "8ae5102a-b281-466c-9e02-36ca060630b6",
   "metadata": {},
   "outputs": [],
   "source": []
  },
  {
   "cell_type": "code",
   "execution_count": null,
   "id": "83aa2b05-a4ac-49c3-bb4d-45c134cf5a8c",
   "metadata": {},
   "outputs": [],
   "source": []
  },
  {
   "cell_type": "code",
   "execution_count": null,
   "id": "25de599f-3dbd-447a-9cf8-1677929d1b6f",
   "metadata": {},
   "outputs": [],
   "source": []
  },
  {
   "cell_type": "code",
   "execution_count": null,
   "id": "0510f8c4-1153-48d6-a37c-0725d5dd56ed",
   "metadata": {},
   "outputs": [],
   "source": []
  },
  {
   "cell_type": "code",
   "execution_count": null,
   "id": "9f5b0c9b-b5c9-4055-802b-f2a3581e5a75",
   "metadata": {},
   "outputs": [],
   "source": []
  }
 ],
 "metadata": {
  "kernelspec": {
   "display_name": "Python 3 (ipykernel)",
   "language": "python",
   "name": "python3"
  },
  "language_info": {
   "codemirror_mode": {
    "name": "ipython",
    "version": 3
   },
   "file_extension": ".py",
   "mimetype": "text/x-python",
   "name": "python",
   "nbconvert_exporter": "python",
   "pygments_lexer": "ipython3",
   "version": "3.11.7"
  }
 },
 "nbformat": 4,
 "nbformat_minor": 5
}
